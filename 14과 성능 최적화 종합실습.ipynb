{
 "cells": [
  {
   "cell_type": "markdown",
   "metadata": {
    "id": "cVB9pY-v8uv5"
   },
   "source": [
    "# 성능 최적화 종합실습 : Car seat sales\n",
    "유아용 카시트 매출액을 예측해 봅시다."
   ]
  },
  {
   "cell_type": "markdown",
   "metadata": {
    "id": "QB2bBgnB8NM7"
   },
   "source": [
    "* 카시트에 대해서 지역 매장 별 매출액을 예측하고자 합니다."
   ]
  },
  {
   "cell_type": "markdown",
   "metadata": {
    "id": "7usNzsAVsGbi"
   },
   "source": [
    "![](https://cdn.images.express.co.uk/img/dynamic/24/590x/child-car-seat-986556.jpg?r=1532946857754)"
   ]
  },
  {
   "cell_type": "markdown",
   "metadata": {
    "id": "jnCv9u_Wy9e1"
   },
   "source": [
    "## 1.환경준비"
   ]
  },
  {
   "cell_type": "markdown",
   "metadata": {
    "id": "O1uL0UIEzBPw"
   },
   "source": [
    "### (1) Import"
   ]
  },
  {
   "cell_type": "code",
   "execution_count": 1,
   "metadata": {
    "id": "GVvCef6A8uv6"
   },
   "outputs": [],
   "source": [
    "#라이브러리들을 불러오자.\n",
    "import numpy as np\n",
    "import pandas as pd\n",
    "import matplotlib.pyplot as plt\n",
    "import seaborn as sns\n",
    "\n",
    "# 전처리\n",
    "from sklearn.model_selection import train_test_split\n",
    "from sklearn.preprocessing import MinMaxScaler\n",
    "\n",
    "# 모델링\n",
    "from sklearn.linear_model import LinearRegression\n",
    "from sklearn.tree import DecisionTreeRegressor, plot_tree\n",
    "from sklearn.neighbors import KNeighborsRegressor\n",
    "from sklearn.svm import SVR\n",
    "from sklearn.ensemble import RandomForestRegressor\n",
    "from xgboost import XGBRegressor\n",
    "from sklearn.metrics import * \n",
    "\n",
    "from sklearn.model_selection import GridSearchCV, RandomizedSearchCV\n",
    "\n",
    "import warnings\n",
    "warnings.filterwarnings(action='ignore')"
   ]
  },
  {
   "cell_type": "markdown",
   "metadata": {
    "id": "tbF-PXYPNsLH"
   },
   "source": [
    "### (2) 함수 생성"
   ]
  },
  {
   "cell_type": "markdown",
   "metadata": {
    "id": "lvfEuLRcORwq"
   },
   "source": [
    "* 선형회귀용 전진선택법"
   ]
  },
  {
   "cell_type": "code",
   "execution_count": 2,
   "metadata": {
    "id": "5dDT4VdvODZL"
   },
   "outputs": [],
   "source": [
    "from statsmodels.regression.linear_model import OLS\n",
    "from statsmodels.tools import add_constant\n",
    "\n",
    "def forward_stepwise_linear(x_train, y_train):\n",
    "\n",
    "    # 변수목록, 선택된 변수 목록, 단계별 모델과 AIC 저장소 정의\n",
    "    features = list(x_train)\n",
    "    selected = []\n",
    "    step_df = pd.DataFrame({ 'step':[], 'feature':[],'aic':[]})\n",
    "\n",
    "    # \n",
    "    for s in range(0, len(features)) :\n",
    "        result =  { 'step':[], 'feature':[],'aic':[]}\n",
    "\n",
    "        # 변수 목록에서 변수 한개씩 뽑아서 모델에 추가 disp=False 시 로그가 안나옴\n",
    "        for f in features :\n",
    "            vars = selected + [f]\n",
    "            x_tr = x_train[vars]\n",
    "            model = OLS(y_train, add_constant(x_tr)).fit(disp=False)\n",
    "            result['step'].append(s+1)\n",
    "            result['feature'].append(vars)\n",
    "            result['aic'].append(model.aic)\n",
    "        \n",
    "        # 모델별 aic 집계\n",
    "        temp = pd.DataFrame(result).sort_values('aic').reset_index(drop = True)\n",
    "\n",
    "        # 만약 이전 aic보다 새로운 aic 가 크다면 멈추기\n",
    "        if step_df['aic'].min() < temp['aic'].min() :\n",
    "            break\n",
    "        step_df = pd.concat([step_df, temp], axis = 0).reset_index(drop = True)\n",
    "\n",
    "        # 선택된 변수 제거\n",
    "        v = temp.loc[0,'feature'][s]\n",
    "        features.remove(v)\n",
    "\n",
    "        selected.append(v)\n",
    "    \n",
    "    # 선택된 변수와 step_df 결과 반환\n",
    "    return selected, step_df"
   ]
  },
  {
   "cell_type": "markdown",
   "metadata": {
    "id": "K6E7oZ3jOYMP"
   },
   "source": [
    "* 변수 중요도 그래프"
   ]
  },
  {
   "cell_type": "code",
   "execution_count": 3,
   "metadata": {
    "id": "HP-O8kwyObYQ"
   },
   "outputs": [],
   "source": [
    "def plot_feature_importance(importance, names):\n",
    "    feature_importance = np.array(importance)\n",
    "    feature_names = np.array(names)\n",
    "\n",
    "    data={'feature_names':feature_names,'feature_importance':feature_importance}\n",
    "    fi_df = pd.DataFrame(data)\n",
    "\n",
    "    fi_df.sort_values(by=['feature_importance'], ascending=False,inplace=True)\n",
    "    fi_df.reset_index(drop=True, inplace = True)\n",
    "\n",
    "    plt.figure(figsize=(10,8))\n",
    "    sns.barplot(x='feature_importance', y='feature_names', data = fi_df)\n",
    "\n",
    "    plt.xlabel('FEATURE IMPORTANCE')\n",
    "    plt.ylabel('FEATURE NAMES')\n",
    "    plt.grid()\n",
    "\n",
    "    return fi_df"
   ]
  },
  {
   "cell_type": "markdown",
   "metadata": {
    "id": "VHy5s1OOzItm"
   },
   "source": [
    "### (3) Data Loading"
   ]
  },
  {
   "cell_type": "code",
   "execution_count": 4,
   "metadata": {
    "id": "3GgFpOB4zQ7h"
   },
   "outputs": [],
   "source": [
    "data_path = 'https://raw.githubusercontent.com/DA4BAM/dataset/master/Carseats.csv'\n",
    "data = pd.read_csv(data_path)"
   ]
  },
  {
   "cell_type": "markdown",
   "metadata": {
    "id": "xMx9y0a0MBZ2"
   },
   "source": [
    "**변수설명**\n",
    "> * Sales - 각 지역 판매량(단위 : 1000개) <== Target\n",
    "* CompPrice - 각 지역 경쟁사 가격\n",
    "* Income - 각 지역 평균 소득수준(단위 : 1000달러)\n",
    "* Advertising - 각 지역, 회사의 광고 예산(단위 : 1000달러)\n",
    "* Population - 지역 인구수(단위 : 1000명)\n",
    "* Price - 자사 지역별 판매가격\n",
    "* ShelveLoc - 진열상태\n",
    "* Age - 지역 인구의 평균 연령\n",
    "* Education - 각 지역 교육수준 레벨\n",
    "* Urban - 매장 도시 지역 여부\n",
    "* US - 매장이 미국에 있는지 여부"
   ]
  },
  {
   "cell_type": "markdown",
   "metadata": {
    "id": "2IryAx_7NpPZ"
   },
   "source": []
  },
  {
   "cell_type": "markdown",
   "metadata": {
    "id": "ZJOddHq2zfcU"
   },
   "source": [
    "## 2.데이터 이해"
   ]
  },
  {
   "cell_type": "markdown",
   "metadata": {
    "id": "Vqr7zY5r8uwC"
   },
   "source": [
    "* 둘러보기"
   ]
  },
  {
   "cell_type": "code",
   "execution_count": 5,
   "metadata": {
    "id": "E64acu1xPqLU"
   },
   "outputs": [
    {
     "data": {
      "text/html": [
       "<div>\n",
       "<style scoped>\n",
       "    .dataframe tbody tr th:only-of-type {\n",
       "        vertical-align: middle;\n",
       "    }\n",
       "\n",
       "    .dataframe tbody tr th {\n",
       "        vertical-align: top;\n",
       "    }\n",
       "\n",
       "    .dataframe thead th {\n",
       "        text-align: right;\n",
       "    }\n",
       "</style>\n",
       "<table border=\"1\" class=\"dataframe\">\n",
       "  <thead>\n",
       "    <tr style=\"text-align: right;\">\n",
       "      <th></th>\n",
       "      <th>Sales</th>\n",
       "      <th>CompPrice</th>\n",
       "      <th>Income</th>\n",
       "      <th>Advertising</th>\n",
       "      <th>Population</th>\n",
       "      <th>Price</th>\n",
       "      <th>ShelveLoc</th>\n",
       "      <th>Age</th>\n",
       "      <th>Education</th>\n",
       "      <th>Urban</th>\n",
       "      <th>US</th>\n",
       "    </tr>\n",
       "  </thead>\n",
       "  <tbody>\n",
       "    <tr>\n",
       "      <th>0</th>\n",
       "      <td>9.50</td>\n",
       "      <td>138</td>\n",
       "      <td>73</td>\n",
       "      <td>11</td>\n",
       "      <td>276</td>\n",
       "      <td>120</td>\n",
       "      <td>Bad</td>\n",
       "      <td>42</td>\n",
       "      <td>17</td>\n",
       "      <td>Yes</td>\n",
       "      <td>Yes</td>\n",
       "    </tr>\n",
       "    <tr>\n",
       "      <th>1</th>\n",
       "      <td>11.22</td>\n",
       "      <td>111</td>\n",
       "      <td>48</td>\n",
       "      <td>16</td>\n",
       "      <td>260</td>\n",
       "      <td>83</td>\n",
       "      <td>Good</td>\n",
       "      <td>65</td>\n",
       "      <td>10</td>\n",
       "      <td>Yes</td>\n",
       "      <td>Yes</td>\n",
       "    </tr>\n",
       "    <tr>\n",
       "      <th>2</th>\n",
       "      <td>10.06</td>\n",
       "      <td>113</td>\n",
       "      <td>35</td>\n",
       "      <td>10</td>\n",
       "      <td>269</td>\n",
       "      <td>80</td>\n",
       "      <td>Medium</td>\n",
       "      <td>59</td>\n",
       "      <td>12</td>\n",
       "      <td>Yes</td>\n",
       "      <td>Yes</td>\n",
       "    </tr>\n",
       "    <tr>\n",
       "      <th>3</th>\n",
       "      <td>7.40</td>\n",
       "      <td>117</td>\n",
       "      <td>100</td>\n",
       "      <td>4</td>\n",
       "      <td>466</td>\n",
       "      <td>97</td>\n",
       "      <td>Medium</td>\n",
       "      <td>55</td>\n",
       "      <td>14</td>\n",
       "      <td>Yes</td>\n",
       "      <td>Yes</td>\n",
       "    </tr>\n",
       "    <tr>\n",
       "      <th>4</th>\n",
       "      <td>4.15</td>\n",
       "      <td>141</td>\n",
       "      <td>64</td>\n",
       "      <td>3</td>\n",
       "      <td>340</td>\n",
       "      <td>128</td>\n",
       "      <td>Bad</td>\n",
       "      <td>38</td>\n",
       "      <td>13</td>\n",
       "      <td>Yes</td>\n",
       "      <td>No</td>\n",
       "    </tr>\n",
       "  </tbody>\n",
       "</table>\n",
       "</div>"
      ],
      "text/plain": [
       "   Sales  CompPrice  Income  Advertising  Population  Price ShelveLoc  Age  \\\n",
       "0   9.50        138      73           11         276    120       Bad   42   \n",
       "1  11.22        111      48           16         260     83      Good   65   \n",
       "2  10.06        113      35           10         269     80    Medium   59   \n",
       "3   7.40        117     100            4         466     97    Medium   55   \n",
       "4   4.15        141      64            3         340    128       Bad   38   \n",
       "\n",
       "   Education Urban   US  \n",
       "0         17   Yes  Yes  \n",
       "1         10   Yes  Yes  \n",
       "2         12   Yes  Yes  \n",
       "3         14   Yes  Yes  \n",
       "4         13   Yes   No  "
      ]
     },
     "execution_count": 5,
     "metadata": {},
     "output_type": "execute_result"
    }
   ],
   "source": [
    "data.head()"
   ]
  },
  {
   "cell_type": "markdown",
   "metadata": {
    "id": "wW0d0eGmCYJM"
   },
   "source": [
    "## 3.데이터 준비"
   ]
  },
  {
   "cell_type": "markdown",
   "metadata": {
    "id": "y9Q6jR6OZjUk"
   },
   "source": [
    "### (1) 데이터 정리"
   ]
  },
  {
   "cell_type": "code",
   "execution_count": 6,
   "metadata": {
    "id": "vSPUmHLyNLbD"
   },
   "outputs": [],
   "source": [
    "data['Diff_Price'] = data['CompPrice'] - data['Price']\n",
    "data.drop('CompPrice', axis = 1, inplace = True)"
   ]
  },
  {
   "cell_type": "code",
   "execution_count": 7,
   "metadata": {},
   "outputs": [
    {
     "data": {
      "text/html": [
       "<div>\n",
       "<style scoped>\n",
       "    .dataframe tbody tr th:only-of-type {\n",
       "        vertical-align: middle;\n",
       "    }\n",
       "\n",
       "    .dataframe tbody tr th {\n",
       "        vertical-align: top;\n",
       "    }\n",
       "\n",
       "    .dataframe thead th {\n",
       "        text-align: right;\n",
       "    }\n",
       "</style>\n",
       "<table border=\"1\" class=\"dataframe\">\n",
       "  <thead>\n",
       "    <tr style=\"text-align: right;\">\n",
       "      <th></th>\n",
       "      <th>Sales</th>\n",
       "      <th>Income</th>\n",
       "      <th>Advertising</th>\n",
       "      <th>Population</th>\n",
       "      <th>Price</th>\n",
       "      <th>ShelveLoc</th>\n",
       "      <th>Age</th>\n",
       "      <th>Education</th>\n",
       "      <th>Urban</th>\n",
       "      <th>US</th>\n",
       "      <th>Diff_Price</th>\n",
       "    </tr>\n",
       "  </thead>\n",
       "  <tbody>\n",
       "    <tr>\n",
       "      <th>395</th>\n",
       "      <td>12.57</td>\n",
       "      <td>108</td>\n",
       "      <td>17</td>\n",
       "      <td>203</td>\n",
       "      <td>128</td>\n",
       "      <td>Good</td>\n",
       "      <td>33</td>\n",
       "      <td>14</td>\n",
       "      <td>Yes</td>\n",
       "      <td>Yes</td>\n",
       "      <td>10</td>\n",
       "    </tr>\n",
       "    <tr>\n",
       "      <th>396</th>\n",
       "      <td>6.14</td>\n",
       "      <td>23</td>\n",
       "      <td>3</td>\n",
       "      <td>37</td>\n",
       "      <td>120</td>\n",
       "      <td>Medium</td>\n",
       "      <td>55</td>\n",
       "      <td>11</td>\n",
       "      <td>No</td>\n",
       "      <td>Yes</td>\n",
       "      <td>19</td>\n",
       "    </tr>\n",
       "    <tr>\n",
       "      <th>397</th>\n",
       "      <td>7.41</td>\n",
       "      <td>26</td>\n",
       "      <td>12</td>\n",
       "      <td>368</td>\n",
       "      <td>159</td>\n",
       "      <td>Medium</td>\n",
       "      <td>40</td>\n",
       "      <td>18</td>\n",
       "      <td>Yes</td>\n",
       "      <td>Yes</td>\n",
       "      <td>3</td>\n",
       "    </tr>\n",
       "    <tr>\n",
       "      <th>398</th>\n",
       "      <td>5.94</td>\n",
       "      <td>79</td>\n",
       "      <td>7</td>\n",
       "      <td>284</td>\n",
       "      <td>95</td>\n",
       "      <td>Bad</td>\n",
       "      <td>50</td>\n",
       "      <td>12</td>\n",
       "      <td>Yes</td>\n",
       "      <td>Yes</td>\n",
       "      <td>5</td>\n",
       "    </tr>\n",
       "    <tr>\n",
       "      <th>399</th>\n",
       "      <td>9.71</td>\n",
       "      <td>37</td>\n",
       "      <td>0</td>\n",
       "      <td>27</td>\n",
       "      <td>120</td>\n",
       "      <td>Good</td>\n",
       "      <td>49</td>\n",
       "      <td>16</td>\n",
       "      <td>Yes</td>\n",
       "      <td>Yes</td>\n",
       "      <td>14</td>\n",
       "    </tr>\n",
       "  </tbody>\n",
       "</table>\n",
       "</div>"
      ],
      "text/plain": [
       "     Sales  Income  Advertising  Population  Price ShelveLoc  Age  Education  \\\n",
       "395  12.57     108           17         203    128      Good   33         14   \n",
       "396   6.14      23            3          37    120    Medium   55         11   \n",
       "397   7.41      26           12         368    159    Medium   40         18   \n",
       "398   5.94      79            7         284     95       Bad   50         12   \n",
       "399   9.71      37            0          27    120      Good   49         16   \n",
       "\n",
       "    Urban   US  Diff_Price  \n",
       "395   Yes  Yes          10  \n",
       "396    No  Yes          19  \n",
       "397   Yes  Yes           3  \n",
       "398   Yes  Yes           5  \n",
       "399   Yes  Yes          14  "
      ]
     },
     "execution_count": 7,
     "metadata": {},
     "output_type": "execute_result"
    }
   ],
   "source": [
    "data.tail()"
   ]
  },
  {
   "cell_type": "markdown",
   "metadata": {
    "id": "WpJEGpUuuVWm"
   },
   "source": [
    "### (2) 데이터분할1 : x, y 나누기"
   ]
  },
  {
   "cell_type": "code",
   "execution_count": 22,
   "metadata": {
    "id": "N-4Msv8VsQ3R"
   },
   "outputs": [
    {
     "data": {
      "text/html": [
       "<div>\n",
       "<style scoped>\n",
       "    .dataframe tbody tr th:only-of-type {\n",
       "        vertical-align: middle;\n",
       "    }\n",
       "\n",
       "    .dataframe tbody tr th {\n",
       "        vertical-align: top;\n",
       "    }\n",
       "\n",
       "    .dataframe thead th {\n",
       "        text-align: right;\n",
       "    }\n",
       "</style>\n",
       "<table border=\"1\" class=\"dataframe\">\n",
       "  <thead>\n",
       "    <tr style=\"text-align: right;\">\n",
       "      <th></th>\n",
       "      <th>Income</th>\n",
       "      <th>Advertising</th>\n",
       "      <th>Population</th>\n",
       "      <th>Price</th>\n",
       "      <th>ShelveLoc</th>\n",
       "      <th>Age</th>\n",
       "      <th>Education</th>\n",
       "      <th>Urban</th>\n",
       "      <th>US</th>\n",
       "      <th>Diff_Price</th>\n",
       "    </tr>\n",
       "  </thead>\n",
       "  <tbody>\n",
       "    <tr>\n",
       "      <th>395</th>\n",
       "      <td>108</td>\n",
       "      <td>17</td>\n",
       "      <td>203</td>\n",
       "      <td>128</td>\n",
       "      <td>Good</td>\n",
       "      <td>33</td>\n",
       "      <td>14</td>\n",
       "      <td>Yes</td>\n",
       "      <td>Yes</td>\n",
       "      <td>10</td>\n",
       "    </tr>\n",
       "    <tr>\n",
       "      <th>396</th>\n",
       "      <td>23</td>\n",
       "      <td>3</td>\n",
       "      <td>37</td>\n",
       "      <td>120</td>\n",
       "      <td>Medium</td>\n",
       "      <td>55</td>\n",
       "      <td>11</td>\n",
       "      <td>No</td>\n",
       "      <td>Yes</td>\n",
       "      <td>19</td>\n",
       "    </tr>\n",
       "    <tr>\n",
       "      <th>397</th>\n",
       "      <td>26</td>\n",
       "      <td>12</td>\n",
       "      <td>368</td>\n",
       "      <td>159</td>\n",
       "      <td>Medium</td>\n",
       "      <td>40</td>\n",
       "      <td>18</td>\n",
       "      <td>Yes</td>\n",
       "      <td>Yes</td>\n",
       "      <td>3</td>\n",
       "    </tr>\n",
       "    <tr>\n",
       "      <th>398</th>\n",
       "      <td>79</td>\n",
       "      <td>7</td>\n",
       "      <td>284</td>\n",
       "      <td>95</td>\n",
       "      <td>Bad</td>\n",
       "      <td>50</td>\n",
       "      <td>12</td>\n",
       "      <td>Yes</td>\n",
       "      <td>Yes</td>\n",
       "      <td>5</td>\n",
       "    </tr>\n",
       "    <tr>\n",
       "      <th>399</th>\n",
       "      <td>37</td>\n",
       "      <td>0</td>\n",
       "      <td>27</td>\n",
       "      <td>120</td>\n",
       "      <td>Good</td>\n",
       "      <td>49</td>\n",
       "      <td>16</td>\n",
       "      <td>Yes</td>\n",
       "      <td>Yes</td>\n",
       "      <td>14</td>\n",
       "    </tr>\n",
       "  </tbody>\n",
       "</table>\n",
       "</div>"
      ],
      "text/plain": [
       "     Income  Advertising  Population  Price ShelveLoc  Age  Education Urban  \\\n",
       "395     108           17         203    128      Good   33         14   Yes   \n",
       "396      23            3          37    120    Medium   55         11    No   \n",
       "397      26           12         368    159    Medium   40         18   Yes   \n",
       "398      79            7         284     95       Bad   50         12   Yes   \n",
       "399      37            0          27    120      Good   49         16   Yes   \n",
       "\n",
       "      US  Diff_Price  \n",
       "395  Yes          10  \n",
       "396  Yes          19  \n",
       "397  Yes           3  \n",
       "398  Yes           5  \n",
       "399  Yes          14  "
      ]
     },
     "execution_count": 22,
     "metadata": {},
     "output_type": "execute_result"
    }
   ],
   "source": [
    "x = data.drop('Sales',axis=1)\n",
    "x.tail()"
   ]
  },
  {
   "cell_type": "code",
   "execution_count": 21,
   "metadata": {},
   "outputs": [
    {
     "data": {
      "text/html": [
       "<div>\n",
       "<style scoped>\n",
       "    .dataframe tbody tr th:only-of-type {\n",
       "        vertical-align: middle;\n",
       "    }\n",
       "\n",
       "    .dataframe tbody tr th {\n",
       "        vertical-align: top;\n",
       "    }\n",
       "\n",
       "    .dataframe thead th {\n",
       "        text-align: right;\n",
       "    }\n",
       "</style>\n",
       "<table border=\"1\" class=\"dataframe\">\n",
       "  <thead>\n",
       "    <tr style=\"text-align: right;\">\n",
       "      <th></th>\n",
       "      <th>Sales</th>\n",
       "    </tr>\n",
       "  </thead>\n",
       "  <tbody>\n",
       "    <tr>\n",
       "      <th>395</th>\n",
       "      <td>12.57</td>\n",
       "    </tr>\n",
       "    <tr>\n",
       "      <th>396</th>\n",
       "      <td>6.14</td>\n",
       "    </tr>\n",
       "    <tr>\n",
       "      <th>397</th>\n",
       "      <td>7.41</td>\n",
       "    </tr>\n",
       "    <tr>\n",
       "      <th>398</th>\n",
       "      <td>5.94</td>\n",
       "    </tr>\n",
       "    <tr>\n",
       "      <th>399</th>\n",
       "      <td>9.71</td>\n",
       "    </tr>\n",
       "  </tbody>\n",
       "</table>\n",
       "</div>"
      ],
      "text/plain": [
       "     Sales\n",
       "395  12.57\n",
       "396   6.14\n",
       "397   7.41\n",
       "398   5.94\n",
       "399   9.71"
      ]
     },
     "execution_count": 21,
     "metadata": {},
     "output_type": "execute_result"
    }
   ],
   "source": [
    "y = data.loc[:,['Sales']]\n",
    "y.tail()"
   ]
  },
  {
   "cell_type": "markdown",
   "metadata": {
    "id": "mp_5volyuaA1"
   },
   "source": [
    "### (3) NA 조치"
   ]
  },
  {
   "cell_type": "markdown",
   "metadata": {
    "id": "nOF9fSLQugGf"
   },
   "source": [
    "### (4) 가변수화"
   ]
  },
  {
   "cell_type": "code",
   "execution_count": 16,
   "metadata": {
    "id": "CZgBC2QSoKc8"
   },
   "outputs": [
    {
     "data": {
      "text/plain": [
       "Income         0\n",
       "Advertising    0\n",
       "Population     0\n",
       "Price          0\n",
       "ShelveLoc      0\n",
       "Age            0\n",
       "Education      0\n",
       "Urban          0\n",
       "US             0\n",
       "Diff_Price     0\n",
       "dtype: int64"
      ]
     },
     "execution_count": 16,
     "metadata": {},
     "output_type": "execute_result"
    }
   ],
   "source": [
    "x.isna().sum()"
   ]
  },
  {
   "cell_type": "code",
   "execution_count": 17,
   "metadata": {},
   "outputs": [
    {
     "data": {
      "text/plain": [
       "Sales    0\n",
       "dtype: int64"
      ]
     },
     "execution_count": 17,
     "metadata": {},
     "output_type": "execute_result"
    }
   ],
   "source": [
    "y.isna().sum()"
   ]
  },
  {
   "cell_type": "code",
   "execution_count": 120,
   "metadata": {},
   "outputs": [],
   "source": [
    "dummy_col = ['ShelveLoc','Urban','US']\n",
    "x = pd.get_dummies(x, columns = dummy_col,drop_first=True)\n"
   ]
  },
  {
   "cell_type": "markdown",
   "metadata": {
    "id": "VBwpOKgkf5Am"
   },
   "source": [
    "### (5) 데이터분할2 : train : validation 나누기"
   ]
  },
  {
   "cell_type": "code",
   "execution_count": 121,
   "metadata": {
    "id": "1iHmTnHCgBw5"
   },
   "outputs": [],
   "source": [
    "x_train,x_val,y_train,y_val = train_test_split(x,y,test_size=.3, random_state=42)"
   ]
  },
  {
   "cell_type": "markdown",
   "metadata": {
    "id": "59bBv0a8heYh"
   },
   "source": [
    "### (6) Scaling\n",
    "KNN 알고리즘을 적용하기 위해서는 스케일링을 해야 합니다."
   ]
  },
  {
   "cell_type": "code",
   "execution_count": 25,
   "metadata": {
    "id": "RuDcjwhwSo5y"
   },
   "outputs": [],
   "source": [
    "from sklearn.preprocessing import StandardScaler"
   ]
  },
  {
   "cell_type": "code",
   "execution_count": 35,
   "metadata": {},
   "outputs": [],
   "source": [
    "scaler = StandardScaler()"
   ]
  },
  {
   "cell_type": "code",
   "execution_count": 36,
   "metadata": {},
   "outputs": [],
   "source": [
    "x_train_s = scaler.fit_transform(x_train)\n",
    "x_val_s = scaler.transform(x_val)"
   ]
  },
  {
   "cell_type": "markdown",
   "metadata": {
    "id": "BYr1vtpd8uw4"
   },
   "source": [
    "## 4.모델링\n",
    "\n"
   ]
  },
  {
   "cell_type": "markdown",
   "metadata": {
    "id": "_JqYchKPNiaY"
   },
   "source": [
    "### (1) 선형회귀"
   ]
  },
  {
   "cell_type": "code",
   "execution_count": 23,
   "metadata": {
    "id": "2ZtyzyJAPIGQ"
   },
   "outputs": [],
   "source": [
    "lr_model = LinearRegression()"
   ]
  },
  {
   "cell_type": "code",
   "execution_count": 37,
   "metadata": {
    "id": "JrWs9TKSPRQ6"
   },
   "outputs": [
    {
     "data": {
      "text/plain": [
       "LinearRegression()"
      ]
     },
     "execution_count": 37,
     "metadata": {},
     "output_type": "execute_result"
    }
   ],
   "source": [
    "lr_model.fit(x_train,y_train)"
   ]
  },
  {
   "cell_type": "code",
   "execution_count": 39,
   "metadata": {
    "id": "Dmi0ACVTyQkN"
   },
   "outputs": [],
   "source": [
    "lr_pred = lr_model.predict(x_val)"
   ]
  },
  {
   "cell_type": "code",
   "execution_count": 108,
   "metadata": {},
   "outputs": [
    {
     "name": "stdout",
     "output_type": "stream",
     "text": [
      "rmse: 3.4980305464184913\n",
      "mae: 2.7877680844167316\n",
      "정확도: 0.6195967020809747\n"
     ]
    }
   ],
   "source": [
    "print('rmse:',mean_squared_error(y_val, lr_pred ,squared=False))\n",
    "print('mae:',mean_absolute_error(y_val, lr_pred))\n",
    "print('정확도:',1 - mean_absolute_percentage_error(y_val, lr_pred))"
   ]
  },
  {
   "cell_type": "code",
   "execution_count": 44,
   "metadata": {},
   "outputs": [],
   "source": [
    "#선택 변수"
   ]
  },
  {
   "cell_type": "code",
   "execution_count": 106,
   "metadata": {
    "id": "MDBGZHmXPXGx"
   },
   "outputs": [],
   "source": [
    "impt = forward_stepwise_linear(x_train,y_train)\n",
    "var = impt[0]"
   ]
  },
  {
   "cell_type": "code",
   "execution_count": 113,
   "metadata": {},
   "outputs": [
    {
     "data": {
      "text/plain": [
       "['Diff_Price',\n",
       " 'ShelveLoc_Good',\n",
       " 'Advertising',\n",
       " 'ShelveLoc_Medium',\n",
       " 'Age',\n",
       " 'Income',\n",
       " 'US_Yes',\n",
       " 'Education']"
      ]
     },
     "execution_count": 113,
     "metadata": {},
     "output_type": "execute_result"
    }
   ],
   "source": [
    "var"
   ]
  },
  {
   "cell_type": "code",
   "execution_count": 114,
   "metadata": {},
   "outputs": [],
   "source": [
    "lr_model2 = LinearRegression()"
   ]
  },
  {
   "cell_type": "code",
   "execution_count": 115,
   "metadata": {},
   "outputs": [
    {
     "data": {
      "text/plain": [
       "LinearRegression()"
      ]
     },
     "execution_count": 115,
     "metadata": {},
     "output_type": "execute_result"
    }
   ],
   "source": [
    "lr_model2.fit(x_train[var],y_train)"
   ]
  },
  {
   "cell_type": "code",
   "execution_count": 123,
   "metadata": {},
   "outputs": [],
   "source": [
    "lr_pred2 = lr_model2.predict(x_val[var])"
   ]
  },
  {
   "cell_type": "code",
   "execution_count": 124,
   "metadata": {},
   "outputs": [
    {
     "name": "stdout",
     "output_type": "stream",
     "text": [
      "rmse: 1.0624482499030632\n",
      "mae: 0.8649454918165119\n",
      "정확도: 0.8730240833489963\n"
     ]
    }
   ],
   "source": [
    "print('rmse:',mean_squared_error(y_val, lr_pred2 ,squared=False))\n",
    "print('mae:',mean_absolute_error(y_val, lr_pred2))\n",
    "print('정확도:',1 - mean_absolute_percentage_error(y_val, lr_pred2))"
   ]
  },
  {
   "cell_type": "code",
   "execution_count": null,
   "metadata": {},
   "outputs": [],
   "source": []
  },
  {
   "cell_type": "markdown",
   "metadata": {
    "id": "LaZoO6TuoZ_U"
   },
   "source": [
    "### (2) KNN"
   ]
  },
  {
   "cell_type": "code",
   "execution_count": 46,
   "metadata": {
    "id": "Hme7SHCy9sk_"
   },
   "outputs": [],
   "source": [
    "knn_model = KNeighborsRegressor()"
   ]
  },
  {
   "cell_type": "code",
   "execution_count": 67,
   "metadata": {
    "id": "AzLp_sOT9saF"
   },
   "outputs": [],
   "source": [
    "knn_param = {'n_neighbors' : range(5,21,5) ,'metric' : ['euclidean' , 'manhattan'] }"
   ]
  },
  {
   "cell_type": "code",
   "execution_count": 68,
   "metadata": {
    "id": "HIFCCmAi9sWs"
   },
   "outputs": [],
   "source": [
    "knn_model_gs = GridSearchCV(knn_model, knn_param, cv =5,verbose=3 )"
   ]
  },
  {
   "cell_type": "code",
   "execution_count": 69,
   "metadata": {
    "collapsed": true,
    "id": "MGxIzyz39sTz",
    "jupyter": {
     "outputs_hidden": true
    },
    "tags": []
   },
   "outputs": [
    {
     "name": "stdout",
     "output_type": "stream",
     "text": [
      "Fitting 5 folds for each of 8 candidates, totalling 40 fits\n",
      "[CV 1/5] END ................metric=euclidean, n_neighbors=5; total time=   0.0s\n",
      "[CV 2/5] END ................metric=euclidean, n_neighbors=5; total time=   0.0s\n",
      "[CV 3/5] END ................metric=euclidean, n_neighbors=5; total time=   0.0s\n",
      "[CV 4/5] END ................metric=euclidean, n_neighbors=5; total time=   0.0s\n",
      "[CV 5/5] END ................metric=euclidean, n_neighbors=5; total time=   0.0s\n",
      "[CV 1/5] END ...............metric=euclidean, n_neighbors=10; total time=   0.0s\n",
      "[CV 2/5] END ...............metric=euclidean, n_neighbors=10; total time=   0.0s\n",
      "[CV 3/5] END ...............metric=euclidean, n_neighbors=10; total time=   0.0s\n",
      "[CV 4/5] END ...............metric=euclidean, n_neighbors=10; total time=   0.0s\n",
      "[CV 5/5] END ...............metric=euclidean, n_neighbors=10; total time=   0.0s\n",
      "[CV 1/5] END ...............metric=euclidean, n_neighbors=15; total time=   0.0s\n",
      "[CV 2/5] END ...............metric=euclidean, n_neighbors=15; total time=   0.0s\n",
      "[CV 3/5] END ...............metric=euclidean, n_neighbors=15; total time=   0.0s\n",
      "[CV 4/5] END ...............metric=euclidean, n_neighbors=15; total time=   0.0s\n",
      "[CV 5/5] END ...............metric=euclidean, n_neighbors=15; total time=   0.0s\n",
      "[CV 1/5] END ...............metric=euclidean, n_neighbors=20; total time=   0.0s\n",
      "[CV 2/5] END ...............metric=euclidean, n_neighbors=20; total time=   0.0s\n",
      "[CV 3/5] END ...............metric=euclidean, n_neighbors=20; total time=   0.0s\n",
      "[CV 4/5] END ...............metric=euclidean, n_neighbors=20; total time=   0.0s\n",
      "[CV 5/5] END ...............metric=euclidean, n_neighbors=20; total time=   0.0s\n",
      "[CV 1/5] END ................metric=manhattan, n_neighbors=5; total time=   0.0s\n",
      "[CV 2/5] END ................metric=manhattan, n_neighbors=5; total time=   0.0s\n",
      "[CV 3/5] END ................metric=manhattan, n_neighbors=5; total time=   0.0s\n",
      "[CV 4/5] END ................metric=manhattan, n_neighbors=5; total time=   0.0s\n",
      "[CV 5/5] END ................metric=manhattan, n_neighbors=5; total time=   0.0s\n",
      "[CV 1/5] END ...............metric=manhattan, n_neighbors=10; total time=   0.0s\n",
      "[CV 2/5] END ...............metric=manhattan, n_neighbors=10; total time=   0.0s\n",
      "[CV 3/5] END ...............metric=manhattan, n_neighbors=10; total time=   0.0s\n",
      "[CV 4/5] END ...............metric=manhattan, n_neighbors=10; total time=   0.0s\n",
      "[CV 5/5] END ...............metric=manhattan, n_neighbors=10; total time=   0.0s\n",
      "[CV 1/5] END ...............metric=manhattan, n_neighbors=15; total time=   0.0s\n",
      "[CV 2/5] END ...............metric=manhattan, n_neighbors=15; total time=   0.0s\n",
      "[CV 3/5] END ...............metric=manhattan, n_neighbors=15; total time=   0.0s\n",
      "[CV 4/5] END ...............metric=manhattan, n_neighbors=15; total time=   0.0s\n",
      "[CV 5/5] END ...............metric=manhattan, n_neighbors=15; total time=   0.0s\n",
      "[CV 1/5] END ...............metric=manhattan, n_neighbors=20; total time=   0.0s\n",
      "[CV 2/5] END ...............metric=manhattan, n_neighbors=20; total time=   0.0s\n",
      "[CV 3/5] END ...............metric=manhattan, n_neighbors=20; total time=   0.0s\n",
      "[CV 4/5] END ...............metric=manhattan, n_neighbors=20; total time=   0.0s\n",
      "[CV 5/5] END ...............metric=manhattan, n_neighbors=20; total time=   0.0s\n"
     ]
    },
    {
     "data": {
      "text/plain": [
       "GridSearchCV(cv=5, estimator=KNeighborsRegressor(),\n",
       "             param_grid={'metric': ['euclidean', 'manhattan'],\n",
       "                         'n_neighbors': range(5, 21, 5)},\n",
       "             verbose=3)"
      ]
     },
     "execution_count": 69,
     "metadata": {},
     "output_type": "execute_result"
    }
   ],
   "source": [
    "knn_model_gs.fit(x_train_s,y_train)"
   ]
  },
  {
   "cell_type": "code",
   "execution_count": 70,
   "metadata": {
    "id": "jCvpPeJF9sQ0"
   },
   "outputs": [
    {
     "data": {
      "text/plain": [
       "KNeighborsRegressor(metric='euclidean', n_neighbors=10)"
      ]
     },
     "execution_count": 70,
     "metadata": {},
     "output_type": "execute_result"
    }
   ],
   "source": [
    "knn_model_gs.best_estimator_"
   ]
  },
  {
   "cell_type": "code",
   "execution_count": 71,
   "metadata": {
    "id": "TqJCSGkqp7X7"
   },
   "outputs": [
    {
     "data": {
      "text/plain": [
       "0.5912611292427117"
      ]
     },
     "execution_count": 71,
     "metadata": {},
     "output_type": "execute_result"
    }
   ],
   "source": [
    "knn_model_gs.best_score_"
   ]
  },
  {
   "cell_type": "code",
   "execution_count": 72,
   "metadata": {},
   "outputs": [],
   "source": [
    "knn_df = pd.DataFrame(knn_model_gs.cv_results_)\n",
    "knn_df = knn_df.loc[:,['param_metric','param_n_neighbors','mean_test_score']]"
   ]
  },
  {
   "cell_type": "code",
   "execution_count": 73,
   "metadata": {},
   "outputs": [
    {
     "data": {
      "text/html": [
       "<div>\n",
       "<style scoped>\n",
       "    .dataframe tbody tr th:only-of-type {\n",
       "        vertical-align: middle;\n",
       "    }\n",
       "\n",
       "    .dataframe tbody tr th {\n",
       "        vertical-align: top;\n",
       "    }\n",
       "\n",
       "    .dataframe thead th {\n",
       "        text-align: right;\n",
       "    }\n",
       "</style>\n",
       "<table border=\"1\" class=\"dataframe\">\n",
       "  <thead>\n",
       "    <tr style=\"text-align: right;\">\n",
       "      <th></th>\n",
       "      <th>param_metric</th>\n",
       "      <th>param_n_neighbors</th>\n",
       "      <th>mean_test_score</th>\n",
       "    </tr>\n",
       "  </thead>\n",
       "  <tbody>\n",
       "    <tr>\n",
       "      <th>1</th>\n",
       "      <td>euclidean</td>\n",
       "      <td>10</td>\n",
       "      <td>0.591261</td>\n",
       "    </tr>\n",
       "    <tr>\n",
       "      <th>2</th>\n",
       "      <td>euclidean</td>\n",
       "      <td>15</td>\n",
       "      <td>0.590672</td>\n",
       "    </tr>\n",
       "    <tr>\n",
       "      <th>0</th>\n",
       "      <td>euclidean</td>\n",
       "      <td>5</td>\n",
       "      <td>0.585982</td>\n",
       "    </tr>\n",
       "    <tr>\n",
       "      <th>5</th>\n",
       "      <td>manhattan</td>\n",
       "      <td>10</td>\n",
       "      <td>0.564429</td>\n",
       "    </tr>\n",
       "    <tr>\n",
       "      <th>4</th>\n",
       "      <td>manhattan</td>\n",
       "      <td>5</td>\n",
       "      <td>0.559603</td>\n",
       "    </tr>\n",
       "    <tr>\n",
       "      <th>3</th>\n",
       "      <td>euclidean</td>\n",
       "      <td>20</td>\n",
       "      <td>0.555434</td>\n",
       "    </tr>\n",
       "    <tr>\n",
       "      <th>6</th>\n",
       "      <td>manhattan</td>\n",
       "      <td>15</td>\n",
       "      <td>0.543698</td>\n",
       "    </tr>\n",
       "    <tr>\n",
       "      <th>7</th>\n",
       "      <td>manhattan</td>\n",
       "      <td>20</td>\n",
       "      <td>0.537902</td>\n",
       "    </tr>\n",
       "  </tbody>\n",
       "</table>\n",
       "</div>"
      ],
      "text/plain": [
       "  param_metric param_n_neighbors  mean_test_score\n",
       "1    euclidean                10         0.591261\n",
       "2    euclidean                15         0.590672\n",
       "0    euclidean                 5         0.585982\n",
       "5    manhattan                10         0.564429\n",
       "4    manhattan                 5         0.559603\n",
       "3    euclidean                20         0.555434\n",
       "6    manhattan                15         0.543698\n",
       "7    manhattan                20         0.537902"
      ]
     },
     "execution_count": 73,
     "metadata": {},
     "output_type": "execute_result"
    }
   ],
   "source": [
    "knn_df.sort_values(by='mean_test_score', ascending=False)"
   ]
  },
  {
   "cell_type": "code",
   "execution_count": 75,
   "metadata": {},
   "outputs": [],
   "source": [
    "knn_pred_gs = knn_model_gs.predict(x_val)"
   ]
  },
  {
   "cell_type": "code",
   "execution_count": 158,
   "metadata": {},
   "outputs": [
    {
     "name": "stdout",
     "output_type": "stream",
     "text": [
      "rmse: 1.6076880423971145\n",
      "mae: 1.2373249999999998\n",
      "정확도: 0.7885342367476114\n"
     ]
    }
   ],
   "source": [
    "print('rmse:',mean_squared_error(y_val, knn_pred_gs, squared=False))\n",
    "print('mae:',mean_absolute_error(y_val, knn_pred_gs))\n",
    "print('정확도:',1 - mean_absolute_percentage_error(y_val, knn_pred_gs))"
   ]
  },
  {
   "cell_type": "code",
   "execution_count": 94,
   "metadata": {},
   "outputs": [
    {
     "data": {
      "image/png": "[encoded data removed]",
      "text/plain": [
       "<Figure size 432x288 with 1 Axes>"
      ]
     },
     "metadata": {
      "needs_background": "light"
     },
     "output_type": "display_data"
    }
   ],
   "source": [
    "\n",
    "sns.lineplot(x='param_n_neighbors',y='mean_test_score', data=knn_df,hue='param_metric')\n",
    "plt.show()"
   ]
  },
  {
   "cell_type": "markdown",
   "metadata": {
    "id": "fCS_xa4OQ8Cv"
   },
   "source": [
    "### (3) Decision Tree"
   ]
  },
  {
   "cell_type": "code",
   "execution_count": 125,
   "metadata": {
    "id": "wrCn38n79ufk"
   },
   "outputs": [],
   "source": [
    "dt_model = DecisionTreeRegressor()"
   ]
  },
  {
   "cell_type": "code",
   "execution_count": 144,
   "metadata": {
    "id": "ycz94WYM9ucf"
   },
   "outputs": [],
   "source": [
    "dt_param = {'max_depth' :range(1,11) ,'min_samples_leaf' : range(50,201,20)}\n",
    "dt_model_gs = GridSearchCV(dt_model, dt_param, cv=5, verbose=3,scoring = 'neg_mean_absolute_error')"
   ]
  },
  {
   "cell_type": "code",
   "execution_count": 146,
   "metadata": {
    "collapsed": true,
    "id": "tCC0Y5f19uZ0",
    "jupyter": {
     "outputs_hidden": true
    },
    "tags": []
   },
   "outputs": [
    {
     "name": "stdout",
     "output_type": "stream",
     "text": [
      "Fitting 5 folds for each of 80 candidates, totalling 400 fits\n",
      "[CV 1/5] END ...............max_depth=1, min_samples_leaf=50; total time=   0.0s\n",
      "[CV 2/5] END ...............max_depth=1, min_samples_leaf=50; total time=   0.0s\n",
      "[CV 3/5] END ...............max_depth=1, min_samples_leaf=50; total time=   0.0s\n",
      "[CV 4/5] END ...............max_depth=1, min_samples_leaf=50; total time=   0.0s\n",
      "[CV 5/5] END ...............max_depth=1, min_samples_leaf=50; total time=   0.0s\n",
      "[CV 1/5] END ...............max_depth=1, min_samples_leaf=70; total time=   0.0s\n",
      "[CV 2/5] END ...............max_depth=1, min_samples_leaf=70; total time=   0.0s\n",
      "[CV 3/5] END ...............max_depth=1, min_samples_leaf=70; total time=   0.0s\n",
      "[CV 4/5] END ...............max_depth=1, min_samples_leaf=70; total time=   0.0s\n",
      "[CV 5/5] END ...............max_depth=1, min_samples_leaf=70; total time=   0.0s\n",
      "[CV 1/5] END ...............max_depth=1, min_samples_leaf=90; total time=   0.0s\n",
      "[CV 2/5] END ...............max_depth=1, min_samples_leaf=90; total time=   0.0s\n",
      "[CV 3/5] END ...............max_depth=1, min_samples_leaf=90; total time=   0.0s\n",
      "[CV 4/5] END ...............max_depth=1, min_samples_leaf=90; total time=   0.0s\n",
      "[CV 5/5] END ...............max_depth=1, min_samples_leaf=90; total time=   0.0s\n",
      "[CV 1/5] END ..............max_depth=1, min_samples_leaf=110; total time=   0.0s\n",
      "[CV 2/5] END ..............max_depth=1, min_samples_leaf=110; total time=   0.0s\n",
      "[CV 3/5] END ..............max_depth=1, min_samples_leaf=110; total time=   0.0s\n",
      "[CV 4/5] END ..............max_depth=1, min_samples_leaf=110; total time=   0.0s\n",
      "[CV 5/5] END ..............max_depth=1, min_samples_leaf=110; total time=   0.0s\n",
      "[CV 1/5] END ..............max_depth=1, min_samples_leaf=130; total time=   0.0s\n",
      "[CV 2/5] END ..............max_depth=1, min_samples_leaf=130; total time=   0.0s\n",
      "[CV 3/5] END ..............max_depth=1, min_samples_leaf=130; total time=   0.0s\n",
      "[CV 4/5] END ..............max_depth=1, min_samples_leaf=130; total time=   0.0s\n",
      "[CV 5/5] END ..............max_depth=1, min_samples_leaf=130; total time=   0.0s\n",
      "[CV 1/5] END ..............max_depth=1, min_samples_leaf=150; total time=   0.0s\n",
      "[CV 2/5] END ..............max_depth=1, min_samples_leaf=150; total time=   0.0s\n",
      "[CV 3/5] END ..............max_depth=1, min_samples_leaf=150; total time=   0.0s\n",
      "[CV 4/5] END ..............max_depth=1, min_samples_leaf=150; total time=   0.0s\n",
      "[CV 5/5] END ..............max_depth=1, min_samples_leaf=150; total time=   0.0s\n",
      "[CV 1/5] END ..............max_depth=1, min_samples_leaf=170; total time=   0.0s\n",
      "[CV 2/5] END ..............max_depth=1, min_samples_leaf=170; total time=   0.0s\n",
      "[CV 3/5] END ..............max_depth=1, min_samples_leaf=170; total time=   0.0s\n",
      "[CV 4/5] END ..............max_depth=1, min_samples_leaf=170; total time=   0.0s\n",
      "[CV 5/5] END ..............max_depth=1, min_samples_leaf=170; total time=   0.0s\n",
      "[CV 1/5] END ..............max_depth=1, min_samples_leaf=190; total time=   0.0s\n",
      "[CV 2/5] END ..............max_depth=1, min_samples_leaf=190; total time=   0.0s\n",
      "[CV 3/5] END ..............max_depth=1, min_samples_leaf=190; total time=   0.0s\n",
      "[CV 4/5] END ..............max_depth=1, min_samples_leaf=190; total time=   0.0s\n",
      "[CV 5/5] END ..............max_depth=1, min_samples_leaf=190; total time=   0.0s\n",
      "[CV 1/5] END ...............max_depth=2, min_samples_leaf=50; total time=   0.0s\n",
      "[CV 2/5] END ...............max_depth=2, min_samples_leaf=50; total time=   0.0s\n",
      "[CV 3/5] END ...............max_depth=2, min_samples_leaf=50; total time=   0.0s\n",
      "[CV 4/5] END ...............max_depth=2, min_samples_leaf=50; total time=   0.0s\n",
      "[CV 5/5] END ...............max_depth=2, min_samples_leaf=50; total time=   0.0s\n",
      "[CV 1/5] END ...............max_depth=2, min_samples_leaf=70; total time=   0.0s\n",
      "[CV 2/5] END ...............max_depth=2, min_samples_leaf=70; total time=   0.0s\n",
      "[CV 3/5] END ...............max_depth=2, min_samples_leaf=70; total time=   0.0s\n",
      "[CV 4/5] END ...............max_depth=2, min_samples_leaf=70; total time=   0.0s\n",
      "[CV 5/5] END ...............max_depth=2, min_samples_leaf=70; total time=   0.0s\n",
      "[CV 1/5] END ...............max_depth=2, min_samples_leaf=90; total time=   0.0s\n",
      "[CV 2/5] END ...............max_depth=2, min_samples_leaf=90; total time=   0.0s\n",
      "[CV 3/5] END ...............max_depth=2, min_samples_leaf=90; total time=   0.0s\n",
      "[CV 4/5] END ...............max_depth=2, min_samples_leaf=90; total time=   0.0s\n",
      "[CV 5/5] END ...............max_depth=2, min_samples_leaf=90; total time=   0.0s\n",
      "[CV 1/5] END ..............max_depth=2, min_samples_leaf=110; total time=   0.0s\n",
      "[CV 2/5] END ..............max_depth=2, min_samples_leaf=110; total time=   0.0s\n",
      "[CV 3/5] END ..............max_depth=2, min_samples_leaf=110; total time=   0.0s\n",
      "[CV 4/5] END ..............max_depth=2, min_samples_leaf=110; total time=   0.0s\n",
      "[CV 5/5] END ..............max_depth=2, min_samples_leaf=110; total time=   0.0s\n",
      "[CV 1/5] END ..............max_depth=2, min_samples_leaf=130; total time=   0.0s\n",
      "[CV 2/5] END ..............max_depth=2, min_samples_leaf=130; total time=   0.0s\n",
      "[CV 3/5] END ..............max_depth=2, min_samples_leaf=130; total time=   0.0s\n",
      "[CV 4/5] END ..............max_depth=2, min_samples_leaf=130; total time=   0.0s\n",
      "[CV 5/5] END ..............max_depth=2, min_samples_leaf=130; total time=   0.0s\n",
      "[CV 1/5] END ..............max_depth=2, min_samples_leaf=150; total time=   0.0s\n",
      "[CV 2/5] END ..............max_depth=2, min_samples_leaf=150; total time=   0.0s\n",
      "[CV 3/5] END ..............max_depth=2, min_samples_leaf=150; total time=   0.0s\n",
      "[CV 4/5] END ..............max_depth=2, min_samples_leaf=150; total time=   0.0s\n",
      "[CV 5/5] END ..............max_depth=2, min_samples_leaf=150; total time=   0.0s\n",
      "[CV 1/5] END ..............max_depth=2, min_samples_leaf=170; total time=   0.0s\n",
      "[CV 2/5] END ..............max_depth=2, min_samples_leaf=170; total time=   0.0s\n",
      "[CV 3/5] END ..............max_depth=2, min_samples_leaf=170; total time=   0.0s\n",
      "[CV 4/5] END ..............max_depth=2, min_samples_leaf=170; total time=   0.0s\n",
      "[CV 5/5] END ..............max_depth=2, min_samples_leaf=170; total time=   0.0s\n",
      "[CV 1/5] END ..............max_depth=2, min_samples_leaf=190; total time=   0.0s\n",
      "[CV 2/5] END ..............max_depth=2, min_samples_leaf=190; total time=   0.0s\n",
      "[CV 3/5] END ..............max_depth=2, min_samples_leaf=190; total time=   0.0s\n",
      "[CV 4/5] END ..............max_depth=2, min_samples_leaf=190; total time=   0.0s\n",
      "[CV 5/5] END ..............max_depth=2, min_samples_leaf=190; total time=   0.0s\n",
      "[CV 1/5] END ...............max_depth=3, min_samples_leaf=50; total time=   0.0s\n",
      "[CV 2/5] END ...............max_depth=3, min_samples_leaf=50; total time=   0.0s\n",
      "[CV 3/5] END ...............max_depth=3, min_samples_leaf=50; total time=   0.0s\n",
      "[CV 4/5] END ...............max_depth=3, min_samples_leaf=50; total time=   0.0s\n",
      "[CV 5/5] END ...............max_depth=3, min_samples_leaf=50; total time=   0.0s\n",
      "[CV 1/5] END ...............max_depth=3, min_samples_leaf=70; total time=   0.0s\n",
      "[CV 2/5] END ...............max_depth=3, min_samples_leaf=70; total time=   0.0s\n",
      "[CV 3/5] END ...............max_depth=3, min_samples_leaf=70; total time=   0.0s\n",
      "[CV 4/5] END ...............max_depth=3, min_samples_leaf=70; total time=   0.0s\n",
      "[CV 5/5] END ...............max_depth=3, min_samples_leaf=70; total time=   0.0s\n",
      "[CV 1/5] END ...............max_depth=3, min_samples_leaf=90; total time=   0.0s\n",
      "[CV 2/5] END ...............max_depth=3, min_samples_leaf=90; total time=   0.0s\n",
      "[CV 3/5] END ...............max_depth=3, min_samples_leaf=90; total time=   0.0s\n",
      "[CV 4/5] END ...............max_depth=3, min_samples_leaf=90; total time=   0.0s\n",
      "[CV 5/5] END ...............max_depth=3, min_samples_leaf=90; total time=   0.0s\n",
      "[CV 1/5] END ..............max_depth=3, min_samples_leaf=110; total time=   0.0s\n",
      "[CV 2/5] END ..............max_depth=3, min_samples_leaf=110; total time=   0.0s\n",
      "[CV 3/5] END ..............max_depth=3, min_samples_leaf=110; total time=   0.0s\n",
      "[CV 4/5] END ..............max_depth=3, min_samples_leaf=110; total time=   0.0s\n",
      "[CV 5/5] END ..............max_depth=3, min_samples_leaf=110; total time=   0.0s\n",
      "[CV 1/5] END ..............max_depth=3, min_samples_leaf=130; total time=   0.0s\n",
      "[CV 2/5] END ..............max_depth=3, min_samples_leaf=130; total time=   0.0s\n",
      "[CV 3/5] END ..............max_depth=3, min_samples_leaf=130; total time=   0.0s\n",
      "[CV 4/5] END ..............max_depth=3, min_samples_leaf=130; total time=   0.0s\n",
      "[CV 5/5] END ..............max_depth=3, min_samples_leaf=130; total time=   0.0s\n",
      "[CV 1/5] END ..............max_depth=3, min_samples_leaf=150; total time=   0.0s\n",
      "[CV 2/5] END ..............max_depth=3, min_samples_leaf=150; total time=   0.0s\n",
      "[CV 3/5] END ..............max_depth=3, min_samples_leaf=150; total time=   0.0s\n",
      "[CV 4/5] END ..............max_depth=3, min_samples_leaf=150; total time=   0.0s\n",
      "[CV 5/5] END ..............max_depth=3, min_samples_leaf=150; total time=   0.0s\n",
      "[CV 1/5] END ..............max_depth=3, min_samples_leaf=170; total time=   0.0s\n",
      "[CV 2/5] END ..............max_depth=3, min_samples_leaf=170; total time=   0.0s\n",
      "[CV 3/5] END ..............max_depth=3, min_samples_leaf=170; total time=   0.0s\n",
      "[CV 4/5] END ..............max_depth=3, min_samples_leaf=170; total time=   0.0s\n",
      "[CV 5/5] END ..............max_depth=3, min_samples_leaf=170; total time=   0.0s\n",
      "[CV 1/5] END ..............max_depth=3, min_samples_leaf=190; total time=   0.0s\n",
      "[CV 2/5] END ..............max_depth=3, min_samples_leaf=190; total time=   0.0s\n",
      "[CV 3/5] END ..............max_depth=3, min_samples_leaf=190; total time=   0.0s\n",
      "[CV 4/5] END ..............max_depth=3, min_samples_leaf=190; total time=   0.0s\n",
      "[CV 5/5] END ..............max_depth=3, min_samples_leaf=190; total time=   0.0s\n",
      "[CV 1/5] END ...............max_depth=4, min_samples_leaf=50; total time=   0.0s\n",
      "[CV 2/5] END ...............max_depth=4, min_samples_leaf=50; total time=   0.0s\n",
      "[CV 3/5] END ...............max_depth=4, min_samples_leaf=50; total time=   0.0s\n",
      "[CV 4/5] END ...............max_depth=4, min_samples_leaf=50; total time=   0.0s\n",
      "[CV 5/5] END ...............max_depth=4, min_samples_leaf=50; total time=   0.0s\n",
      "[CV 1/5] END ...............max_depth=4, min_samples_leaf=70; total time=   0.0s\n",
      "[CV 2/5] END ...............max_depth=4, min_samples_leaf=70; total time=   0.0s\n",
      "[CV 3/5] END ...............max_depth=4, min_samples_leaf=70; total time=   0.0s\n",
      "[CV 4/5] END ...............max_depth=4, min_samples_leaf=70; total time=   0.0s\n",
      "[CV 5/5] END ...............max_depth=4, min_samples_leaf=70; total time=   0.0s\n",
      "[CV 1/5] END ...............max_depth=4, min_samples_leaf=90; total time=   0.0s\n",
      "[CV 2/5] END ...............max_depth=4, min_samples_leaf=90; total time=   0.0s\n",
      "[CV 3/5] END ...............max_depth=4, min_samples_leaf=90; total time=   0.0s\n",
      "[CV 4/5] END ...............max_depth=4, min_samples_leaf=90; total time=   0.0s\n",
      "[CV 5/5] END ...............max_depth=4, min_samples_leaf=90; total time=   0.0s\n",
      "[CV 1/5] END ..............max_depth=4, min_samples_leaf=110; total time=   0.0s\n",
      "[CV 2/5] END ..............max_depth=4, min_samples_leaf=110; total time=   0.0s\n",
      "[CV 3/5] END ..............max_depth=4, min_samples_leaf=110; total time=   0.0s\n",
      "[CV 4/5] END ..............max_depth=4, min_samples_leaf=110; total time=   0.0s\n",
      "[CV 5/5] END ..............max_depth=4, min_samples_leaf=110; total time=   0.0s\n",
      "[CV 1/5] END ..............max_depth=4, min_samples_leaf=130; total time=   0.0s\n",
      "[CV 2/5] END ..............max_depth=4, min_samples_leaf=130; total time=   0.0s\n",
      "[CV 3/5] END ..............max_depth=4, min_samples_leaf=130; total time=   0.0s\n",
      "[CV 4/5] END ..............max_depth=4, min_samples_leaf=130; total time=   0.0s\n",
      "[CV 5/5] END ..............max_depth=4, min_samples_leaf=130; total time=   0.0s\n",
      "[CV 1/5] END ..............max_depth=4, min_samples_leaf=150; total time=   0.0s\n",
      "[CV 2/5] END ..............max_depth=4, min_samples_leaf=150; total time=   0.0s\n",
      "[CV 3/5] END ..............max_depth=4, min_samples_leaf=150; total time=   0.0s\n",
      "[CV 4/5] END ..............max_depth=4, min_samples_leaf=150; total time=   0.0s\n",
      "[CV 5/5] END ..............max_depth=4, min_samples_leaf=150; total time=   0.0s\n",
      "[CV 1/5] END ..............max_depth=4, min_samples_leaf=170; total time=   0.0s\n",
      "[CV 2/5] END ..............max_depth=4, min_samples_leaf=170; total time=   0.0s\n",
      "[CV 3/5] END ..............max_depth=4, min_samples_leaf=170; total time=   0.0s\n",
      "[CV 4/5] END ..............max_depth=4, min_samples_leaf=170; total time=   0.0s\n",
      "[CV 5/5] END ..............max_depth=4, min_samples_leaf=170; total time=   0.0s\n",
      "[CV 1/5] END ..............max_depth=4, min_samples_leaf=190; total time=   0.0s\n",
      "[CV 2/5] END ..............max_depth=4, min_samples_leaf=190; total time=   0.0s\n",
      "[CV 3/5] END ..............max_depth=4, min_samples_leaf=190; total time=   0.0s\n",
      "[CV 4/5] END ..............max_depth=4, min_samples_leaf=190; total time=   0.0s\n",
      "[CV 5/5] END ..............max_depth=4, min_samples_leaf=190; total time=   0.0s\n",
      "[CV 1/5] END ...............max_depth=5, min_samples_leaf=50; total time=   0.0s\n",
      "[CV 2/5] END ...............max_depth=5, min_samples_leaf=50; total time=   0.0s\n",
      "[CV 3/5] END ...............max_depth=5, min_samples_leaf=50; total time=   0.0s\n",
      "[CV 4/5] END ...............max_depth=5, min_samples_leaf=50; total time=   0.0s\n",
      "[CV 5/5] END ...............max_depth=5, min_samples_leaf=50; total time=   0.0s\n",
      "[CV 1/5] END ...............max_depth=5, min_samples_leaf=70; total time=   0.0s\n",
      "[CV 2/5] END ...............max_depth=5, min_samples_leaf=70; total time=   0.0s\n",
      "[CV 3/5] END ...............max_depth=5, min_samples_leaf=70; total time=   0.0s\n",
      "[CV 4/5] END ...............max_depth=5, min_samples_leaf=70; total time=   0.0s\n",
      "[CV 5/5] END ...............max_depth=5, min_samples_leaf=70; total time=   0.0s\n",
      "[CV 1/5] END ...............max_depth=5, min_samples_leaf=90; total time=   0.0s\n",
      "[CV 2/5] END ...............max_depth=5, min_samples_leaf=90; total time=   0.0s\n",
      "[CV 3/5] END ...............max_depth=5, min_samples_leaf=90; total time=   0.0s\n",
      "[CV 4/5] END ...............max_depth=5, min_samples_leaf=90; total time=   0.0s\n",
      "[CV 5/5] END ...............max_depth=5, min_samples_leaf=90; total time=   0.0s\n",
      "[CV 1/5] END ..............max_depth=5, min_samples_leaf=110; total time=   0.0s\n",
      "[CV 2/5] END ..............max_depth=5, min_samples_leaf=110; total time=   0.0s\n",
      "[CV 3/5] END ..............max_depth=5, min_samples_leaf=110; total time=   0.0s\n",
      "[CV 4/5] END ..............max_depth=5, min_samples_leaf=110; total time=   0.0s\n",
      "[CV 5/5] END ..............max_depth=5, min_samples_leaf=110; total time=   0.0s\n",
      "[CV 1/5] END ..............max_depth=5, min_samples_leaf=130; total time=   0.0s\n",
      "[CV 2/5] END ..............max_depth=5, min_samples_leaf=130; total time=   0.0s\n",
      "[CV 3/5] END ..............max_depth=5, min_samples_leaf=130; total time=   0.0s\n",
      "[CV 4/5] END ..............max_depth=5, min_samples_leaf=130; total time=   0.0s\n",
      "[CV 5/5] END ..............max_depth=5, min_samples_leaf=130; total time=   0.0s\n",
      "[CV 1/5] END ..............max_depth=5, min_samples_leaf=150; total time=   0.0s\n",
      "[CV 2/5] END ..............max_depth=5, min_samples_leaf=150; total time=   0.0s\n",
      "[CV 3/5] END ..............max_depth=5, min_samples_leaf=150; total time=   0.0s\n",
      "[CV 4/5] END ..............max_depth=5, min_samples_leaf=150; total time=   0.0s\n",
      "[CV 5/5] END ..............max_depth=5, min_samples_leaf=150; total time=   0.0s\n",
      "[CV 1/5] END ..............max_depth=5, min_samples_leaf=170; total time=   0.0s\n",
      "[CV 2/5] END ..............max_depth=5, min_samples_leaf=170; total time=   0.0s\n",
      "[CV 3/5] END ..............max_depth=5, min_samples_leaf=170; total time=   0.0s\n",
      "[CV 4/5] END ..............max_depth=5, min_samples_leaf=170; total time=   0.0s\n",
      "[CV 5/5] END ..............max_depth=5, min_samples_leaf=170; total time=   0.0s\n",
      "[CV 1/5] END ..............max_depth=5, min_samples_leaf=190; total time=   0.0s\n",
      "[CV 2/5] END ..............max_depth=5, min_samples_leaf=190; total time=   0.0s\n",
      "[CV 3/5] END ..............max_depth=5, min_samples_leaf=190; total time=   0.0s\n",
      "[CV 4/5] END ..............max_depth=5, min_samples_leaf=190; total time=   0.0s\n",
      "[CV 5/5] END ..............max_depth=5, min_samples_leaf=190; total time=   0.0s\n",
      "[CV 1/5] END ...............max_depth=6, min_samples_leaf=50; total time=   0.0s\n",
      "[CV 2/5] END ...............max_depth=6, min_samples_leaf=50; total time=   0.0s\n",
      "[CV 3/5] END ...............max_depth=6, min_samples_leaf=50; total time=   0.0s\n",
      "[CV 4/5] END ...............max_depth=6, min_samples_leaf=50; total time=   0.0s\n",
      "[CV 5/5] END ...............max_depth=6, min_samples_leaf=50; total time=   0.0s\n",
      "[CV 1/5] END ...............max_depth=6, min_samples_leaf=70; total time=   0.0s\n",
      "[CV 2/5] END ...............max_depth=6, min_samples_leaf=70; total time=   0.0s\n",
      "[CV 3/5] END ...............max_depth=6, min_samples_leaf=70; total time=   0.0s\n",
      "[CV 4/5] END ...............max_depth=6, min_samples_leaf=70; total time=   0.0s\n",
      "[CV 5/5] END ...............max_depth=6, min_samples_leaf=70; total time=   0.0s\n",
      "[CV 1/5] END ...............max_depth=6, min_samples_leaf=90; total time=   0.0s\n",
      "[CV 2/5] END ...............max_depth=6, min_samples_leaf=90; total time=   0.0s\n",
      "[CV 3/5] END ...............max_depth=6, min_samples_leaf=90; total time=   0.0s\n",
      "[CV 4/5] END ...............max_depth=6, min_samples_leaf=90; total time=   0.0s\n",
      "[CV 5/5] END ...............max_depth=6, min_samples_leaf=90; total time=   0.0s\n",
      "[CV 1/5] END ..............max_depth=6, min_samples_leaf=110; total time=   0.0s\n",
      "[CV 2/5] END ..............max_depth=6, min_samples_leaf=110; total time=   0.0s\n",
      "[CV 3/5] END ..............max_depth=6, min_samples_leaf=110; total time=   0.0s\n",
      "[CV 4/5] END ..............max_depth=6, min_samples_leaf=110; total time=   0.0s\n",
      "[CV 5/5] END ..............max_depth=6, min_samples_leaf=110; total time=   0.0s\n",
      "[CV 1/5] END ..............max_depth=6, min_samples_leaf=130; total time=   0.0s\n",
      "[CV 2/5] END ..............max_depth=6, min_samples_leaf=130; total time=   0.0s\n",
      "[CV 3/5] END ..............max_depth=6, min_samples_leaf=130; total time=   0.0s\n",
      "[CV 4/5] END ..............max_depth=6, min_samples_leaf=130; total time=   0.0s\n",
      "[CV 5/5] END ..............max_depth=6, min_samples_leaf=130; total time=   0.0s\n",
      "[CV 1/5] END ..............max_depth=6, min_samples_leaf=150; total time=   0.0s\n",
      "[CV 2/5] END ..............max_depth=6, min_samples_leaf=150; total time=   0.0s\n",
      "[CV 3/5] END ..............max_depth=6, min_samples_leaf=150; total time=   0.0s\n",
      "[CV 4/5] END ..............max_depth=6, min_samples_leaf=150; total time=   0.0s\n",
      "[CV 5/5] END ..............max_depth=6, min_samples_leaf=150; total time=   0.0s\n",
      "[CV 1/5] END ..............max_depth=6, min_samples_leaf=170; total time=   0.0s\n",
      "[CV 2/5] END ..............max_depth=6, min_samples_leaf=170; total time=   0.0s\n",
      "[CV 3/5] END ..............max_depth=6, min_samples_leaf=170; total time=   0.0s\n",
      "[CV 4/5] END ..............max_depth=6, min_samples_leaf=170; total time=   0.0s\n",
      "[CV 5/5] END ..............max_depth=6, min_samples_leaf=170; total time=   0.0s\n",
      "[CV 1/5] END ..............max_depth=6, min_samples_leaf=190; total time=   0.0s\n",
      "[CV 2/5] END ..............max_depth=6, min_samples_leaf=190; total time=   0.0s\n",
      "[CV 3/5] END ..............max_depth=6, min_samples_leaf=190; total time=   0.0s\n",
      "[CV 4/5] END ..............max_depth=6, min_samples_leaf=190; total time=   0.0s\n",
      "[CV 5/5] END ..............max_depth=6, min_samples_leaf=190; total time=   0.0s\n",
      "[CV 1/5] END ...............max_depth=7, min_samples_leaf=50; total time=   0.0s\n",
      "[CV 2/5] END ...............max_depth=7, min_samples_leaf=50; total time=   0.0s\n",
      "[CV 3/5] END ...............max_depth=7, min_samples_leaf=50; total time=   0.0s\n",
      "[CV 4/5] END ...............max_depth=7, min_samples_leaf=50; total time=   0.0s\n",
      "[CV 5/5] END ...............max_depth=7, min_samples_leaf=50; total time=   0.0s\n",
      "[CV 1/5] END ...............max_depth=7, min_samples_leaf=70; total time=   0.0s\n",
      "[CV 2/5] END ...............max_depth=7, min_samples_leaf=70; total time=   0.0s\n",
      "[CV 3/5] END ...............max_depth=7, min_samples_leaf=70; total time=   0.0s\n",
      "[CV 4/5] END ...............max_depth=7, min_samples_leaf=70; total time=   0.0s\n",
      "[CV 5/5] END ...............max_depth=7, min_samples_leaf=70; total time=   0.0s\n",
      "[CV 1/5] END ...............max_depth=7, min_samples_leaf=90; total time=   0.0s\n",
      "[CV 2/5] END ...............max_depth=7, min_samples_leaf=90; total time=   0.0s\n",
      "[CV 3/5] END ...............max_depth=7, min_samples_leaf=90; total time=   0.0s\n",
      "[CV 4/5] END ...............max_depth=7, min_samples_leaf=90; total time=   0.0s\n",
      "[CV 5/5] END ...............max_depth=7, min_samples_leaf=90; total time=   0.0s\n",
      "[CV 1/5] END ..............max_depth=7, min_samples_leaf=110; total time=   0.0s\n",
      "[CV 2/5] END ..............max_depth=7, min_samples_leaf=110; total time=   0.0s\n",
      "[CV 3/5] END ..............max_depth=7, min_samples_leaf=110; total time=   0.0s\n",
      "[CV 4/5] END ..............max_depth=7, min_samples_leaf=110; total time=   0.0s\n",
      "[CV 5/5] END ..............max_depth=7, min_samples_leaf=110; total time=   0.0s\n",
      "[CV 1/5] END ..............max_depth=7, min_samples_leaf=130; total time=   0.0s\n",
      "[CV 2/5] END ..............max_depth=7, min_samples_leaf=130; total time=   0.0s\n",
      "[CV 3/5] END ..............max_depth=7, min_samples_leaf=130; total time=   0.0s\n",
      "[CV 4/5] END ..............max_depth=7, min_samples_leaf=130; total time=   0.0s\n",
      "[CV 5/5] END ..............max_depth=7, min_samples_leaf=130; total time=   0.0s\n",
      "[CV 1/5] END ..............max_depth=7, min_samples_leaf=150; total time=   0.0s\n",
      "[CV 2/5] END ..............max_depth=7, min_samples_leaf=150; total time=   0.0s\n",
      "[CV 3/5] END ..............max_depth=7, min_samples_leaf=150; total time=   0.0s\n",
      "[CV 4/5] END ..............max_depth=7, min_samples_leaf=150; total time=   0.0s\n",
      "[CV 5/5] END ..............max_depth=7, min_samples_leaf=150; total time=   0.0s\n",
      "[CV 1/5] END ..............max_depth=7, min_samples_leaf=170; total time=   0.0s\n",
      "[CV 2/5] END ..............max_depth=7, min_samples_leaf=170; total time=   0.0s\n",
      "[CV 3/5] END ..............max_depth=7, min_samples_leaf=170; total time=   0.0s\n",
      "[CV 4/5] END ..............max_depth=7, min_samples_leaf=170; total time=   0.0s\n",
      "[CV 5/5] END ..............max_depth=7, min_samples_leaf=170; total time=   0.0s\n",
      "[CV 1/5] END ..............max_depth=7, min_samples_leaf=190; total time=   0.0s\n",
      "[CV 2/5] END ..............max_depth=7, min_samples_leaf=190; total time=   0.0s\n",
      "[CV 3/5] END ..............max_depth=7, min_samples_leaf=190; total time=   0.0s\n",
      "[CV 4/5] END ..............max_depth=7, min_samples_leaf=190; total time=   0.0s\n",
      "[CV 5/5] END ..............max_depth=7, min_samples_leaf=190; total time=   0.0s\n",
      "[CV 1/5] END ...............max_depth=8, min_samples_leaf=50; total time=   0.0s\n",
      "[CV 2/5] END ...............max_depth=8, min_samples_leaf=50; total time=   0.0s\n",
      "[CV 3/5] END ...............max_depth=8, min_samples_leaf=50; total time=   0.0s\n",
      "[CV 4/5] END ...............max_depth=8, min_samples_leaf=50; total time=   0.0s\n",
      "[CV 5/5] END ...............max_depth=8, min_samples_leaf=50; total time=   0.0s\n",
      "[CV 1/5] END ...............max_depth=8, min_samples_leaf=70; total time=   0.0s\n",
      "[CV 2/5] END ...............max_depth=8, min_samples_leaf=70; total time=   0.0s\n",
      "[CV 3/5] END ...............max_depth=8, min_samples_leaf=70; total time=   0.0s\n",
      "[CV 4/5] END ...............max_depth=8, min_samples_leaf=70; total time=   0.0s\n",
      "[CV 5/5] END ...............max_depth=8, min_samples_leaf=70; total time=   0.0s\n",
      "[CV 1/5] END ...............max_depth=8, min_samples_leaf=90; total time=   0.0s\n",
      "[CV 2/5] END ...............max_depth=8, min_samples_leaf=90; total time=   0.0s\n",
      "[CV 3/5] END ...............max_depth=8, min_samples_leaf=90; total time=   0.0s\n",
      "[CV 4/5] END ...............max_depth=8, min_samples_leaf=90; total time=   0.0s\n",
      "[CV 5/5] END ...............max_depth=8, min_samples_leaf=90; total time=   0.0s\n",
      "[CV 1/5] END ..............max_depth=8, min_samples_leaf=110; total time=   0.0s\n",
      "[CV 2/5] END ..............max_depth=8, min_samples_leaf=110; total time=   0.0s\n",
      "[CV 3/5] END ..............max_depth=8, min_samples_leaf=110; total time=   0.0s\n",
      "[CV 4/5] END ..............max_depth=8, min_samples_leaf=110; total time=   0.0s\n",
      "[CV 5/5] END ..............max_depth=8, min_samples_leaf=110; total time=   0.0s\n",
      "[CV 1/5] END ..............max_depth=8, min_samples_leaf=130; total time=   0.0s\n",
      "[CV 2/5] END ..............max_depth=8, min_samples_leaf=130; total time=   0.0s\n",
      "[CV 3/5] END ..............max_depth=8, min_samples_leaf=130; total time=   0.0s\n",
      "[CV 4/5] END ..............max_depth=8, min_samples_leaf=130; total time=   0.0s\n",
      "[CV 5/5] END ..............max_depth=8, min_samples_leaf=130; total time=   0.0s\n",
      "[CV 1/5] END ..............max_depth=8, min_samples_leaf=150; total time=   0.0s\n",
      "[CV 2/5] END ..............max_depth=8, min_samples_leaf=150; total time=   0.0s\n",
      "[CV 3/5] END ..............max_depth=8, min_samples_leaf=150; total time=   0.0s\n",
      "[CV 4/5] END ..............max_depth=8, min_samples_leaf=150; total time=   0.0s\n",
      "[CV 5/5] END ..............max_depth=8, min_samples_leaf=150; total time=   0.0s\n",
      "[CV 1/5] END ..............max_depth=8, min_samples_leaf=170; total time=   0.0s\n",
      "[CV 2/5] END ..............max_depth=8, min_samples_leaf=170; total time=   0.0s\n",
      "[CV 3/5] END ..............max_depth=8, min_samples_leaf=170; total time=   0.0s\n",
      "[CV 4/5] END ..............max_depth=8, min_samples_leaf=170; total time=   0.0s\n",
      "[CV 5/5] END ..............max_depth=8, min_samples_leaf=170; total time=   0.0s\n",
      "[CV 1/5] END ..............max_depth=8, min_samples_leaf=190; total time=   0.0s\n",
      "[CV 2/5] END ..............max_depth=8, min_samples_leaf=190; total time=   0.0s\n",
      "[CV 3/5] END ..............max_depth=8, min_samples_leaf=190; total time=   0.0s\n",
      "[CV 4/5] END ..............max_depth=8, min_samples_leaf=190; total time=   0.0s\n",
      "[CV 5/5] END ..............max_depth=8, min_samples_leaf=190; total time=   0.0s\n",
      "[CV 1/5] END ...............max_depth=9, min_samples_leaf=50; total time=   0.0s\n",
      "[CV 2/5] END ...............max_depth=9, min_samples_leaf=50; total time=   0.0s\n",
      "[CV 3/5] END ...............max_depth=9, min_samples_leaf=50; total time=   0.0s\n",
      "[CV 4/5] END ...............max_depth=9, min_samples_leaf=50; total time=   0.0s\n",
      "[CV 5/5] END ...............max_depth=9, min_samples_leaf=50; total time=   0.0s\n",
      "[CV 1/5] END ...............max_depth=9, min_samples_leaf=70; total time=   0.0s\n",
      "[CV 2/5] END ...............max_depth=9, min_samples_leaf=70; total time=   0.0s\n",
      "[CV 3/5] END ...............max_depth=9, min_samples_leaf=70; total time=   0.0s\n",
      "[CV 4/5] END ...............max_depth=9, min_samples_leaf=70; total time=   0.0s\n",
      "[CV 5/5] END ...............max_depth=9, min_samples_leaf=70; total time=   0.0s\n",
      "[CV 1/5] END ...............max_depth=9, min_samples_leaf=90; total time=   0.0s\n",
      "[CV 2/5] END ...............max_depth=9, min_samples_leaf=90; total time=   0.0s\n",
      "[CV 3/5] END ...............max_depth=9, min_samples_leaf=90; total time=   0.0s\n",
      "[CV 4/5] END ...............max_depth=9, min_samples_leaf=90; total time=   0.0s\n",
      "[CV 5/5] END ...............max_depth=9, min_samples_leaf=90; total time=   0.0s\n",
      "[CV 1/5] END ..............max_depth=9, min_samples_leaf=110; total time=   0.0s\n",
      "[CV 2/5] END ..............max_depth=9, min_samples_leaf=110; total time=   0.0s\n",
      "[CV 3/5] END ..............max_depth=9, min_samples_leaf=110; total time=   0.0s\n",
      "[CV 4/5] END ..............max_depth=9, min_samples_leaf=110; total time=   0.0s\n",
      "[CV 5/5] END ..............max_depth=9, min_samples_leaf=110; total time=   0.0s\n",
      "[CV 1/5] END ..............max_depth=9, min_samples_leaf=130; total time=   0.0s\n",
      "[CV 2/5] END ..............max_depth=9, min_samples_leaf=130; total time=   0.0s\n",
      "[CV 3/5] END ..............max_depth=9, min_samples_leaf=130; total time=   0.0s\n",
      "[CV 4/5] END ..............max_depth=9, min_samples_leaf=130; total time=   0.0s\n",
      "[CV 5/5] END ..............max_depth=9, min_samples_leaf=130; total time=   0.0s\n",
      "[CV 1/5] END ..............max_depth=9, min_samples_leaf=150; total time=   0.0s\n",
      "[CV 2/5] END ..............max_depth=9, min_samples_leaf=150; total time=   0.0s\n",
      "[CV 3/5] END ..............max_depth=9, min_samples_leaf=150; total time=   0.0s\n",
      "[CV 4/5] END ..............max_depth=9, min_samples_leaf=150; total time=   0.0s\n",
      "[CV 5/5] END ..............max_depth=9, min_samples_leaf=150; total time=   0.0s\n",
      "[CV 1/5] END ..............max_depth=9, min_samples_leaf=170; total time=   0.0s\n",
      "[CV 2/5] END ..............max_depth=9, min_samples_leaf=170; total time=   0.0s\n",
      "[CV 3/5] END ..............max_depth=9, min_samples_leaf=170; total time=   0.0s\n",
      "[CV 4/5] END ..............max_depth=9, min_samples_leaf=170; total time=   0.0s\n",
      "[CV 5/5] END ..............max_depth=9, min_samples_leaf=170; total time=   0.0s\n",
      "[CV 1/5] END ..............max_depth=9, min_samples_leaf=190; total time=   0.0s\n",
      "[CV 2/5] END ..............max_depth=9, min_samples_leaf=190; total time=   0.0s\n",
      "[CV 3/5] END ..............max_depth=9, min_samples_leaf=190; total time=   0.0s\n",
      "[CV 4/5] END ..............max_depth=9, min_samples_leaf=190; total time=   0.0s\n",
      "[CV 5/5] END ..............max_depth=9, min_samples_leaf=190; total time=   0.0s\n",
      "[CV 1/5] END ..............max_depth=10, min_samples_leaf=50; total time=   0.0s\n",
      "[CV 2/5] END ..............max_depth=10, min_samples_leaf=50; total time=   0.0s\n",
      "[CV 3/5] END ..............max_depth=10, min_samples_leaf=50; total time=   0.0s\n",
      "[CV 4/5] END ..............max_depth=10, min_samples_leaf=50; total time=   0.0s\n",
      "[CV 5/5] END ..............max_depth=10, min_samples_leaf=50; total time=   0.0s\n",
      "[CV 1/5] END ..............max_depth=10, min_samples_leaf=70; total time=   0.0s\n",
      "[CV 2/5] END ..............max_depth=10, min_samples_leaf=70; total time=   0.0s\n",
      "[CV 3/5] END ..............max_depth=10, min_samples_leaf=70; total time=   0.0s\n",
      "[CV 4/5] END ..............max_depth=10, min_samples_leaf=70; total time=   0.0s\n",
      "[CV 5/5] END ..............max_depth=10, min_samples_leaf=70; total time=   0.0s\n",
      "[CV 1/5] END ..............max_depth=10, min_samples_leaf=90; total time=   0.0s\n",
      "[CV 2/5] END ..............max_depth=10, min_samples_leaf=90; total time=   0.0s\n",
      "[CV 3/5] END ..............max_depth=10, min_samples_leaf=90; total time=   0.0s\n",
      "[CV 4/5] END ..............max_depth=10, min_samples_leaf=90; total time=   0.0s\n",
      "[CV 5/5] END ..............max_depth=10, min_samples_leaf=90; total time=   0.0s\n",
      "[CV 1/5] END .............max_depth=10, min_samples_leaf=110; total time=   0.0s\n",
      "[CV 2/5] END .............max_depth=10, min_samples_leaf=110; total time=   0.0s\n",
      "[CV 3/5] END .............max_depth=10, min_samples_leaf=110; total time=   0.0s\n",
      "[CV 4/5] END .............max_depth=10, min_samples_leaf=110; total time=   0.0s\n",
      "[CV 5/5] END .............max_depth=10, min_samples_leaf=110; total time=   0.0s\n",
      "[CV 1/5] END .............max_depth=10, min_samples_leaf=130; total time=   0.0s\n",
      "[CV 2/5] END .............max_depth=10, min_samples_leaf=130; total time=   0.0s\n",
      "[CV 3/5] END .............max_depth=10, min_samples_leaf=130; total time=   0.0s\n",
      "[CV 4/5] END .............max_depth=10, min_samples_leaf=130; total time=   0.0s\n",
      "[CV 5/5] END .............max_depth=10, min_samples_leaf=130; total time=   0.0s\n",
      "[CV 1/5] END .............max_depth=10, min_samples_leaf=150; total time=   0.0s\n",
      "[CV 2/5] END .............max_depth=10, min_samples_leaf=150; total time=   0.0s\n",
      "[CV 3/5] END .............max_depth=10, min_samples_leaf=150; total time=   0.0s\n",
      "[CV 4/5] END .............max_depth=10, min_samples_leaf=150; total time=   0.0s\n",
      "[CV 5/5] END .............max_depth=10, min_samples_leaf=150; total time=   0.0s\n",
      "[CV 1/5] END .............max_depth=10, min_samples_leaf=170; total time=   0.0s\n",
      "[CV 2/5] END .............max_depth=10, min_samples_leaf=170; total time=   0.0s\n",
      "[CV 3/5] END .............max_depth=10, min_samples_leaf=170; total time=   0.0s\n",
      "[CV 4/5] END .............max_depth=10, min_samples_leaf=170; total time=   0.0s\n",
      "[CV 5/5] END .............max_depth=10, min_samples_leaf=170; total time=   0.0s\n",
      "[CV 1/5] END .............max_depth=10, min_samples_leaf=190; total time=   0.0s\n",
      "[CV 2/5] END .............max_depth=10, min_samples_leaf=190; total time=   0.0s\n",
      "[CV 3/5] END .............max_depth=10, min_samples_leaf=190; total time=   0.0s\n",
      "[CV 4/5] END .............max_depth=10, min_samples_leaf=190; total time=   0.0s\n",
      "[CV 5/5] END .............max_depth=10, min_samples_leaf=190; total time=   0.0s\n"
     ]
    },
    {
     "data": {
      "text/plain": [
       "GridSearchCV(cv=5, estimator=DecisionTreeRegressor(),\n",
       "             param_grid={'max_depth': range(1, 11),\n",
       "                         'min_samples_leaf': range(50, 201, 20)},\n",
       "             scoring='neg_mean_absolute_error', verbose=3)"
      ]
     },
     "execution_count": 146,
     "metadata": {},
     "output_type": "execute_result"
    }
   ],
   "source": [
    "dt_model_gs.fit(x_train,y_train)"
   ]
  },
  {
   "cell_type": "code",
   "execution_count": 147,
   "metadata": {
    "id": "uCUTDKCS9uW7"
   },
   "outputs": [
    {
     "data": {
      "text/plain": [
       "DecisionTreeRegressor(max_depth=2, min_samples_leaf=90)"
      ]
     },
     "execution_count": 147,
     "metadata": {},
     "output_type": "execute_result"
    }
   ],
   "source": [
    "dt_model_gs.best_estimator_"
   ]
  },
  {
   "cell_type": "code",
   "execution_count": 148,
   "metadata": {
    "id": "0QDbpKut9uT8"
   },
   "outputs": [
    {
     "data": {
      "text/plain": [
       "-1.944865354493773"
      ]
     },
     "execution_count": 148,
     "metadata": {},
     "output_type": "execute_result"
    }
   ],
   "source": [
    "dt_model_gs.best_score_"
   ]
  },
  {
   "cell_type": "code",
   "execution_count": 149,
   "metadata": {},
   "outputs": [],
   "source": [
    "dt_df = pd.DataFrame(dt_model_gs.cv_results_)\n",
    "dt_df = dt_df.loc[:,['param_max_depth','param_min_samples_leaf','mean_test_score']]"
   ]
  },
  {
   "cell_type": "code",
   "execution_count": 150,
   "metadata": {},
   "outputs": [
    {
     "data": {
      "text/html": [
       "<div>\n",
       "<style scoped>\n",
       "    .dataframe tbody tr th:only-of-type {\n",
       "        vertical-align: middle;\n",
       "    }\n",
       "\n",
       "    .dataframe tbody tr th {\n",
       "        vertical-align: top;\n",
       "    }\n",
       "\n",
       "    .dataframe thead th {\n",
       "        text-align: right;\n",
       "    }\n",
       "</style>\n",
       "<table border=\"1\" class=\"dataframe\">\n",
       "  <thead>\n",
       "    <tr style=\"text-align: right;\">\n",
       "      <th></th>\n",
       "      <th>param_max_depth</th>\n",
       "      <th>param_min_samples_leaf</th>\n",
       "      <th>mean_test_score</th>\n",
       "    </tr>\n",
       "  </thead>\n",
       "  <tbody>\n",
       "    <tr>\n",
       "      <th>0</th>\n",
       "      <td>1</td>\n",
       "      <td>50</td>\n",
       "      <td>-2.033495</td>\n",
       "    </tr>\n",
       "    <tr>\n",
       "      <th>1</th>\n",
       "      <td>1</td>\n",
       "      <td>70</td>\n",
       "      <td>-2.001818</td>\n",
       "    </tr>\n",
       "    <tr>\n",
       "      <th>2</th>\n",
       "      <td>1</td>\n",
       "      <td>90</td>\n",
       "      <td>-1.944865</td>\n",
       "    </tr>\n",
       "    <tr>\n",
       "      <th>3</th>\n",
       "      <td>1</td>\n",
       "      <td>110</td>\n",
       "      <td>-2.006060</td>\n",
       "    </tr>\n",
       "    <tr>\n",
       "      <th>4</th>\n",
       "      <td>1</td>\n",
       "      <td>130</td>\n",
       "      <td>-2.255647</td>\n",
       "    </tr>\n",
       "  </tbody>\n",
       "</table>\n",
       "</div>"
      ],
      "text/plain": [
       "  param_max_depth param_min_samples_leaf  mean_test_score\n",
       "0               1                     50        -2.033495\n",
       "1               1                     70        -2.001818\n",
       "2               1                     90        -1.944865\n",
       "3               1                    110        -2.006060\n",
       "4               1                    130        -2.255647"
      ]
     },
     "execution_count": 150,
     "metadata": {},
     "output_type": "execute_result"
    }
   ],
   "source": [
    "dt_df.head()"
   ]
  },
  {
   "cell_type": "code",
   "execution_count": 151,
   "metadata": {},
   "outputs": [],
   "source": [
    "dt_pred_gs = dt_model_gs.predict(x_val)"
   ]
  },
  {
   "cell_type": "code",
   "execution_count": 159,
   "metadata": {},
   "outputs": [
    {
     "name": "stdout",
     "output_type": "stream",
     "text": [
      "rmse: 2.543506552859365\n",
      "mae: 2.017660387398893\n",
      "정확도: 0.6665069293237558\n"
     ]
    }
   ],
   "source": [
    "print('rmse:',mean_squared_error(y_val, dt_pred_gs, squared=False))\n",
    "print('mae:',mean_absolute_error(y_val, dt_pred_gs))\n",
    "print('정확도:',1 - mean_absolute_percentage_error(y_val, dt_pred_gs))"
   ]
  },
  {
   "cell_type": "code",
   "execution_count": 154,
   "metadata": {},
   "outputs": [
    {
     "data": {
      "image/png": "[encoded data removed]",
      "text/plain": [
       "<Figure size 432x288 with 1 Axes>"
      ]
     },
     "metadata": {
      "needs_background": "light"
     },
     "output_type": "display_data"
    }
   ],
   "source": [
    "sns.lineplot(x='param_min_samples_leaf',y='mean_test_score', data=dt_df,hue='param_max_depth')\n",
    "plt.show()"
   ]
  },
  {
   "cell_type": "markdown",
   "metadata": {
    "id": "-fIyHrVFRgBt"
   },
   "source": [
    "### (4) Random Forest"
   ]
  },
  {
   "cell_type": "code",
   "execution_count": 160,
   "metadata": {},
   "outputs": [],
   "source": [
    "rndf_model = RandomForestRegressor()"
   ]
  },
  {
   "cell_type": "code",
   "execution_count": 168,
   "metadata": {
    "id": "6FDPn5oO9wNE"
   },
   "outputs": [],
   "source": [
    "rndf_param = {'n_estimators': range(5,201,50),'max_features': range(1,x_train.shape[1]+1)}\n",
    "rndf_model_gx = GridSearchCV(rndf_model,rndf_param,cv=5,verbose=3)"
   ]
  },
  {
   "cell_type": "code",
   "execution_count": 169,
   "metadata": {
    "collapsed": true,
    "id": "pNLcnV409wJu",
    "jupyter": {
     "outputs_hidden": true
    },
    "tags": []
   },
   "outputs": [
    {
     "name": "stdout",
     "output_type": "stream",
     "text": [
      "Fitting 5 folds for each of 44 candidates, totalling 220 fits\n",
      "[CV 1/5] END .................max_features=1, n_estimators=5; total time=   0.0s\n",
      "[CV 2/5] END .................max_features=1, n_estimators=5; total time=   0.0s\n",
      "[CV 3/5] END .................max_features=1, n_estimators=5; total time=   0.0s\n",
      "[CV 4/5] END .................max_features=1, n_estimators=5; total time=   0.0s\n",
      "[CV 5/5] END .................max_features=1, n_estimators=5; total time=   0.0s\n",
      "[CV 1/5] END ................max_features=1, n_estimators=55; total time=   0.0s\n",
      "[CV 2/5] END ................max_features=1, n_estimators=55; total time=   0.0s\n",
      "[CV 3/5] END ................max_features=1, n_estimators=55; total time=   0.0s\n",
      "[CV 4/5] END ................max_features=1, n_estimators=55; total time=   0.0s\n",
      "[CV 5/5] END ................max_features=1, n_estimators=55; total time=   0.0s\n",
      "[CV 1/5] END ...............max_features=1, n_estimators=105; total time=   0.0s\n",
      "[CV 2/5] END ...............max_features=1, n_estimators=105; total time=   0.0s\n",
      "[CV 3/5] END ...............max_features=1, n_estimators=105; total time=   0.1s\n",
      "[CV 4/5] END ...............max_features=1, n_estimators=105; total time=   0.0s\n",
      "[CV 5/5] END ...............max_features=1, n_estimators=105; total time=   0.0s\n",
      "[CV 1/5] END ...............max_features=1, n_estimators=155; total time=   0.1s\n",
      "[CV 2/5] END ...............max_features=1, n_estimators=155; total time=   0.1s\n",
      "[CV 3/5] END ...............max_features=1, n_estimators=155; total time=   0.1s\n",
      "[CV 4/5] END ...............max_features=1, n_estimators=155; total time=   0.1s\n",
      "[CV 5/5] END ...............max_features=1, n_estimators=155; total time=   0.1s\n",
      "[CV 1/5] END .................max_features=2, n_estimators=5; total time=   0.0s\n",
      "[CV 2/5] END .................max_features=2, n_estimators=5; total time=   0.0s\n",
      "[CV 3/5] END .................max_features=2, n_estimators=5; total time=   0.0s\n",
      "[CV 4/5] END .................max_features=2, n_estimators=5; total time=   0.0s\n",
      "[CV 5/5] END .................max_features=2, n_estimators=5; total time=   0.0s\n",
      "[CV 1/5] END ................max_features=2, n_estimators=55; total time=   0.0s\n",
      "[CV 2/5] END ................max_features=2, n_estimators=55; total time=   0.0s\n",
      "[CV 3/5] END ................max_features=2, n_estimators=55; total time=   0.0s\n",
      "[CV 4/5] END ................max_features=2, n_estimators=55; total time=   0.0s\n",
      "[CV 5/5] END ................max_features=2, n_estimators=55; total time=   0.0s\n",
      "[CV 1/5] END ...............max_features=2, n_estimators=105; total time=   0.0s\n",
      "[CV 2/5] END ...............max_features=2, n_estimators=105; total time=   0.0s\n",
      "[CV 3/5] END ...............max_features=2, n_estimators=105; total time=   0.0s\n",
      "[CV 4/5] END ...............max_features=2, n_estimators=105; total time=   0.0s\n",
      "[CV 5/5] END ...............max_features=2, n_estimators=105; total time=   0.0s\n",
      "[CV 1/5] END ...............max_features=2, n_estimators=155; total time=   0.1s\n",
      "[CV 2/5] END ...............max_features=2, n_estimators=155; total time=   0.1s\n",
      "[CV 3/5] END ...............max_features=2, n_estimators=155; total time=   0.1s\n",
      "[CV 4/5] END ...............max_features=2, n_estimators=155; total time=   0.1s\n",
      "[CV 5/5] END ...............max_features=2, n_estimators=155; total time=   0.1s\n",
      "[CV 1/5] END .................max_features=3, n_estimators=5; total time=   0.0s\n",
      "[CV 2/5] END .................max_features=3, n_estimators=5; total time=   0.0s\n",
      "[CV 3/5] END .................max_features=3, n_estimators=5; total time=   0.0s\n",
      "[CV 4/5] END .................max_features=3, n_estimators=5; total time=   0.0s\n",
      "[CV 5/5] END .................max_features=3, n_estimators=5; total time=   0.0s\n",
      "[CV 1/5] END ................max_features=3, n_estimators=55; total time=   0.0s\n",
      "[CV 2/5] END ................max_features=3, n_estimators=55; total time=   0.0s\n",
      "[CV 3/5] END ................max_features=3, n_estimators=55; total time=   0.0s\n",
      "[CV 4/5] END ................max_features=3, n_estimators=55; total time=   0.0s\n",
      "[CV 5/5] END ................max_features=3, n_estimators=55; total time=   0.0s\n",
      "[CV 1/5] END ...............max_features=3, n_estimators=105; total time=   0.0s\n",
      "[CV 2/5] END ...............max_features=3, n_estimators=105; total time=   0.0s\n",
      "[CV 3/5] END ...............max_features=3, n_estimators=105; total time=   0.0s\n",
      "[CV 4/5] END ...............max_features=3, n_estimators=105; total time=   0.0s\n",
      "[CV 5/5] END ...............max_features=3, n_estimators=105; total time=   0.0s\n",
      "[CV 1/5] END ...............max_features=3, n_estimators=155; total time=   0.1s\n",
      "[CV 2/5] END ...............max_features=3, n_estimators=155; total time=   0.1s\n",
      "[CV 3/5] END ...............max_features=3, n_estimators=155; total time=   0.1s\n",
      "[CV 4/5] END ...............max_features=3, n_estimators=155; total time=   0.1s\n",
      "[CV 5/5] END ...............max_features=3, n_estimators=155; total time=   0.1s\n",
      "[CV 1/5] END .................max_features=4, n_estimators=5; total time=   0.0s\n",
      "[CV 2/5] END .................max_features=4, n_estimators=5; total time=   0.0s\n",
      "[CV 3/5] END .................max_features=4, n_estimators=5; total time=   0.0s\n",
      "[CV 4/5] END .................max_features=4, n_estimators=5; total time=   0.0s\n",
      "[CV 5/5] END .................max_features=4, n_estimators=5; total time=   0.0s\n",
      "[CV 1/5] END ................max_features=4, n_estimators=55; total time=   0.0s\n",
      "[CV 2/5] END ................max_features=4, n_estimators=55; total time=   0.1s\n",
      "[CV 3/5] END ................max_features=4, n_estimators=55; total time=   0.0s\n",
      "[CV 4/5] END ................max_features=4, n_estimators=55; total time=   0.0s\n",
      "[CV 5/5] END ................max_features=4, n_estimators=55; total time=   0.0s\n",
      "[CV 1/5] END ...............max_features=4, n_estimators=105; total time=   0.1s\n",
      "[CV 2/5] END ...............max_features=4, n_estimators=105; total time=   0.0s\n",
      "[CV 3/5] END ...............max_features=4, n_estimators=105; total time=   0.0s\n",
      "[CV 4/5] END ...............max_features=4, n_estimators=105; total time=   0.0s\n",
      "[CV 5/5] END ...............max_features=4, n_estimators=105; total time=   0.1s\n",
      "[CV 1/5] END ...............max_features=4, n_estimators=155; total time=   0.1s\n",
      "[CV 2/5] END ...............max_features=4, n_estimators=155; total time=   0.1s\n",
      "[CV 3/5] END ...............max_features=4, n_estimators=155; total time=   0.1s\n",
      "[CV 4/5] END ...............max_features=4, n_estimators=155; total time=   0.1s\n",
      "[CV 5/5] END ...............max_features=4, n_estimators=155; total time=   0.1s\n",
      "[CV 1/5] END .................max_features=5, n_estimators=5; total time=   0.0s\n",
      "[CV 2/5] END .................max_features=5, n_estimators=5; total time=   0.0s\n",
      "[CV 3/5] END .................max_features=5, n_estimators=5; total time=   0.0s\n",
      "[CV 4/5] END .................max_features=5, n_estimators=5; total time=   0.0s\n",
      "[CV 5/5] END .................max_features=5, n_estimators=5; total time=   0.0s\n",
      "[CV 1/5] END ................max_features=5, n_estimators=55; total time=   0.0s\n",
      "[CV 2/5] END ................max_features=5, n_estimators=55; total time=   0.0s\n",
      "[CV 3/5] END ................max_features=5, n_estimators=55; total time=   0.0s\n",
      "[CV 4/5] END ................max_features=5, n_estimators=55; total time=   0.0s\n",
      "[CV 5/5] END ................max_features=5, n_estimators=55; total time=   0.0s\n",
      "[CV 1/5] END ...............max_features=5, n_estimators=105; total time=   0.0s\n",
      "[CV 2/5] END ...............max_features=5, n_estimators=105; total time=   0.0s\n",
      "[CV 3/5] END ...............max_features=5, n_estimators=105; total time=   0.0s\n",
      "[CV 4/5] END ...............max_features=5, n_estimators=105; total time=   0.0s\n",
      "[CV 5/5] END ...............max_features=5, n_estimators=105; total time=   0.0s\n",
      "[CV 1/5] END ...............max_features=5, n_estimators=155; total time=   0.1s\n",
      "[CV 2/5] END ...............max_features=5, n_estimators=155; total time=   0.1s\n",
      "[CV 3/5] END ...............max_features=5, n_estimators=155; total time=   0.1s\n",
      "[CV 4/5] END ...............max_features=5, n_estimators=155; total time=   0.1s\n",
      "[CV 5/5] END ...............max_features=5, n_estimators=155; total time=   0.1s\n",
      "[CV 1/5] END .................max_features=6, n_estimators=5; total time=   0.0s\n",
      "[CV 2/5] END .................max_features=6, n_estimators=5; total time=   0.0s\n",
      "[CV 3/5] END .................max_features=6, n_estimators=5; total time=   0.0s\n",
      "[CV 4/5] END .................max_features=6, n_estimators=5; total time=   0.0s\n",
      "[CV 5/5] END .................max_features=6, n_estimators=5; total time=   0.0s\n",
      "[CV 1/5] END ................max_features=6, n_estimators=55; total time=   0.0s\n",
      "[CV 2/5] END ................max_features=6, n_estimators=55; total time=   0.0s\n",
      "[CV 3/5] END ................max_features=6, n_estimators=55; total time=   0.0s\n",
      "[CV 4/5] END ................max_features=6, n_estimators=55; total time=   0.0s\n",
      "[CV 5/5] END ................max_features=6, n_estimators=55; total time=   0.0s\n",
      "[CV 1/5] END ...............max_features=6, n_estimators=105; total time=   0.0s\n",
      "[CV 2/5] END ...............max_features=6, n_estimators=105; total time=   0.0s\n",
      "[CV 3/5] END ...............max_features=6, n_estimators=105; total time=   0.1s\n",
      "[CV 4/5] END ...............max_features=6, n_estimators=105; total time=   0.1s\n",
      "[CV 5/5] END ...............max_features=6, n_estimators=105; total time=   0.0s\n",
      "[CV 1/5] END ...............max_features=6, n_estimators=155; total time=   0.1s\n",
      "[CV 2/5] END ...............max_features=6, n_estimators=155; total time=   0.1s\n",
      "[CV 3/5] END ...............max_features=6, n_estimators=155; total time=   0.1s\n",
      "[CV 4/5] END ...............max_features=6, n_estimators=155; total time=   0.1s\n",
      "[CV 5/5] END ...............max_features=6, n_estimators=155; total time=   0.1s\n",
      "[CV 1/5] END .................max_features=7, n_estimators=5; total time=   0.0s\n",
      "[CV 2/5] END .................max_features=7, n_estimators=5; total time=   0.0s\n",
      "[CV 3/5] END .................max_features=7, n_estimators=5; total time=   0.0s\n",
      "[CV 4/5] END .................max_features=7, n_estimators=5; total time=   0.0s\n",
      "[CV 5/5] END .................max_features=7, n_estimators=5; total time=   0.0s\n",
      "[CV 1/5] END ................max_features=7, n_estimators=55; total time=   0.0s\n",
      "[CV 2/5] END ................max_features=7, n_estimators=55; total time=   0.0s\n",
      "[CV 3/5] END ................max_features=7, n_estimators=55; total time=   0.0s\n",
      "[CV 4/5] END ................max_features=7, n_estimators=55; total time=   0.0s\n",
      "[CV 5/5] END ................max_features=7, n_estimators=55; total time=   0.0s\n",
      "[CV 1/5] END ...............max_features=7, n_estimators=105; total time=   0.1s\n",
      "[CV 2/5] END ...............max_features=7, n_estimators=105; total time=   0.1s\n",
      "[CV 3/5] END ...............max_features=7, n_estimators=105; total time=   0.0s\n",
      "[CV 4/5] END ...............max_features=7, n_estimators=105; total time=   0.0s\n",
      "[CV 5/5] END ...............max_features=7, n_estimators=105; total time=   0.0s\n",
      "[CV 1/5] END ...............max_features=7, n_estimators=155; total time=   0.1s\n",
      "[CV 2/5] END ...............max_features=7, n_estimators=155; total time=   0.1s\n",
      "[CV 3/5] END ...............max_features=7, n_estimators=155; total time=   0.1s\n",
      "[CV 4/5] END ...............max_features=7, n_estimators=155; total time=   0.1s\n",
      "[CV 5/5] END ...............max_features=7, n_estimators=155; total time=   0.1s\n",
      "[CV 1/5] END .................max_features=8, n_estimators=5; total time=   0.0s\n",
      "[CV 2/5] END .................max_features=8, n_estimators=5; total time=   0.0s\n",
      "[CV 3/5] END .................max_features=8, n_estimators=5; total time=   0.0s\n",
      "[CV 4/5] END .................max_features=8, n_estimators=5; total time=   0.0s\n",
      "[CV 5/5] END .................max_features=8, n_estimators=5; total time=   0.0s\n",
      "[CV 1/5] END ................max_features=8, n_estimators=55; total time=   0.0s\n",
      "[CV 2/5] END ................max_features=8, n_estimators=55; total time=   0.0s\n",
      "[CV 3/5] END ................max_features=8, n_estimators=55; total time=   0.0s\n",
      "[CV 4/5] END ................max_features=8, n_estimators=55; total time=   0.0s\n",
      "[CV 5/5] END ................max_features=8, n_estimators=55; total time=   0.0s\n",
      "[CV 1/5] END ...............max_features=8, n_estimators=105; total time=   0.1s\n",
      "[CV 2/5] END ...............max_features=8, n_estimators=105; total time=   0.1s\n",
      "[CV 3/5] END ...............max_features=8, n_estimators=105; total time=   0.1s\n",
      "[CV 4/5] END ...............max_features=8, n_estimators=105; total time=   0.0s\n",
      "[CV 5/5] END ...............max_features=8, n_estimators=105; total time=   0.1s\n",
      "[CV 1/5] END ...............max_features=8, n_estimators=155; total time=   0.2s\n",
      "[CV 2/5] END ...............max_features=8, n_estimators=155; total time=   0.1s\n",
      "[CV 3/5] END ...............max_features=8, n_estimators=155; total time=   0.1s\n",
      "[CV 4/5] END ...............max_features=8, n_estimators=155; total time=   0.1s\n",
      "[CV 5/5] END ...............max_features=8, n_estimators=155; total time=   0.1s\n",
      "[CV 1/5] END .................max_features=9, n_estimators=5; total time=   0.0s\n",
      "[CV 2/5] END .................max_features=9, n_estimators=5; total time=   0.0s\n",
      "[CV 3/5] END .................max_features=9, n_estimators=5; total time=   0.0s\n",
      "[CV 4/5] END .................max_features=9, n_estimators=5; total time=   0.0s\n",
      "[CV 5/5] END .................max_features=9, n_estimators=5; total time=   0.0s\n",
      "[CV 1/5] END ................max_features=9, n_estimators=55; total time=   0.0s\n",
      "[CV 2/5] END ................max_features=9, n_estimators=55; total time=   0.0s\n",
      "[CV 3/5] END ................max_features=9, n_estimators=55; total time=   0.0s\n",
      "[CV 4/5] END ................max_features=9, n_estimators=55; total time=   0.0s\n",
      "[CV 5/5] END ................max_features=9, n_estimators=55; total time=   0.0s\n",
      "[CV 1/5] END ...............max_features=9, n_estimators=105; total time=   0.0s\n",
      "[CV 2/5] END ...............max_features=9, n_estimators=105; total time=   0.1s\n",
      "[CV 3/5] END ...............max_features=9, n_estimators=105; total time=   0.0s\n",
      "[CV 4/5] END ...............max_features=9, n_estimators=105; total time=   0.1s\n",
      "[CV 5/5] END ...............max_features=9, n_estimators=105; total time=   0.1s\n",
      "[CV 1/5] END ...............max_features=9, n_estimators=155; total time=   0.1s\n",
      "[CV 2/5] END ...............max_features=9, n_estimators=155; total time=   0.1s\n",
      "[CV 3/5] END ...............max_features=9, n_estimators=155; total time=   0.1s\n",
      "[CV 4/5] END ...............max_features=9, n_estimators=155; total time=   0.2s\n",
      "[CV 5/5] END ...............max_features=9, n_estimators=155; total time=   0.2s\n",
      "[CV 1/5] END ................max_features=10, n_estimators=5; total time=   0.0s\n",
      "[CV 2/5] END ................max_features=10, n_estimators=5; total time=   0.0s\n",
      "[CV 3/5] END ................max_features=10, n_estimators=5; total time=   0.0s\n",
      "[CV 4/5] END ................max_features=10, n_estimators=5; total time=   0.0s\n",
      "[CV 5/5] END ................max_features=10, n_estimators=5; total time=   0.0s\n",
      "[CV 1/5] END ...............max_features=10, n_estimators=55; total time=   0.0s\n",
      "[CV 2/5] END ...............max_features=10, n_estimators=55; total time=   0.0s\n",
      "[CV 3/5] END ...............max_features=10, n_estimators=55; total time=   0.0s\n",
      "[CV 4/5] END ...............max_features=10, n_estimators=55; total time=   0.0s\n",
      "[CV 5/5] END ...............max_features=10, n_estimators=55; total time=   0.0s\n",
      "[CV 1/5] END ..............max_features=10, n_estimators=105; total time=   0.0s\n",
      "[CV 2/5] END ..............max_features=10, n_estimators=105; total time=   0.1s\n",
      "[CV 3/5] END ..............max_features=10, n_estimators=105; total time=   0.0s\n",
      "[CV 4/5] END ..............max_features=10, n_estimators=105; total time=   0.1s\n",
      "[CV 5/5] END ..............max_features=10, n_estimators=105; total time=   0.1s\n",
      "[CV 1/5] END ..............max_features=10, n_estimators=155; total time=   0.2s\n",
      "[CV 2/5] END ..............max_features=10, n_estimators=155; total time=   0.2s\n",
      "[CV 3/5] END ..............max_features=10, n_estimators=155; total time=   0.1s\n",
      "[CV 4/5] END ..............max_features=10, n_estimators=155; total time=   0.1s\n",
      "[CV 5/5] END ..............max_features=10, n_estimators=155; total time=   0.1s\n",
      "[CV 1/5] END ................max_features=11, n_estimators=5; total time=   0.0s\n",
      "[CV 2/5] END ................max_features=11, n_estimators=5; total time=   0.0s\n",
      "[CV 3/5] END ................max_features=11, n_estimators=5; total time=   0.0s\n",
      "[CV 4/5] END ................max_features=11, n_estimators=5; total time=   0.0s\n",
      "[CV 5/5] END ................max_features=11, n_estimators=5; total time=   0.0s\n",
      "[CV 1/5] END ...............max_features=11, n_estimators=55; total time=   0.0s\n",
      "[CV 2/5] END ...............max_features=11, n_estimators=55; total time=   0.0s\n",
      "[CV 3/5] END ...............max_features=11, n_estimators=55; total time=   0.0s\n",
      "[CV 4/5] END ...............max_features=11, n_estimators=55; total time=   0.0s\n",
      "[CV 5/5] END ...............max_features=11, n_estimators=55; total time=   0.0s\n",
      "[CV 1/5] END ..............max_features=11, n_estimators=105; total time=   0.1s\n",
      "[CV 2/5] END ..............max_features=11, n_estimators=105; total time=   0.1s\n",
      "[CV 3/5] END ..............max_features=11, n_estimators=105; total time=   0.1s\n",
      "[CV 4/5] END ..............max_features=11, n_estimators=105; total time=   0.1s\n",
      "[CV 5/5] END ..............max_features=11, n_estimators=105; total time=   0.1s\n",
      "[CV 1/5] END ..............max_features=11, n_estimators=155; total time=   0.2s\n",
      "[CV 2/5] END ..............max_features=11, n_estimators=155; total time=   0.1s\n",
      "[CV 3/5] END ..............max_features=11, n_estimators=155; total time=   0.1s\n",
      "[CV 4/5] END ..............max_features=11, n_estimators=155; total time=   0.1s\n",
      "[CV 5/5] END ..............max_features=11, n_estimators=155; total time=   0.1s\n"
     ]
    },
    {
     "data": {
      "text/plain": [
       "GridSearchCV(cv=5, estimator=RandomForestRegressor(),\n",
       "             param_grid={'max_features': range(1, 12),\n",
       "                         'n_estimators': range(5, 201, 50)},\n",
       "             verbose=3)"
      ]
     },
     "execution_count": 169,
     "metadata": {},
     "output_type": "execute_result"
    }
   ],
   "source": [
    "rndf_model_gx.fit(x_train,y_train)"
   ]
  },
  {
   "cell_type": "code",
   "execution_count": 170,
   "metadata": {
    "id": "v6JTXU4t9wG6"
   },
   "outputs": [
    {
     "data": {
      "text/plain": [
       "RandomForestRegressor(max_features=8, n_estimators=155)"
      ]
     },
     "execution_count": 170,
     "metadata": {},
     "output_type": "execute_result"
    }
   ],
   "source": [
    "rndf_model_gx.best_estimator_"
   ]
  },
  {
   "cell_type": "code",
   "execution_count": 171,
   "metadata": {
    "id": "Up6FbvKx9wD_"
   },
   "outputs": [
    {
     "data": {
      "text/plain": [
       "0.7357507511910253"
      ]
     },
     "execution_count": 171,
     "metadata": {},
     "output_type": "execute_result"
    }
   ],
   "source": [
    "rndf_model_gx.best_score_"
   ]
  },
  {
   "cell_type": "code",
   "execution_count": 176,
   "metadata": {
    "id": "c7RAzMyw9wA0"
   },
   "outputs": [],
   "source": [
    "rndf_df = pd.DataFrame(rndf_model_gx.cv_results_)\n",
    "rndf_df = rndf_df.loc[:,['param_n_estimators','param_max_features','mean_test_score']]"
   ]
  },
  {
   "cell_type": "code",
   "execution_count": 180,
   "metadata": {
    "id": "w-SlzyQFRgBv"
   },
   "outputs": [
    {
     "data": {
      "image/png": "[encoded data removed]",
      "text/plain": [
       "<Figure size 432x288 with 1 Axes>"
      ]
     },
     "metadata": {
      "needs_background": "light"
     },
     "output_type": "display_data"
    }
   ],
   "source": [
    "sns.lineplot(x='param_n_estimators',y='mean_test_score', data=rndf_df,hue='param_max_features')\n",
    "plt.show()"
   ]
  },
  {
   "cell_type": "code",
   "execution_count": 194,
   "metadata": {},
   "outputs": [],
   "source": [
    "rndf_pred_gx= rndf_model_gx.predict(x_val)"
   ]
  },
  {
   "cell_type": "code",
   "execution_count": 195,
   "metadata": {},
   "outputs": [
    {
     "name": "stdout",
     "output_type": "stream",
     "text": [
      "rmse: 1.3850374868548005\n",
      "mae: 1.1182123655913978\n",
      "정확도: 0.8139337877271359\n"
     ]
    }
   ],
   "source": [
    "print('rmse:',mean_squared_error(y_val, rndf_pred_gx, squared=False))\n",
    "print('mae:',mean_absolute_error(y_val, rndf_pred_gx))\n",
    "print('정확도:',1 - mean_absolute_percentage_error(y_val, rndf_pred_gx))"
   ]
  },
  {
   "cell_type": "code",
   "execution_count": null,
   "metadata": {},
   "outputs": [],
   "source": []
  },
  {
   "cell_type": "markdown",
   "metadata": {
    "id": "nB5okfNhSLNt"
   },
   "source": [
    "### (5) SVM"
   ]
  },
  {
   "cell_type": "code",
   "execution_count": 181,
   "metadata": {},
   "outputs": [],
   "source": [
    "svm_model = SVR()"
   ]
  },
  {
   "cell_type": "code",
   "execution_count": 188,
   "metadata": {},
   "outputs": [
    {
     "data": {
      "text/plain": [
       "{'C': array([1.00000000e-02, 2.05061224e+00, 4.09122449e+00, 6.13183673e+00,\n",
       "        8.17244898e+00, 1.02130612e+01, 1.22536735e+01, 1.42942857e+01,\n",
       "        1.63348980e+01, 1.83755102e+01, 2.04161224e+01, 2.24567347e+01,\n",
       "        2.44973469e+01, 2.65379592e+01, 2.85785714e+01, 3.06191837e+01,\n",
       "        3.26597959e+01, 3.47004082e+01, 3.67410204e+01, 3.87816327e+01,\n",
       "        4.08222449e+01, 4.28628571e+01, 4.49034694e+01, 4.69440816e+01,\n",
       "        4.89846939e+01, 5.10253061e+01, 5.30659184e+01, 5.51065306e+01,\n",
       "        5.71471429e+01, 5.91877551e+01, 6.12283673e+01, 6.32689796e+01,\n",
       "        6.53095918e+01, 6.73502041e+01, 6.93908163e+01, 7.14314286e+01,\n",
       "        7.34720408e+01, 7.55126531e+01, 7.75532653e+01, 7.95938776e+01,\n",
       "        8.16344898e+01, 8.36751020e+01, 8.57157143e+01, 8.77563265e+01,\n",
       "        8.97969388e+01, 9.18375510e+01, 9.38781633e+01, 9.59187755e+01,\n",
       "        9.79593878e+01, 1.00000000e+02]),\n",
       " 'gamma': [0.001, 0.05, 0.1, 0.5, 1, 1.5]}"
      ]
     },
     "execution_count": 188,
     "metadata": {},
     "output_type": "execute_result"
    }
   ],
   "source": [
    "svm_param = {'C': np.linspace(0.01,100,50), 'gamma': [0.001, 0.05, 0.1,0.5,1,1.5]}\n",
    "svm_param"
   ]
  },
  {
   "cell_type": "code",
   "execution_count": 190,
   "metadata": {},
   "outputs": [],
   "source": [
    "svm_model_gs = GridSearchCV(svm_model, svm_param,  cv=5, verbose=3)"
   ]
  },
  {
   "cell_type": "code",
   "execution_count": 191,
   "metadata": {},
   "outputs": [
    {
     "data": {
      "text/plain": [
       "GridSearchCV(cv=5, estimator=SVR(),\n",
       "             param_grid={'C': array([1.00000000e-02, 2.05061224e+00, 4.09122449e+00, 6.13183673e+00,\n",
       "       8.17244898e+00, 1.02130612e+01, 1.22536735e+01, 1.42942857e+01,\n",
       "       1.63348980e+01, 1.83755102e+01, 2.04161224e+01, 2.24567347e+01,\n",
       "       2.44973469e+01, 2.65379592e+01, 2.85785714e+01, 3.06191837e+01,\n",
       "       3.26597959e+01, 3.47004082e+01, 3.67410204e+01, 3.878163...\n",
       "       5.71471429e+01, 5.91877551e+01, 6.12283673e+01, 6.32689796e+01,\n",
       "       6.53095918e+01, 6.73502041e+01, 6.93908163e+01, 7.14314286e+01,\n",
       "       7.34720408e+01, 7.55126531e+01, 7.75532653e+01, 7.95938776e+01,\n",
       "       8.16344898e+01, 8.36751020e+01, 8.57157143e+01, 8.77563265e+01,\n",
       "       8.97969388e+01, 9.18375510e+01, 9.38781633e+01, 9.59187755e+01,\n",
       "       9.79593878e+01, 1.00000000e+02]),\n",
       "                         'gamma': [0.001, 0.05, 0.1, 0.5, 1, 1.5]})"
      ]
     },
     "execution_count": 191,
     "metadata": {},
     "output_type": "execute_result"
    }
   ],
   "source": [
    "svm_model_gs.fit(x_train,y_train)"
   ]
  },
  {
   "cell_type": "code",
   "execution_count": 196,
   "metadata": {},
   "outputs": [
    {
     "data": {
      "text/plain": [
       "SVR(C=2.050612244897959, gamma=0.001)"
      ]
     },
     "execution_count": 196,
     "metadata": {},
     "output_type": "execute_result"
    }
   ],
   "source": [
    "svm_model_gs.best_estimator_"
   ]
  },
  {
   "cell_type": "code",
   "execution_count": 197,
   "metadata": {},
   "outputs": [
    {
     "data": {
      "text/plain": [
       "0.11768204314103214"
      ]
     },
     "execution_count": 197,
     "metadata": {},
     "output_type": "execute_result"
    }
   ],
   "source": [
    "svm_model_gs.best_score_"
   ]
  },
  {
   "cell_type": "code",
   "execution_count": 203,
   "metadata": {},
   "outputs": [],
   "source": [
    "svm_df = pd.DataFrame(svm_model_gs.cv_results_)\n",
    "svm_df = svm_df.loc[:,['param_C','param_gamma','mean_test_score']]"
   ]
  },
  {
   "cell_type": "code",
   "execution_count": 204,
   "metadata": {},
   "outputs": [
    {
     "data": {
      "image/png": "[encoded data removed]",
      "text/plain": [
       "<Figure size 432x288 with 1 Axes>"
      ]
     },
     "metadata": {
      "needs_background": "light"
     },
     "output_type": "display_data"
    }
   ],
   "source": [
    "sns.lineplot(x='param_C',y='mean_test_score', data=svm_df, hue='param_gamma')\n",
    "plt.show()"
   ]
  },
  {
   "cell_type": "code",
   "execution_count": 205,
   "metadata": {},
   "outputs": [],
   "source": [
    "svm_pred_gs = svm_model_gs.predict(x_val)"
   ]
  },
  {
   "cell_type": "code",
   "execution_count": 206,
   "metadata": {},
   "outputs": [
    {
     "name": "stdout",
     "output_type": "stream",
     "text": [
      "rmse: 2.635176819454091\n",
      "mae: 2.1288607727859623\n",
      "정확도: 0.6591415358662795\n"
     ]
    }
   ],
   "source": [
    "print('rmse:',mean_squared_error(y_val, svm_pred_gs, squared=False))\n",
    "print('mae:',mean_absolute_error(y_val, svm_pred_gs))\n",
    "print('정확도:',1 - mean_absolute_percentage_error(y_val, svm_pred_gs))"
   ]
  },
  {
   "cell_type": "markdown",
   "metadata": {
    "id": "nB5okfNhSLNt"
   },
   "source": [
    "### (6) XGB"
   ]
  },
  {
   "cell_type": "code",
   "execution_count": 78,
   "metadata": {
    "id": "ldfRuzSi9yCk"
   },
   "outputs": [],
   "source": [
    "xgb_model = XGBRegressor()"
   ]
  },
  {
   "cell_type": "code",
   "execution_count": 85,
   "metadata": {
    "id": "9i9T6chu9yhX"
   },
   "outputs": [],
   "source": [
    "xgb_param = {'max_depth' : range(3,8,2), 'n_estimators' : range(50,151,50), 'learning_rate' : [0.01,0.51,1.51]}\n",
    "xgb_model_gs = GridSearchCV(xgb_model, xgb_param ,cv=5,verbose=3)"
   ]
  },
  {
   "cell_type": "code",
   "execution_count": 86,
   "metadata": {
    "collapsed": true,
    "id": "XBoq3qXN9ygd",
    "jupyter": {
     "outputs_hidden": true
    },
    "tags": []
   },
   "outputs": [
    {
     "name": "stdout",
     "output_type": "stream",
     "text": [
      "Fitting 5 folds for each of 27 candidates, totalling 135 fits\n",
      "[CV 1/5] END learning_rate=0.01, max_depth=3, n_estimators=50; total time=   0.0s\n",
      "[CV 2/5] END learning_rate=0.01, max_depth=3, n_estimators=50; total time=   0.0s\n",
      "[CV 3/5] END learning_rate=0.01, max_depth=3, n_estimators=50; total time=   0.0s\n",
      "[CV 4/5] END learning_rate=0.01, max_depth=3, n_estimators=50; total time=   0.0s\n",
      "[CV 5/5] END learning_rate=0.01, max_depth=3, n_estimators=50; total time=   0.0s\n",
      "[CV 1/5] END learning_rate=0.01, max_depth=3, n_estimators=100; total time=   0.0s\n",
      "[CV 2/5] END learning_rate=0.01, max_depth=3, n_estimators=100; total time=   0.0s\n",
      "[CV 3/5] END learning_rate=0.01, max_depth=3, n_estimators=100; total time=   0.0s\n",
      "[CV 4/5] END learning_rate=0.01, max_depth=3, n_estimators=100; total time=   0.0s\n",
      "[CV 5/5] END learning_rate=0.01, max_depth=3, n_estimators=100; total time=   0.0s\n",
      "[CV 1/5] END learning_rate=0.01, max_depth=3, n_estimators=150; total time=   0.0s\n",
      "[CV 2/5] END learning_rate=0.01, max_depth=3, n_estimators=150; total time=   0.0s\n",
      "[CV 3/5] END learning_rate=0.01, max_depth=3, n_estimators=150; total time=   0.0s\n",
      "[CV 4/5] END learning_rate=0.01, max_depth=3, n_estimators=150; total time=   0.0s\n",
      "[CV 5/5] END learning_rate=0.01, max_depth=3, n_estimators=150; total time=   0.0s\n",
      "[CV 1/5] END learning_rate=0.01, max_depth=5, n_estimators=50; total time=   0.0s\n",
      "[CV 2/5] END learning_rate=0.01, max_depth=5, n_estimators=50; total time=   0.0s\n",
      "[CV 3/5] END learning_rate=0.01, max_depth=5, n_estimators=50; total time=   0.0s\n",
      "[CV 4/5] END learning_rate=0.01, max_depth=5, n_estimators=50; total time=   0.0s\n",
      "[CV 5/5] END learning_rate=0.01, max_depth=5, n_estimators=50; total time=   0.0s\n",
      "[CV 1/5] END learning_rate=0.01, max_depth=5, n_estimators=100; total time=   0.0s\n",
      "[CV 2/5] END learning_rate=0.01, max_depth=5, n_estimators=100; total time=   0.0s\n",
      "[CV 3/5] END learning_rate=0.01, max_depth=5, n_estimators=100; total time=   0.0s\n",
      "[CV 4/5] END learning_rate=0.01, max_depth=5, n_estimators=100; total time=   0.1s\n",
      "[CV 5/5] END learning_rate=0.01, max_depth=5, n_estimators=100; total time=   0.1s\n",
      "[CV 1/5] END learning_rate=0.01, max_depth=5, n_estimators=150; total time=   0.0s\n",
      "[CV 2/5] END learning_rate=0.01, max_depth=5, n_estimators=150; total time=   0.0s\n",
      "[CV 3/5] END learning_rate=0.01, max_depth=5, n_estimators=150; total time=   0.0s\n",
      "[CV 4/5] END learning_rate=0.01, max_depth=5, n_estimators=150; total time=   0.1s\n",
      "[CV 5/5] END learning_rate=0.01, max_depth=5, n_estimators=150; total time=   0.0s\n",
      "[CV 1/5] END learning_rate=0.01, max_depth=7, n_estimators=50; total time=   0.0s\n",
      "[CV 2/5] END learning_rate=0.01, max_depth=7, n_estimators=50; total time=   0.0s\n",
      "[CV 3/5] END learning_rate=0.01, max_depth=7, n_estimators=50; total time=   0.0s\n",
      "[CV 4/5] END learning_rate=0.01, max_depth=7, n_estimators=50; total time=   0.0s\n",
      "[CV 5/5] END learning_rate=0.01, max_depth=7, n_estimators=50; total time=   0.0s\n",
      "[CV 1/5] END learning_rate=0.01, max_depth=7, n_estimators=100; total time=   0.0s\n",
      "[CV 2/5] END learning_rate=0.01, max_depth=7, n_estimators=100; total time=   0.0s\n",
      "[CV 3/5] END learning_rate=0.01, max_depth=7, n_estimators=100; total time=   0.0s\n",
      "[CV 4/5] END learning_rate=0.01, max_depth=7, n_estimators=100; total time=   0.0s\n",
      "[CV 5/5] END learning_rate=0.01, max_depth=7, n_estimators=100; total time=   0.0s\n",
      "[CV 1/5] END learning_rate=0.01, max_depth=7, n_estimators=150; total time=   0.1s\n",
      "[CV 2/5] END learning_rate=0.01, max_depth=7, n_estimators=150; total time=   0.1s\n",
      "[CV 3/5] END learning_rate=0.01, max_depth=7, n_estimators=150; total time=   0.1s\n",
      "[CV 4/5] END learning_rate=0.01, max_depth=7, n_estimators=150; total time=   0.1s\n",
      "[CV 5/5] END learning_rate=0.01, max_depth=7, n_estimators=150; total time=   0.1s\n",
      "[CV 1/5] END learning_rate=0.51, max_depth=3, n_estimators=50; total time=   0.0s\n",
      "[CV 2/5] END learning_rate=0.51, max_depth=3, n_estimators=50; total time=   0.0s\n",
      "[CV 3/5] END learning_rate=0.51, max_depth=3, n_estimators=50; total time=   0.0s\n",
      "[CV 4/5] END learning_rate=0.51, max_depth=3, n_estimators=50; total time=   0.0s\n",
      "[CV 5/5] END learning_rate=0.51, max_depth=3, n_estimators=50; total time=   0.0s\n",
      "[CV 1/5] END learning_rate=0.51, max_depth=3, n_estimators=100; total time=   0.0s\n",
      "[CV 2/5] END learning_rate=0.51, max_depth=3, n_estimators=100; total time=   0.0s\n",
      "[CV 3/5] END learning_rate=0.51, max_depth=3, n_estimators=100; total time=   0.0s\n",
      "[CV 4/5] END learning_rate=0.51, max_depth=3, n_estimators=100; total time=   0.0s\n",
      "[CV 5/5] END learning_rate=0.51, max_depth=3, n_estimators=100; total time=   0.0s\n",
      "[CV 1/5] END learning_rate=0.51, max_depth=3, n_estimators=150; total time=   0.0s\n",
      "[CV 2/5] END learning_rate=0.51, max_depth=3, n_estimators=150; total time=   0.0s\n",
      "[CV 3/5] END learning_rate=0.51, max_depth=3, n_estimators=150; total time=   0.2s\n",
      "[CV 4/5] END learning_rate=0.51, max_depth=3, n_estimators=150; total time=   0.0s\n",
      "[CV 5/5] END learning_rate=0.51, max_depth=3, n_estimators=150; total time=   0.0s\n",
      "[CV 1/5] END learning_rate=0.51, max_depth=5, n_estimators=50; total time=   0.0s\n",
      "[CV 2/5] END learning_rate=0.51, max_depth=5, n_estimators=50; total time=   0.0s\n",
      "[CV 3/5] END learning_rate=0.51, max_depth=5, n_estimators=50; total time=   0.0s\n",
      "[CV 4/5] END learning_rate=0.51, max_depth=5, n_estimators=50; total time=   0.0s\n",
      "[CV 5/5] END learning_rate=0.51, max_depth=5, n_estimators=50; total time=   0.0s\n",
      "[CV 1/5] END learning_rate=0.51, max_depth=5, n_estimators=100; total time=   0.0s\n",
      "[CV 2/5] END learning_rate=0.51, max_depth=5, n_estimators=100; total time=   0.0s\n",
      "[CV 3/5] END learning_rate=0.51, max_depth=5, n_estimators=100; total time=   0.0s\n",
      "[CV 4/5] END learning_rate=0.51, max_depth=5, n_estimators=100; total time=   0.1s\n",
      "[CV 5/5] END learning_rate=0.51, max_depth=5, n_estimators=100; total time=   0.3s\n",
      "[CV 1/5] END learning_rate=0.51, max_depth=5, n_estimators=150; total time=   0.0s\n",
      "[CV 2/5] END learning_rate=0.51, max_depth=5, n_estimators=150; total time=   0.0s\n",
      "[CV 3/5] END learning_rate=0.51, max_depth=5, n_estimators=150; total time=   0.0s\n",
      "[CV 4/5] END learning_rate=0.51, max_depth=5, n_estimators=150; total time=   0.1s\n",
      "[CV 5/5] END learning_rate=0.51, max_depth=5, n_estimators=150; total time=   0.0s\n",
      "[CV 1/5] END learning_rate=0.51, max_depth=7, n_estimators=50; total time=   0.0s\n",
      "[CV 2/5] END learning_rate=0.51, max_depth=7, n_estimators=50; total time=   0.0s\n",
      "[CV 3/5] END learning_rate=0.51, max_depth=7, n_estimators=50; total time=   0.0s\n",
      "[CV 4/5] END learning_rate=0.51, max_depth=7, n_estimators=50; total time=   0.0s\n",
      "[CV 5/5] END learning_rate=0.51, max_depth=7, n_estimators=50; total time=   0.0s\n",
      "[CV 1/5] END learning_rate=0.51, max_depth=7, n_estimators=100; total time=   0.0s\n",
      "[CV 2/5] END learning_rate=0.51, max_depth=7, n_estimators=100; total time=   0.0s\n",
      "[CV 3/5] END learning_rate=0.51, max_depth=7, n_estimators=100; total time=   0.0s\n",
      "[CV 4/5] END learning_rate=0.51, max_depth=7, n_estimators=100; total time=   0.0s\n",
      "[CV 5/5] END learning_rate=0.51, max_depth=7, n_estimators=100; total time=   0.0s\n",
      "[CV 1/5] END learning_rate=0.51, max_depth=7, n_estimators=150; total time=   0.0s\n",
      "[CV 2/5] END learning_rate=0.51, max_depth=7, n_estimators=150; total time=   0.0s\n",
      "[CV 3/5] END learning_rate=0.51, max_depth=7, n_estimators=150; total time=   0.0s\n",
      "[CV 4/5] END learning_rate=0.51, max_depth=7, n_estimators=150; total time=   0.0s\n",
      "[CV 5/5] END learning_rate=0.51, max_depth=7, n_estimators=150; total time=   0.1s\n",
      "[CV 1/5] END learning_rate=1.51, max_depth=3, n_estimators=50; total time=   0.0s\n",
      "[CV 2/5] END learning_rate=1.51, max_depth=3, n_estimators=50; total time=   0.0s\n",
      "[CV 3/5] END learning_rate=1.51, max_depth=3, n_estimators=50; total time=   0.0s\n",
      "[CV 4/5] END learning_rate=1.51, max_depth=3, n_estimators=50; total time=   0.0s\n",
      "[CV 5/5] END learning_rate=1.51, max_depth=3, n_estimators=50; total time=   0.0s\n",
      "[CV 1/5] END learning_rate=1.51, max_depth=3, n_estimators=100; total time=   0.0s\n",
      "[CV 2/5] END learning_rate=1.51, max_depth=3, n_estimators=100; total time=   0.0s\n",
      "[CV 3/5] END learning_rate=1.51, max_depth=3, n_estimators=100; total time=   0.0s\n",
      "[CV 4/5] END learning_rate=1.51, max_depth=3, n_estimators=100; total time=   0.0s\n",
      "[CV 5/5] END learning_rate=1.51, max_depth=3, n_estimators=100; total time=   0.0s\n",
      "[CV 1/5] END learning_rate=1.51, max_depth=3, n_estimators=150; total time=   0.1s\n",
      "[CV 2/5] END learning_rate=1.51, max_depth=3, n_estimators=150; total time=   0.0s\n",
      "[CV 3/5] END learning_rate=1.51, max_depth=3, n_estimators=150; total time=   0.0s\n",
      "[CV 4/5] END learning_rate=1.51, max_depth=3, n_estimators=150; total time=   0.0s\n",
      "[CV 5/5] END learning_rate=1.51, max_depth=3, n_estimators=150; total time=   0.0s\n",
      "[CV 1/5] END learning_rate=1.51, max_depth=5, n_estimators=50; total time=   0.0s\n",
      "[CV 2/5] END learning_rate=1.51, max_depth=5, n_estimators=50; total time=   0.0s\n",
      "[CV 3/5] END learning_rate=1.51, max_depth=5, n_estimators=50; total time=   0.0s\n",
      "[CV 4/5] END learning_rate=1.51, max_depth=5, n_estimators=50; total time=   0.0s\n",
      "[CV 5/5] END learning_rate=1.51, max_depth=5, n_estimators=50; total time=   0.0s\n",
      "[CV 1/5] END learning_rate=1.51, max_depth=5, n_estimators=100; total time=   0.0s\n",
      "[CV 2/5] END learning_rate=1.51, max_depth=5, n_estimators=100; total time=   0.0s\n",
      "[CV 3/5] END learning_rate=1.51, max_depth=5, n_estimators=100; total time=   0.0s\n",
      "[CV 4/5] END learning_rate=1.51, max_depth=5, n_estimators=100; total time=   0.0s\n",
      "[CV 5/5] END learning_rate=1.51, max_depth=5, n_estimators=100; total time=   0.0s\n",
      "[CV 1/5] END learning_rate=1.51, max_depth=5, n_estimators=150; total time=   0.0s\n",
      "[CV 2/5] END learning_rate=1.51, max_depth=5, n_estimators=150; total time=   0.1s\n",
      "[CV 3/5] END learning_rate=1.51, max_depth=5, n_estimators=150; total time=   0.1s\n",
      "[CV 4/5] END learning_rate=1.51, max_depth=5, n_estimators=150; total time=   0.0s\n",
      "[CV 5/5] END learning_rate=1.51, max_depth=5, n_estimators=150; total time=   0.0s\n",
      "[CV 1/5] END learning_rate=1.51, max_depth=7, n_estimators=50; total time=   0.0s\n",
      "[CV 2/5] END learning_rate=1.51, max_depth=7, n_estimators=50; total time=   0.0s\n",
      "[CV 3/5] END learning_rate=1.51, max_depth=7, n_estimators=50; total time=   0.0s\n",
      "[CV 4/5] END learning_rate=1.51, max_depth=7, n_estimators=50; total time=   0.0s\n",
      "[CV 5/5] END learning_rate=1.51, max_depth=7, n_estimators=50; total time=   0.0s\n",
      "[CV 1/5] END learning_rate=1.51, max_depth=7, n_estimators=100; total time=   0.0s\n",
      "[CV 2/5] END learning_rate=1.51, max_depth=7, n_estimators=100; total time=   0.0s\n",
      "[CV 3/5] END learning_rate=1.51, max_depth=7, n_estimators=100; total time=   0.0s\n",
      "[CV 4/5] END learning_rate=1.51, max_depth=7, n_estimators=100; total time=   0.0s\n",
      "[CV 5/5] END learning_rate=1.51, max_depth=7, n_estimators=100; total time=   0.0s\n",
      "[CV 1/5] END learning_rate=1.51, max_depth=7, n_estimators=150; total time=   0.1s\n",
      "[CV 2/5] END learning_rate=1.51, max_depth=7, n_estimators=150; total time=   0.0s\n",
      "[CV 3/5] END learning_rate=1.51, max_depth=7, n_estimators=150; total time=   0.0s\n",
      "[CV 4/5] END learning_rate=1.51, max_depth=7, n_estimators=150; total time=   0.0s\n",
      "[CV 5/5] END learning_rate=1.51, max_depth=7, n_estimators=150; total time=   0.0s\n"
     ]
    },
    {
     "data": {
      "text/plain": [
       "GridSearchCV(cv=5,\n",
       "             estimator=XGBRegressor(base_score=None, booster=None,\n",
       "                                    callbacks=None, colsample_bylevel=None,\n",
       "                                    colsample_bynode=None,\n",
       "                                    colsample_bytree=None,\n",
       "                                    early_stopping_rounds=None,\n",
       "                                    enable_categorical=False, eval_metric=None,\n",
       "                                    gamma=None, gpu_id=None, grow_policy=None,\n",
       "                                    importance_type=None,\n",
       "                                    interaction_constraints=None,\n",
       "                                    learning_rate=None, max_bin=None,\n",
       "                                    max_cat...None, max_delta_step=None,\n",
       "                                    max_depth=None, max_leaves=None,\n",
       "                                    min_child_weight=None, missing=nan,\n",
       "                                    monotone_constraints=None, n_estimators=100,\n",
       "                                    n_jobs=None, num_parallel_tree=None,\n",
       "                                    predictor=None, random_state=None,\n",
       "                                    reg_alpha=None, reg_lambda=None, ...),\n",
       "             param_grid={'learning_rate': [0.01, 0.51, 1.51],\n",
       "                         'max_depth': range(3, 8, 2),\n",
       "                         'n_estimators': range(50, 151, 50)},\n",
       "             verbose=3)"
      ]
     },
     "execution_count": 86,
     "metadata": {},
     "output_type": "execute_result"
    }
   ],
   "source": [
    "xgb_model_gs.fit(x_train,y_train)"
   ]
  },
  {
   "cell_type": "code",
   "execution_count": 87,
   "metadata": {
    "id": "OCSURqFj9yfd"
   },
   "outputs": [
    {
     "data": {
      "text/plain": [
       "XGBRegressor(base_score=0.5, booster='gbtree', callbacks=None,\n",
       "             colsample_bylevel=1, colsample_bynode=1, colsample_bytree=1,\n",
       "             early_stopping_rounds=None, enable_categorical=False,\n",
       "             eval_metric=None, gamma=0, gpu_id=-1, grow_policy='depthwise',\n",
       "             importance_type=None, interaction_constraints='',\n",
       "             learning_rate=0.51, max_bin=256, max_cat_to_onehot=4,\n",
       "             max_delta_step=0, max_depth=3, max_leaves=0, min_child_weight=1,\n",
       "             missing=nan, monotone_constraints='()', n_estimators=50, n_jobs=0,\n",
       "             num_parallel_tree=1, predictor='auto', random_state=0, reg_alpha=0,\n",
       "             reg_lambda=1, ...)"
      ]
     },
     "execution_count": 87,
     "metadata": {},
     "output_type": "execute_result"
    }
   ],
   "source": [
    "xgb_model_gs.best_estimator_"
   ]
  },
  {
   "cell_type": "code",
   "execution_count": 88,
   "metadata": {
    "id": "fvVjzLf09yF0"
   },
   "outputs": [
    {
     "data": {
      "text/plain": [
       "0.6753143747974926"
      ]
     },
     "execution_count": 88,
     "metadata": {},
     "output_type": "execute_result"
    }
   ],
   "source": [
    "xgb_model_gs.best_score_"
   ]
  },
  {
   "cell_type": "code",
   "execution_count": 93,
   "metadata": {
    "collapsed": true,
    "id": "bOjRyR9WSLN5",
    "jupyter": {
     "outputs_hidden": true
    },
    "tags": []
   },
   "outputs": [
    {
     "data": {
      "text/html": [
       "<div>\n",
       "<style scoped>\n",
       "    .dataframe tbody tr th:only-of-type {\n",
       "        vertical-align: middle;\n",
       "    }\n",
       "\n",
       "    .dataframe tbody tr th {\n",
       "        vertical-align: top;\n",
       "    }\n",
       "\n",
       "    .dataframe thead th {\n",
       "        text-align: right;\n",
       "    }\n",
       "</style>\n",
       "<table border=\"1\" class=\"dataframe\">\n",
       "  <thead>\n",
       "    <tr style=\"text-align: right;\">\n",
       "      <th></th>\n",
       "      <th>mean_fit_time</th>\n",
       "      <th>std_fit_time</th>\n",
       "      <th>mean_score_time</th>\n",
       "      <th>std_score_time</th>\n",
       "      <th>param_learning_rate</th>\n",
       "      <th>param_max_depth</th>\n",
       "      <th>param_n_estimators</th>\n",
       "      <th>params</th>\n",
       "      <th>split0_test_score</th>\n",
       "      <th>split1_test_score</th>\n",
       "      <th>split2_test_score</th>\n",
       "      <th>split3_test_score</th>\n",
       "      <th>split4_test_score</th>\n",
       "      <th>mean_test_score</th>\n",
       "      <th>std_test_score</th>\n",
       "      <th>rank_test_score</th>\n",
       "    </tr>\n",
       "  </thead>\n",
       "  <tbody>\n",
       "    <tr>\n",
       "      <th>0</th>\n",
       "      <td>0.067191</td>\n",
       "      <td>0.028175</td>\n",
       "      <td>0.006000</td>\n",
       "      <td>0.000731</td>\n",
       "      <td>0.01</td>\n",
       "      <td>3</td>\n",
       "      <td>50</td>\n",
       "      <td>{'learning_rate': 0.01, 'max_depth': 3, 'n_est...</td>\n",
       "      <td>-2.423853</td>\n",
       "      <td>-2.243334</td>\n",
       "      <td>-2.604503</td>\n",
       "      <td>-1.657465</td>\n",
       "      <td>-1.525421</td>\n",
       "      <td>-2.090915</td>\n",
       "      <td>0.425562</td>\n",
       "      <td>27</td>\n",
       "    </tr>\n",
       "    <tr>\n",
       "      <th>1</th>\n",
       "      <td>0.081413</td>\n",
       "      <td>0.009687</td>\n",
       "      <td>0.005969</td>\n",
       "      <td>0.000312</td>\n",
       "      <td>0.01</td>\n",
       "      <td>3</td>\n",
       "      <td>100</td>\n",
       "      <td>{'learning_rate': 0.01, 'max_depth': 3, 'n_est...</td>\n",
       "      <td>-0.606575</td>\n",
       "      <td>-0.416109</td>\n",
       "      <td>-0.721366</td>\n",
       "      <td>-0.251092</td>\n",
       "      <td>-0.165619</td>\n",
       "      <td>-0.432152</td>\n",
       "      <td>0.208877</td>\n",
       "      <td>24</td>\n",
       "    </tr>\n",
       "    <tr>\n",
       "      <th>2</th>\n",
       "      <td>0.119006</td>\n",
       "      <td>0.007296</td>\n",
       "      <td>0.006260</td>\n",
       "      <td>0.000520</td>\n",
       "      <td>0.01</td>\n",
       "      <td>3</td>\n",
       "      <td>150</td>\n",
       "      <td>{'learning_rate': 0.01, 'max_depth': 3, 'n_est...</td>\n",
       "      <td>0.114318</td>\n",
       "      <td>0.280617</td>\n",
       "      <td>0.079105</td>\n",
       "      <td>0.294875</td>\n",
       "      <td>0.368160</td>\n",
       "      <td>0.227415</td>\n",
       "      <td>0.111335</td>\n",
       "      <td>12</td>\n",
       "    </tr>\n",
       "    <tr>\n",
       "      <th>3</th>\n",
       "      <td>0.049411</td>\n",
       "      <td>0.004065</td>\n",
       "      <td>0.006459</td>\n",
       "      <td>0.000471</td>\n",
       "      <td>0.01</td>\n",
       "      <td>5</td>\n",
       "      <td>50</td>\n",
       "      <td>{'learning_rate': 0.01, 'max_depth': 5, 'n_est...</td>\n",
       "      <td>-2.398923</td>\n",
       "      <td>-2.192404</td>\n",
       "      <td>-2.538716</td>\n",
       "      <td>-1.683543</td>\n",
       "      <td>-1.481595</td>\n",
       "      <td>-2.059036</td>\n",
       "      <td>0.409350</td>\n",
       "      <td>25</td>\n",
       "    </tr>\n",
       "    <tr>\n",
       "      <th>4</th>\n",
       "      <td>0.122116</td>\n",
       "      <td>0.034900</td>\n",
       "      <td>0.006746</td>\n",
       "      <td>0.001133</td>\n",
       "      <td>0.01</td>\n",
       "      <td>5</td>\n",
       "      <td>100</td>\n",
       "      <td>{'learning_rate': 0.01, 'max_depth': 5, 'n_est...</td>\n",
       "      <td>-0.543468</td>\n",
       "      <td>-0.372656</td>\n",
       "      <td>-0.653215</td>\n",
       "      <td>-0.266837</td>\n",
       "      <td>-0.104862</td>\n",
       "      <td>-0.388208</td>\n",
       "      <td>0.194726</td>\n",
       "      <td>22</td>\n",
       "    </tr>\n",
       "  </tbody>\n",
       "</table>\n",
       "</div>"
      ],
      "text/plain": [
       "   mean_fit_time  std_fit_time  mean_score_time  std_score_time  \\\n",
       "0       0.067191      0.028175         0.006000        0.000731   \n",
       "1       0.081413      0.009687         0.005969        0.000312   \n",
       "2       0.119006      0.007296         0.006260        0.000520   \n",
       "3       0.049411      0.004065         0.006459        0.000471   \n",
       "4       0.122116      0.034900         0.006746        0.001133   \n",
       "\n",
       "  param_learning_rate param_max_depth param_n_estimators  \\\n",
       "0                0.01               3                 50   \n",
       "1                0.01               3                100   \n",
       "2                0.01               3                150   \n",
       "3                0.01               5                 50   \n",
       "4                0.01               5                100   \n",
       "\n",
       "                                              params  split0_test_score  \\\n",
       "0  {'learning_rate': 0.01, 'max_depth': 3, 'n_est...          -2.423853   \n",
       "1  {'learning_rate': 0.01, 'max_depth': 3, 'n_est...          -0.606575   \n",
       "2  {'learning_rate': 0.01, 'max_depth': 3, 'n_est...           0.114318   \n",
       "3  {'learning_rate': 0.01, 'max_depth': 5, 'n_est...          -2.398923   \n",
       "4  {'learning_rate': 0.01, 'max_depth': 5, 'n_est...          -0.543468   \n",
       "\n",
       "   split1_test_score  split2_test_score  split3_test_score  split4_test_score  \\\n",
       "0          -2.243334          -2.604503          -1.657465          -1.525421   \n",
       "1          -0.416109          -0.721366          -0.251092          -0.165619   \n",
       "2           0.280617           0.079105           0.294875           0.368160   \n",
       "3          -2.192404          -2.538716          -1.683543          -1.481595   \n",
       "4          -0.372656          -0.653215          -0.266837          -0.104862   \n",
       "\n",
       "   mean_test_score  std_test_score  rank_test_score  \n",
       "0        -2.090915        0.425562               27  \n",
       "1        -0.432152        0.208877               24  \n",
       "2         0.227415        0.111335               12  \n",
       "3        -2.059036        0.409350               25  \n",
       "4        -0.388208        0.194726               22  "
      ]
     },
     "execution_count": 93,
     "metadata": {},
     "output_type": "execute_result"
    }
   ],
   "source": [
    "xgb_df = pd.DataFrame(xgb_model_gs.cv_results_)\n",
    "xgb_df.head()"
   ]
  },
  {
   "cell_type": "code",
   "execution_count": 96,
   "metadata": {},
   "outputs": [
    {
     "data": {
      "text/html": [
       "<div>\n",
       "<style scoped>\n",
       "    .dataframe tbody tr th:only-of-type {\n",
       "        vertical-align: middle;\n",
       "    }\n",
       "\n",
       "    .dataframe tbody tr th {\n",
       "        vertical-align: top;\n",
       "    }\n",
       "\n",
       "    .dataframe thead th {\n",
       "        text-align: right;\n",
       "    }\n",
       "</style>\n",
       "<table border=\"1\" class=\"dataframe\">\n",
       "  <thead>\n",
       "    <tr style=\"text-align: right;\">\n",
       "      <th></th>\n",
       "      <th>param_max_depth</th>\n",
       "      <th>param_n_estimators</th>\n",
       "      <th>param_learning_rate</th>\n",
       "      <th>mean_test_score</th>\n",
       "    </tr>\n",
       "  </thead>\n",
       "  <tbody>\n",
       "    <tr>\n",
       "      <th>0</th>\n",
       "      <td>3</td>\n",
       "      <td>50</td>\n",
       "      <td>0.01</td>\n",
       "      <td>-2.090915</td>\n",
       "    </tr>\n",
       "    <tr>\n",
       "      <th>1</th>\n",
       "      <td>3</td>\n",
       "      <td>100</td>\n",
       "      <td>0.01</td>\n",
       "      <td>-0.432152</td>\n",
       "    </tr>\n",
       "    <tr>\n",
       "      <th>2</th>\n",
       "      <td>3</td>\n",
       "      <td>150</td>\n",
       "      <td>0.01</td>\n",
       "      <td>0.227415</td>\n",
       "    </tr>\n",
       "    <tr>\n",
       "      <th>3</th>\n",
       "      <td>5</td>\n",
       "      <td>50</td>\n",
       "      <td>0.01</td>\n",
       "      <td>-2.059036</td>\n",
       "    </tr>\n",
       "    <tr>\n",
       "      <th>4</th>\n",
       "      <td>5</td>\n",
       "      <td>100</td>\n",
       "      <td>0.01</td>\n",
       "      <td>-0.388208</td>\n",
       "    </tr>\n",
       "  </tbody>\n",
       "</table>\n",
       "</div>"
      ],
      "text/plain": [
       "  param_max_depth param_n_estimators param_learning_rate  mean_test_score\n",
       "0               3                 50                0.01        -2.090915\n",
       "1               3                100                0.01        -0.432152\n",
       "2               3                150                0.01         0.227415\n",
       "3               5                 50                0.01        -2.059036\n",
       "4               5                100                0.01        -0.388208"
      ]
     },
     "execution_count": 96,
     "metadata": {},
     "output_type": "execute_result"
    }
   ],
   "source": [
    "xgb_df = xgb_df.loc[:,['param_max_depth','param_n_estimators','param_learning_rate','mean_test_score']]\n",
    "xgb_df.head()"
   ]
  },
  {
   "cell_type": "code",
   "execution_count": 98,
   "metadata": {},
   "outputs": [
    {
     "data": {
      "image/png": "[encoded data removed]",
      "text/plain": [
       "<Figure size 432x288 with 1 Axes>"
      ]
     },
     "metadata": {
      "needs_background": "light"
     },
     "output_type": "display_data"
    }
   ],
   "source": [
    "\n",
    "sns.lineplot(x='param_n_estimators',y='mean_test_score', data=xgb_df,hue='param_learning_rate')\n",
    "plt.grid()\n",
    "plt.show()"
   ]
  },
  {
   "cell_type": "markdown",
   "metadata": {},
   "source": [
    "(6) SVM"
   ]
  },
  {
   "cell_type": "code",
   "execution_count": 99,
   "metadata": {},
   "outputs": [
    {
     "data": {
      "image/png": "[encoded data removed]",
      "text/plain": [
       "<Figure size 432x288 with 1 Axes>"
      ]
     },
     "metadata": {
      "needs_background": "light"
     },
     "output_type": "display_data"
    }
   ],
   "source": [
    "sns.lineplot(x='param_max_depth',y='mean_test_score', data=xgb_df,hue='param_learning_rate')\n",
    "plt.grid()\n",
    "plt.show()"
   ]
  },
  {
   "cell_type": "code",
   "execution_count": 100,
   "metadata": {},
   "outputs": [],
   "source": [
    "xgb_pred_gs = xgb_model_gs.predict(x_val)"
   ]
  },
  {
   "cell_type": "code",
   "execution_count": 101,
   "metadata": {},
   "outputs": [
    {
     "name": "stdout",
     "output_type": "stream",
     "text": [
      "2.094778348745158\n",
      "1.700436073621114\n",
      "0.7424495301078271\n"
     ]
    }
   ],
   "source": [
    "print(mean_squared_error(y_val, xgb_pred_gs, squared=False))\n",
    "print(mean_absolute_error(y_val, xgb_pred_gs))\n",
    "print(1 - mean_absolute_percentage_error(y_val, xgb_pred_gs))"
   ]
  },
  {
   "cell_type": "code",
   "execution_count": null,
   "metadata": {},
   "outputs": [],
   "source": []
  },
  {
   "cell_type": "code",
   "execution_count": null,
   "metadata": {},
   "outputs": [],
   "source": []
  }
 ],
 "metadata": {
  "colab": {
   "collapsed_sections": [],
   "name": "14과 성능 최적화 종합실습.ipynb",
   "provenance": [],
   "toc_visible": true
  },
  "kernelspec": {
   "display_name": "Python 3",
   "language": "python",
   "name": "python3"
  },
  "language_info": {
   "codemirror_mode": {
    "name": "ipython",
    "version": 3
   },
   "file_extension": ".py",
   "mimetype": "text/x-python",
   "name": "python",
   "nbconvert_exporter": "python",
   "pygments_lexer": "ipython3",
   "version": "3.8.8"
  }
 },
 "nbformat": 4,
 "nbformat_minor": 4
}
