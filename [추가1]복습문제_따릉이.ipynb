{
 "cells": [
  {
   "cell_type": "markdown",
   "metadata": {
    "id": "cVB9pY-v8uv5"
   },
   "source": [
    "# 복습문제_따릉이\n",
    "\n",
    "* 지금까지 배운 것을 복습 합니다.\n",
    "* Data : 서울 공유 자전거\n",
    "* 문제 : 2시간 후의 수요를 예측하고자 합니다.\n",
    "------"
   ]
  },
  {
   "cell_type": "markdown",
   "metadata": {
    "id": "0qIQCk04D0ra"
   },
   "source": [
    "* 모든게 처음이신 분들은 \n",
    "    * 알고리즘을 사용하고 익히는 것에 초점을 맞추시고\n",
    "    * 다양한 알고리즘으로 만든 모델에 대해 성능 비교를 수행합니다.\n",
    "* 경험이 있으신 분들은\n",
    "    * 각 알고리즘마다 최고의 성능을 얻기 위해 노력해 보세요.\n",
    "    * 필요하다면 적절한 feature engineering도 수행합니다.\n",
    "    * 수행시간이 오래 걸리는 알고리즘(SVM, RandomForest, XGB, DL)에 대해서는 학습데이터 크기를 조절해 봅시다.(learning_curve 이용)\n",
    "    * 과적합에 대한 평가와 회피하기 위한 시도를 해보세요.\n",
    "    * 그리고 정리한 자신 만의 내용을 github에 올려서 다른 에이블러들과 공유해 봅시다.^^ \n",
    "-----"
   ]
  },
  {
   "cell_type": "markdown",
   "metadata": {
    "id": "Y2TDwpWWD3Ki"
   },
   "source": [
    "\n",
    "* **진행시 주의사항**\n",
    "    * 본 복습문제 수행 여부는 **개인 자유** 입니다. 제출받는 것이 아니니 부담갖지 않으셔도 좋습니다.\n",
    "    * 본 복습문제를 수행하는 도중 발생된 질문은 \n",
    "        * **1:1게시판이나 수업중 채팅으로 질문하지 말고** (튜터님들은 모르고 계십니다.^^;;;)\n",
    "        * 문제 해결을 위해, 과정 자료, 인터넷 검색 등을 통해 **스스로 해결** 해 봅니다. \n",
    "        * 특히 https://stackoverflow.com/ 는 개발자들이 참여하는 굉장히 큰 Q&A 사이트입니다. 거의 대부분의 문답은 여기에 다 있습니다. 적극 활용하세요. **스스로 문제 해결하는 연습** 은 굉장히 중요합니다.\n",
    "        * 그럼에도 불구하고 도저히 해결이 안될 때, **최후의 히든 카드** 로 저에게 이메일 문의를 하시면, 제가 시간이 가용할때 순차적으로 답변을 드리겠습니다.^^"
   ]
  },
  {
   "cell_type": "markdown",
   "metadata": {
    "id": "I75LoyIG8XdQ"
   },
   "source": [
    "![](https://mediahub.seoul.go.kr/uploads/mediahub/2021/03/RaKqiqgRXyNmYVYymXQIvCjPHpncuhBX.png)"
   ]
  },
  {
   "cell_type": "markdown",
   "metadata": {
    "id": "gIN5d51gtker"
   },
   "source": [
    "## 1.환경준비"
   ]
  },
  {
   "cell_type": "markdown",
   "metadata": {
    "id": "98K82DAxvX6I"
   },
   "source": [
    "### (1) 라이브러리 로딩"
   ]
  },
  {
   "cell_type": "code",
   "execution_count": null,
   "metadata": {
    "id": "qUG9ltiWCJXr"
   },
   "outputs": [],
   "source": [
    "import pandas as pd\n",
    "import numpy as np\n",
    "import matplotlib.pyplot as plt\n",
    "import seaborn as sns\n",
    "\n",
    "from sklearn.model_selection import train_test_split\n",
    "from sklearn.metrics import *"
   ]
  },
  {
   "cell_type": "markdown",
   "metadata": {
    "id": "6wuqykgvviCc"
   },
   "source": [
    "### (2) 데이터로딩"
   ]
  },
  {
   "cell_type": "code",
   "execution_count": null,
   "metadata": {
    "id": "qMTdLPzcCNMw"
   },
   "outputs": [],
   "source": [
    "path = 'https://raw.githubusercontent.com/DA4BAM/dataset/master/SeoulBikeData2.csv'\n",
    "data = pd.read_csv(path)\n",
    "data['DateTime'] = pd.to_datetime(data['DateTime'], format='%Y-%m-%d %H:%M:%S')\n",
    "data.head()"
   ]
  },
  {
   "cell_type": "markdown",
   "metadata": {
    "id": "KlLNUHaiCNMx"
   },
   "source": [
    "**변수설명**  \n",
    "\n",
    "* DateTime : year-month-day hh:mi:ss\n",
    "* Count : 시간대별 수요량\n",
    "* Temperature : 온도(섭씨)\n",
    "* Humidity : 습도(%)\n",
    "* WindSpeed : 풍속(m/s)\n",
    "* Visibility : 가시거리(단위: 10m)\n",
    "* Solar - 태양복사열, MJ/m2\n",
    "* Rainfall - mm\n",
    "* Snowfall - cm\n",
    "* Seasons - Winter, Spring, Summer, Autumn\n",
    "* Holiday - Holiday / No holiday\n",
    "* FuncDay - Yes / No\n"
   ]
  },
  {
   "cell_type": "code",
   "execution_count": null,
   "metadata": {
    "id": "lFXgAj2LCNMx"
   },
   "outputs": [],
   "source": [
    "# 데이터 기간은 다음과 같습니다.\n",
    "data.DateTime.min(), data.DateTime.max()"
   ]
  },
  {
   "cell_type": "code",
   "execution_count": null,
   "metadata": {
    "id": "C4-T9iXgUDHi"
   },
   "outputs": [],
   "source": [
    "# 14일 동안의 수요량을 살펴 봅시다.\n",
    "temp = data[:24*14]\n",
    "plt.figure(figsize = (20,8))\n",
    "plt.plot('DateTime', 'Count', data = temp)\n",
    "plt.grid()\n",
    "plt.show()"
   ]
  },
  {
   "cell_type": "markdown",
   "metadata": {
    "id": "oICMvjzJJKbn"
   },
   "source": [
    "## 2.데이터 준비"
   ]
  },
  {
   "cell_type": "markdown",
   "metadata": {
    "id": "JPHI1HbYDCIA"
   },
   "source": [
    "### (1) y 만들기 \n",
    "* 2시간 이후의 수요량을 예측해야 합니다."
   ]
  },
  {
   "cell_type": "code",
   "execution_count": null,
   "metadata": {
    "id": "hfoEWmeBDEVN"
   },
   "outputs": [],
   "source": [
    "data['y'] = data['Count'].shift(-2)\n",
    "data.head()"
   ]
  },
  {
   "cell_type": "code",
   "execution_count": null,
   "metadata": {
    "id": "_AtGGeXVD7UV"
   },
   "outputs": [],
   "source": [
    "# 2칸을 앞당겼기 때문에 하위 2행의 y값에 NaN이 표시되어 있습니다.\n",
    "data.tail()"
   ]
  },
  {
   "cell_type": "code",
   "execution_count": null,
   "metadata": {
    "id": "KGNDCu-xEC26"
   },
   "outputs": [],
   "source": [
    "# 하위 2행은 삭제합니다.\n",
    "# 하위 2행 제외하고 다시 붓기\n",
    "data = data[:-2]"
   ]
  },
  {
   "cell_type": "markdown",
   "metadata": {
    "id": "y9Q6jR6OZjUk"
   },
   "source": [
    "### (2) 데이터 분할1 : x, y 나누기"
   ]
  },
  {
   "cell_type": "code",
   "execution_count": null,
   "metadata": {
    "id": "FA-PnUpcLqXN"
   },
   "outputs": [],
   "source": []
  },
  {
   "cell_type": "markdown",
   "metadata": {
    "id": "WpJEGpUuuVWm"
   },
   "source": [
    "### (3) feature engineering\n",
    "* 이 부분은 넘어가셔도 좋습니다.\n",
    "* 다만 DataTime은 제거합니다."
   ]
  },
  {
   "cell_type": "code",
   "execution_count": null,
   "metadata": {
    "id": "bgm5ZCxYFTe8"
   },
   "outputs": [],
   "source": [
    "# 날짜 데이터 제거\n"
   ]
  },
  {
   "cell_type": "markdown",
   "metadata": {
    "id": "mp_5volyuaA1"
   },
   "source": [
    "### (4) NaN 조치"
   ]
  },
  {
   "cell_type": "markdown",
   "metadata": {
    "id": "nOF9fSLQugGf"
   },
   "source": [
    "### (5) 가변수화"
   ]
  },
  {
   "cell_type": "code",
   "execution_count": null,
   "metadata": {
    "id": "UTCgncMWFuc2"
   },
   "outputs": [],
   "source": []
  },
  {
   "cell_type": "markdown",
   "metadata": {
    "id": "KsGGC-a4vpar"
   },
   "source": [
    "### (6) 데이터분할2 : train : val\n",
    "\n",
    "* 시계열 데이터이므로 시간의 흐름에 맞게 분할합시다.\n",
    "* 뒤에서 30일 : validaiton\n",
    "* 나머지 : train\n",
    "* 30일 : 시간단위 데이터이므로 24 * 30\n",
    "* train_test_split(x, y, test_size = 24 * 30, shuffle = False)\n",
    "    * shuffle : 데이터를 섞을지, 아니면 있는 그대로 자를지 결정."
   ]
  },
  {
   "cell_type": "code",
   "execution_count": null,
   "metadata": {
    "id": "7ilUcIlvvrqR"
   },
   "outputs": [],
   "source": []
  },
  {
   "cell_type": "code",
   "execution_count": null,
   "metadata": {
    "id": "N_oVzvpa8_H4"
   },
   "outputs": [],
   "source": []
  },
  {
   "cell_type": "markdown",
   "metadata": {
    "id": "MXUC5Yi3um81"
   },
   "source": [
    "### (7) Scaling"
   ]
  },
  {
   "cell_type": "markdown",
   "metadata": {
    "id": "BYr1vtpd8uw4"
   },
   "source": [
    "## 3.모델링\n",
    "* 배운 알고리즘을 적용하여 모델링을 수행하고 성능을 비교합니다."
   ]
  },
  {
   "cell_type": "markdown",
   "metadata": {
    "id": "Hzlv-Lz69vxg"
   },
   "source": [
    "### (1) 선형회귀"
   ]
  },
  {
   "cell_type": "code",
   "execution_count": null,
   "metadata": {
    "id": "2dCyDgV5T-7D"
   },
   "outputs": [],
   "source": []
  },
  {
   "cell_type": "code",
   "execution_count": null,
   "metadata": {
    "id": "I7zwA7qwT-3i"
   },
   "outputs": [],
   "source": []
  },
  {
   "cell_type": "code",
   "execution_count": null,
   "metadata": {
    "id": "TqRy6JYF9zMf"
   },
   "outputs": [],
   "source": []
  },
  {
   "cell_type": "code",
   "execution_count": null,
   "metadata": {
    "id": "Tt_CsJ6T9zJY"
   },
   "outputs": [],
   "source": []
  },
  {
   "cell_type": "code",
   "execution_count": null,
   "metadata": {
    "id": "LdoPzeJv9zGU"
   },
   "outputs": [],
   "source": []
  },
  {
   "cell_type": "markdown",
   "metadata": {
    "id": "-pQeheK29zyf"
   },
   "source": [
    "### (2) KNN"
   ]
  },
  {
   "cell_type": "code",
   "execution_count": null,
   "metadata": {
    "id": "6R_IYCt191Rs"
   },
   "outputs": [],
   "source": []
  },
  {
   "cell_type": "code",
   "execution_count": null,
   "metadata": {
    "id": "Fqw8rhdU92gM"
   },
   "outputs": [],
   "source": []
  },
  {
   "cell_type": "code",
   "execution_count": null,
   "metadata": {
    "id": "KP1zrHxr92gM"
   },
   "outputs": [],
   "source": []
  },
  {
   "cell_type": "code",
   "execution_count": null,
   "metadata": {
    "id": "4oUS_S8i92gM"
   },
   "outputs": [],
   "source": []
  },
  {
   "cell_type": "markdown",
   "metadata": {
    "id": "I1UJt88093lc"
   },
   "source": [
    "### (3) Decision Tree"
   ]
  },
  {
   "cell_type": "code",
   "execution_count": null,
   "metadata": {
    "id": "SqztoUL793ld"
   },
   "outputs": [],
   "source": []
  },
  {
   "cell_type": "code",
   "execution_count": null,
   "metadata": {
    "id": "xlBWNesJ93le"
   },
   "outputs": [],
   "source": []
  },
  {
   "cell_type": "code",
   "execution_count": null,
   "metadata": {
    "id": "jWTYgWlU93le"
   },
   "outputs": [],
   "source": []
  },
  {
   "cell_type": "code",
   "execution_count": null,
   "metadata": {
    "id": "C3_GltND93le"
   },
   "outputs": [],
   "source": []
  },
  {
   "cell_type": "markdown",
   "metadata": {
    "id": "uM5e7Fsx93w5"
   },
   "source": [
    "### (4) SVM\n",
    "* svm은 모델링 시간이 오래 걸립니다."
   ]
  },
  {
   "cell_type": "code",
   "execution_count": null,
   "metadata": {
    "id": "Eeby65ih93w6"
   },
   "outputs": [],
   "source": []
  },
  {
   "cell_type": "code",
   "execution_count": null,
   "metadata": {
    "id": "-swDU9_K93w6"
   },
   "outputs": [],
   "source": []
  },
  {
   "cell_type": "code",
   "execution_count": null,
   "metadata": {
    "id": "qH4Jx58593w6"
   },
   "outputs": [],
   "source": []
  },
  {
   "cell_type": "code",
   "execution_count": null,
   "metadata": {
    "id": "5wDw5bN093w6"
   },
   "outputs": [],
   "source": []
  },
  {
   "cell_type": "markdown",
   "metadata": {
    "id": "joWp2zqv934m"
   },
   "source": [
    "### (5) Random Forest"
   ]
  },
  {
   "cell_type": "code",
   "execution_count": null,
   "metadata": {
    "id": "RrO0F3uT934n"
   },
   "outputs": [],
   "source": []
  },
  {
   "cell_type": "code",
   "execution_count": null,
   "metadata": {
    "id": "8uqGRT6c934o"
   },
   "outputs": [],
   "source": []
  },
  {
   "cell_type": "code",
   "execution_count": null,
   "metadata": {
    "id": "oKm_jqEi934p"
   },
   "outputs": [],
   "source": []
  },
  {
   "cell_type": "code",
   "execution_count": null,
   "metadata": {
    "id": "1nhQL2eZ934p"
   },
   "outputs": [],
   "source": []
  },
  {
   "cell_type": "markdown",
   "metadata": {
    "id": "vubu1Htf-GdY"
   },
   "source": [
    "### (6) XGB"
   ]
  },
  {
   "cell_type": "code",
   "execution_count": null,
   "metadata": {
    "id": "NPC4WDGc-GdZ"
   },
   "outputs": [],
   "source": []
  },
  {
   "cell_type": "code",
   "execution_count": null,
   "metadata": {
    "id": "9ruurfMv-Gda"
   },
   "outputs": [],
   "source": []
  },
  {
   "cell_type": "code",
   "execution_count": null,
   "metadata": {
    "id": "8N6kz5lB-Gda"
   },
   "outputs": [],
   "source": []
  },
  {
   "cell_type": "code",
   "execution_count": null,
   "metadata": {
    "id": "wv3p1eVq-Gda"
   },
   "outputs": [],
   "source": []
  },
  {
   "cell_type": "markdown",
   "metadata": {
    "id": "YZ_gGPqK-Jw0"
   },
   "source": [
    "### (7) SARIMAX"
   ]
  },
  {
   "cell_type": "code",
   "execution_count": null,
   "metadata": {
    "id": "Ix_xsSLv-Jw1"
   },
   "outputs": [],
   "source": []
  },
  {
   "cell_type": "code",
   "execution_count": null,
   "metadata": {
    "id": "CNZjAf5r-Jw1"
   },
   "outputs": [],
   "source": []
  },
  {
   "cell_type": "code",
   "execution_count": null,
   "metadata": {
    "id": "jiSMlPWT-Jw1"
   },
   "outputs": [],
   "source": []
  },
  {
   "cell_type": "code",
   "execution_count": null,
   "metadata": {
    "id": "7SkTxQJ8-Jw1"
   },
   "outputs": [],
   "source": []
  },
  {
   "cell_type": "markdown",
   "metadata": {
    "id": "_e288cfp_zKW"
   },
   "source": [
    "### (8) Deep Learning\n",
    "* 딥러닝 모델링은 이번 머신러닝 과정 안에 포함되지 않습니다. 추후에 배우신 다음에 시도해보세요.\n",
    "* 시도해볼 만한 방식\n",
    "    * DNN\n",
    "    * CNN(Conv1d)\n",
    "    * RNN(LSTM)"
   ]
  },
  {
   "cell_type": "code",
   "execution_count": null,
   "metadata": {
    "id": "PAD3QVIt_zKm"
   },
   "outputs": [],
   "source": []
  },
  {
   "cell_type": "code",
   "execution_count": null,
   "metadata": {
    "id": "SwyLjcst_zKm"
   },
   "outputs": [],
   "source": []
  },
  {
   "cell_type": "code",
   "execution_count": null,
   "metadata": {
    "id": "pAsQRYAG_zKn"
   },
   "outputs": [],
   "source": []
  },
  {
   "cell_type": "code",
   "execution_count": null,
   "metadata": {
    "id": "kBhLK3YV_zKn"
   },
   "outputs": [],
   "source": []
  },
  {
   "cell_type": "markdown",
   "metadata": {
    "id": "AXiP9FABBrNg"
   },
   "source": [
    "### (9) 그외 추가 알고리즘"
   ]
  },
  {
   "cell_type": "code",
   "execution_count": null,
   "metadata": {
    "id": "nO5NGZvZBrNh"
   },
   "outputs": [],
   "source": []
  },
  {
   "cell_type": "code",
   "execution_count": null,
   "metadata": {
    "id": "oFKgNLZ0BrNh"
   },
   "outputs": [],
   "source": []
  },
  {
   "cell_type": "code",
   "execution_count": null,
   "metadata": {
    "id": "mtakb-AWBrNh"
   },
   "outputs": [],
   "source": []
  },
  {
   "cell_type": "code",
   "execution_count": null,
   "metadata": {
    "id": "opOftd3YBrNh"
   },
   "outputs": [],
   "source": []
  }
 ],
 "metadata": {
  "colab": {
   "collapsed_sections": [],
   "name": "[추가1]복습문제_따릉이.ipynb",
   "provenance": []
  },
  "kernelspec": {
   "display_name": "Python 3",
   "language": "python",
   "name": "python3"
  },
  "language_info": {
   "codemirror_mode": {
    "name": "ipython",
    "version": 3
   },
   "file_extension": ".py",
   "mimetype": "text/x-python",
   "name": "python",
   "nbconvert_exporter": "python",
   "pygments_lexer": "ipython3",
   "version": "3.8.8"
  }
 },
 "nbformat": 4,
 "nbformat_minor": 4
}
