{
 "cells": [
  {
   "cell_type": "markdown",
   "metadata": {
    "id": "cVB9pY-v8uv5"
   },
   "source": [
    "# K-Nearest Neighbors\n"
   ]
  },
  {
   "cell_type": "markdown",
   "metadata": {
    "id": "jnCv9u_Wy9e1"
   },
   "source": [
    "## 1.환경준비"
   ]
  },
  {
   "cell_type": "markdown",
   "metadata": {
    "id": "O1uL0UIEzBPw"
   },
   "source": [
    "### (1) Import"
   ]
  },
  {
   "cell_type": "code",
   "execution_count": 1,
   "metadata": {
    "id": "GVvCef6A8uv6"
   },
   "outputs": [],
   "source": [
    "#라이브러리들을 불러오자.\n",
    "import numpy as np\n",
    "import pandas as pd\n",
    "import matplotlib.pyplot as plt\n",
    "\n",
    "from sklearn.model_selection import train_test_split"
   ]
  },
  {
   "cell_type": "markdown",
   "metadata": {
    "id": "VHy5s1OOzItm"
   },
   "source": [
    "### (2) data loading"
   ]
  },
  {
   "cell_type": "code",
   "execution_count": 2,
   "metadata": {
    "id": "petnBApUBvYf"
   },
   "outputs": [],
   "source": [
    "path = 'https://raw.githubusercontent.com/DA4BAM/dataset/master/boston.csv'\n",
    "data = pd.read_csv(path)"
   ]
  },
  {
   "cell_type": "markdown",
   "metadata": {
    "id": "W07fwF8zeix4"
   },
   "source": [
    "|\t변수\t|\t설명\t|\n",
    "|\t----\t|\t----\t|\n",
    "|\t**medv**\t|\t**타운별 집값(중위수), target**\t|\n",
    "|\tcrim\t|\t범죄율\t|\n",
    "|\tzn\t|\t25,000 평방피트를 초과한 거주지역 비율\t|\n",
    "|\tindus\t|\t비소매상업지역 면적 비율, 편의시설(관공서, 주요 시설)\t|\n",
    "|\tchas\t|\t찰스강변 위치(범주 : 강변1, 아니면 0)\t|\n",
    "|\tnox\t|\t일산화질소 농도\t|\n",
    "|\trm\t|\t주택당 방 수\t|\n",
    "|\tage\t|\t1940년 이전에 건축된 주택의 비율\t|\n",
    "|\tdis\t|\t직업센터의 거리\t|\n",
    "|\trad\t|\t방사형 고속도로까지의 거리\t|\n",
    "|\ttax\t|\t재산세율\t|\n",
    "|\tptratio\t|\t학생/교사 비율\t|\n",
    "|\tblack\t|\t인구 중 흑인 비율\t|\n",
    "|\tlstat\t|\t인구 중 하위 계층 비율\t|\n"
   ]
  },
  {
   "cell_type": "markdown",
   "metadata": {
    "id": "ZJOddHq2zfcU"
   },
   "source": [
    "## 2.데이터 이해"
   ]
  },
  {
   "cell_type": "markdown",
   "metadata": {
    "id": "Vqr7zY5r8uwC"
   },
   "source": [
    "### (1) 둘러보기"
   ]
  },
  {
   "cell_type": "code",
   "execution_count": 3,
   "metadata": {
    "id": "Wzs1nS348uwE"
   },
   "outputs": [
    {
     "data": {
      "text/html": [
       "<div>\n",
       "<style scoped>\n",
       "    .dataframe tbody tr th:only-of-type {\n",
       "        vertical-align: middle;\n",
       "    }\n",
       "\n",
       "    .dataframe tbody tr th {\n",
       "        vertical-align: top;\n",
       "    }\n",
       "\n",
       "    .dataframe thead th {\n",
       "        text-align: right;\n",
       "    }\n",
       "</style>\n",
       "<table border=\"1\" class=\"dataframe\">\n",
       "  <thead>\n",
       "    <tr style=\"text-align: right;\">\n",
       "      <th></th>\n",
       "      <th>crim</th>\n",
       "      <th>zn</th>\n",
       "      <th>indus</th>\n",
       "      <th>chas</th>\n",
       "      <th>nox</th>\n",
       "      <th>rm</th>\n",
       "      <th>age</th>\n",
       "      <th>dis</th>\n",
       "      <th>rad</th>\n",
       "      <th>tax</th>\n",
       "      <th>ptratio</th>\n",
       "      <th>black</th>\n",
       "      <th>lstat</th>\n",
       "      <th>medv</th>\n",
       "    </tr>\n",
       "  </thead>\n",
       "  <tbody>\n",
       "    <tr>\n",
       "      <th>0</th>\n",
       "      <td>0.00632</td>\n",
       "      <td>18.0</td>\n",
       "      <td>2.31</td>\n",
       "      <td>0</td>\n",
       "      <td>0.538</td>\n",
       "      <td>6.575</td>\n",
       "      <td>65.2</td>\n",
       "      <td>4.0900</td>\n",
       "      <td>1</td>\n",
       "      <td>296</td>\n",
       "      <td>15.3</td>\n",
       "      <td>396.90</td>\n",
       "      <td>4.98</td>\n",
       "      <td>24.0</td>\n",
       "    </tr>\n",
       "    <tr>\n",
       "      <th>1</th>\n",
       "      <td>0.02731</td>\n",
       "      <td>0.0</td>\n",
       "      <td>7.07</td>\n",
       "      <td>0</td>\n",
       "      <td>0.469</td>\n",
       "      <td>6.421</td>\n",
       "      <td>78.9</td>\n",
       "      <td>4.9671</td>\n",
       "      <td>2</td>\n",
       "      <td>242</td>\n",
       "      <td>17.8</td>\n",
       "      <td>396.90</td>\n",
       "      <td>9.14</td>\n",
       "      <td>21.6</td>\n",
       "    </tr>\n",
       "    <tr>\n",
       "      <th>2</th>\n",
       "      <td>0.02729</td>\n",
       "      <td>0.0</td>\n",
       "      <td>7.07</td>\n",
       "      <td>0</td>\n",
       "      <td>0.469</td>\n",
       "      <td>7.185</td>\n",
       "      <td>61.1</td>\n",
       "      <td>4.9671</td>\n",
       "      <td>2</td>\n",
       "      <td>242</td>\n",
       "      <td>17.8</td>\n",
       "      <td>392.83</td>\n",
       "      <td>4.03</td>\n",
       "      <td>34.7</td>\n",
       "    </tr>\n",
       "    <tr>\n",
       "      <th>3</th>\n",
       "      <td>0.03237</td>\n",
       "      <td>0.0</td>\n",
       "      <td>2.18</td>\n",
       "      <td>0</td>\n",
       "      <td>0.458</td>\n",
       "      <td>6.998</td>\n",
       "      <td>45.8</td>\n",
       "      <td>6.0622</td>\n",
       "      <td>3</td>\n",
       "      <td>222</td>\n",
       "      <td>18.7</td>\n",
       "      <td>394.63</td>\n",
       "      <td>2.94</td>\n",
       "      <td>33.4</td>\n",
       "    </tr>\n",
       "    <tr>\n",
       "      <th>4</th>\n",
       "      <td>0.06905</td>\n",
       "      <td>0.0</td>\n",
       "      <td>2.18</td>\n",
       "      <td>0</td>\n",
       "      <td>0.458</td>\n",
       "      <td>7.147</td>\n",
       "      <td>54.2</td>\n",
       "      <td>6.0622</td>\n",
       "      <td>3</td>\n",
       "      <td>222</td>\n",
       "      <td>18.7</td>\n",
       "      <td>396.90</td>\n",
       "      <td>5.33</td>\n",
       "      <td>36.2</td>\n",
       "    </tr>\n",
       "  </tbody>\n",
       "</table>\n",
       "</div>"
      ],
      "text/plain": [
       "      crim    zn  indus  chas    nox     rm   age     dis  rad  tax  ptratio  \\\n",
       "0  0.00632  18.0   2.31     0  0.538  6.575  65.2  4.0900    1  296     15.3   \n",
       "1  0.02731   0.0   7.07     0  0.469  6.421  78.9  4.9671    2  242     17.8   \n",
       "2  0.02729   0.0   7.07     0  0.469  7.185  61.1  4.9671    2  242     17.8   \n",
       "3  0.03237   0.0   2.18     0  0.458  6.998  45.8  6.0622    3  222     18.7   \n",
       "4  0.06905   0.0   2.18     0  0.458  7.147  54.2  6.0622    3  222     18.7   \n",
       "\n",
       "    black  lstat  medv  \n",
       "0  396.90   4.98  24.0  \n",
       "1  396.90   9.14  21.6  \n",
       "2  392.83   4.03  34.7  \n",
       "3  394.63   2.94  33.4  \n",
       "4  396.90   5.33  36.2  "
      ]
     },
     "execution_count": 3,
     "metadata": {},
     "output_type": "execute_result"
    }
   ],
   "source": [
    "# 상/하위 몇개 행을 살펴 봅시다.\n",
    "data.head()"
   ]
  },
  {
   "cell_type": "code",
   "execution_count": 4,
   "metadata": {
    "id": "1ZsXdcfp8uwI"
   },
   "outputs": [
    {
     "name": "stdout",
     "output_type": "stream",
     "text": [
      "<class 'pandas.core.frame.DataFrame'>\n",
      "RangeIndex: 506 entries, 0 to 505\n",
      "Data columns (total 14 columns):\n",
      " #   Column   Non-Null Count  Dtype  \n",
      "---  ------   --------------  -----  \n",
      " 0   crim     506 non-null    float64\n",
      " 1   zn       506 non-null    float64\n",
      " 2   indus    506 non-null    float64\n",
      " 3   chas     506 non-null    int64  \n",
      " 4   nox      506 non-null    float64\n",
      " 5   rm       506 non-null    float64\n",
      " 6   age      506 non-null    float64\n",
      " 7   dis      506 non-null    float64\n",
      " 8   rad      506 non-null    int64  \n",
      " 9   tax      506 non-null    int64  \n",
      " 10  ptratio  506 non-null    float64\n",
      " 11  black    506 non-null    float64\n",
      " 12  lstat    506 non-null    float64\n",
      " 13  medv     506 non-null    float64\n",
      "dtypes: float64(11), int64(3)\n",
      "memory usage: 55.5 KB\n"
     ]
    }
   ],
   "source": [
    "# 각 칼럼의 타입을 살펴 봅시다.\n",
    "data.info()"
   ]
  },
  {
   "cell_type": "markdown",
   "metadata": {
    "id": "wW0d0eGmCYJM"
   },
   "source": [
    "## 3.데이터 준비"
   ]
  },
  {
   "cell_type": "markdown",
   "metadata": {
    "id": "y9Q6jR6OZjUk"
   },
   "source": [
    "### (1) 데이터 정리"
   ]
  },
  {
   "cell_type": "code",
   "execution_count": null,
   "metadata": {
    "id": "xkc_d-sFCMBo"
   },
   "outputs": [],
   "source": [
    "data.head()"
   ]
  },
  {
   "cell_type": "code",
   "execution_count": 5,
   "metadata": {
    "id": "5iTdsYqWsjoG"
   },
   "outputs": [],
   "source": [
    "data.drop(['black'], axis = 1, inplace = True)"
   ]
  },
  {
   "cell_type": "markdown",
   "metadata": {
    "id": "WpJEGpUuuVWm"
   },
   "source": [
    "### (2) 데이터분할1 : x, y 나누기"
   ]
  },
  {
   "cell_type": "code",
   "execution_count": 6,
   "metadata": {
    "id": "N-4Msv8VsQ3R"
   },
   "outputs": [],
   "source": [
    "target = 'medv'\n",
    "x = data.drop(target, axis=1)\n",
    "y = data.loc[:, target]"
   ]
  },
  {
   "cell_type": "markdown",
   "metadata": {
    "id": "mp_5volyuaA1"
   },
   "source": [
    "### (3) NA 조치"
   ]
  },
  {
   "cell_type": "markdown",
   "metadata": {
    "id": "nOF9fSLQugGf"
   },
   "source": [
    "### (4) 가변수화"
   ]
  },
  {
   "cell_type": "markdown",
   "metadata": {
    "id": "VBwpOKgkf5Am"
   },
   "source": [
    "### (5) 데이터분할2 : train : validation 나누기"
   ]
  },
  {
   "cell_type": "code",
   "execution_count": 7,
   "metadata": {
    "id": "1iHmTnHCgBw5"
   },
   "outputs": [],
   "source": [
    "x_train, x_val, y_train, y_val = train_test_split(x, y, test_size = .3, random_state = 2022)"
   ]
  },
  {
   "cell_type": "markdown",
   "metadata": {
    "id": "59bBv0a8heYh"
   },
   "source": [
    "### (6) Scaling\n",
    "KNN 알고리즘을 적용하기 위해서는 스케일링을 해야 합니다."
   ]
  },
  {
   "cell_type": "code",
   "execution_count": 8,
   "metadata": {
    "id": "RuDcjwhwSo5y"
   },
   "outputs": [],
   "source": [
    "from sklearn.preprocessing import MinMaxScaler # 0~1 값으로 변환\n",
    "\n",
    "scaler = MinMaxScaler() # 선언\n",
    "x_train_s1 = scaler.fit_transform(x_train) # fit_transform : fit + transform = 기준을 찾고, 적용\n",
    "x_val_s1 = scaler.transform(x_val) # 적용만, "
   ]
  },
  {
   "cell_type": "code",
   "execution_count": 9,
   "metadata": {
    "id": "t6qjWXE3Prtd"
   },
   "outputs": [],
   "source": [
    "from sklearn.preprocessing import StandardScaler\n",
    "\n",
    "scaler2 = StandardScaler()\n",
    "x_train_s2 = scaler2.fit_transform(x_train)\n",
    "x_val_s2 = scaler2.transform(x_val)"
   ]
  },
  {
   "cell_type": "code",
   "execution_count": 10,
   "metadata": {
    "id": "wbJ-rUg_P8KS"
   },
   "outputs": [],
   "source": [
    "x_train_s1 = pd.DataFrame(x_train_s1, columns = list(x))\n",
    "x_train_s2 = pd.DataFrame(x_train_s2, columns = list(x))"
   ]
  },
  {
   "cell_type": "code",
   "execution_count": 12,
   "metadata": {
    "id": "-7YX4ni_QoPx"
   },
   "outputs": [
    {
     "data": {
      "text/html": [
       "<div>\n",
       "<style scoped>\n",
       "    .dataframe tbody tr th:only-of-type {\n",
       "        vertical-align: middle;\n",
       "    }\n",
       "\n",
       "    .dataframe tbody tr th {\n",
       "        vertical-align: top;\n",
       "    }\n",
       "\n",
       "    .dataframe thead th {\n",
       "        text-align: right;\n",
       "    }\n",
       "</style>\n",
       "<table border=\"1\" class=\"dataframe\">\n",
       "  <thead>\n",
       "    <tr style=\"text-align: right;\">\n",
       "      <th></th>\n",
       "      <th>crim</th>\n",
       "      <th>zn</th>\n",
       "      <th>indus</th>\n",
       "      <th>chas</th>\n",
       "      <th>nox</th>\n",
       "      <th>rm</th>\n",
       "      <th>age</th>\n",
       "      <th>dis</th>\n",
       "      <th>rad</th>\n",
       "      <th>tax</th>\n",
       "      <th>ptratio</th>\n",
       "      <th>lstat</th>\n",
       "    </tr>\n",
       "  </thead>\n",
       "  <tbody>\n",
       "    <tr>\n",
       "      <th>count</th>\n",
       "      <td>354.000000</td>\n",
       "      <td>354.000000</td>\n",
       "      <td>354.000000</td>\n",
       "      <td>354.000000</td>\n",
       "      <td>354.000000</td>\n",
       "      <td>354.000000</td>\n",
       "      <td>354.000000</td>\n",
       "      <td>354.000000</td>\n",
       "      <td>354.000000</td>\n",
       "      <td>354.000000</td>\n",
       "      <td>354.000000</td>\n",
       "      <td>354.000000</td>\n",
       "    </tr>\n",
       "    <tr>\n",
       "      <th>mean</th>\n",
       "      <td>3.204705</td>\n",
       "      <td>11.478814</td>\n",
       "      <td>10.756073</td>\n",
       "      <td>0.070621</td>\n",
       "      <td>0.548530</td>\n",
       "      <td>6.309133</td>\n",
       "      <td>67.485311</td>\n",
       "      <td>3.900144</td>\n",
       "      <td>9.039548</td>\n",
       "      <td>397.790960</td>\n",
       "      <td>18.373164</td>\n",
       "      <td>12.129209</td>\n",
       "    </tr>\n",
       "    <tr>\n",
       "      <th>std</th>\n",
       "      <td>8.554879</td>\n",
       "      <td>22.969625</td>\n",
       "      <td>6.894126</td>\n",
       "      <td>0.256554</td>\n",
       "      <td>0.115102</td>\n",
       "      <td>0.689033</td>\n",
       "      <td>27.894307</td>\n",
       "      <td>2.113877</td>\n",
       "      <td>8.413440</td>\n",
       "      <td>163.905474</td>\n",
       "      <td>2.191546</td>\n",
       "      <td>6.739158</td>\n",
       "    </tr>\n",
       "    <tr>\n",
       "      <th>min</th>\n",
       "      <td>0.006320</td>\n",
       "      <td>0.000000</td>\n",
       "      <td>0.460000</td>\n",
       "      <td>0.000000</td>\n",
       "      <td>0.389000</td>\n",
       "      <td>3.863000</td>\n",
       "      <td>6.000000</td>\n",
       "      <td>1.129600</td>\n",
       "      <td>1.000000</td>\n",
       "      <td>188.000000</td>\n",
       "      <td>12.600000</td>\n",
       "      <td>1.730000</td>\n",
       "    </tr>\n",
       "    <tr>\n",
       "      <th>25%</th>\n",
       "      <td>0.071848</td>\n",
       "      <td>0.000000</td>\n",
       "      <td>4.935000</td>\n",
       "      <td>0.000000</td>\n",
       "      <td>0.448000</td>\n",
       "      <td>5.889500</td>\n",
       "      <td>42.950000</td>\n",
       "      <td>2.168250</td>\n",
       "      <td>4.000000</td>\n",
       "      <td>277.000000</td>\n",
       "      <td>17.000000</td>\n",
       "      <td>6.735000</td>\n",
       "    </tr>\n",
       "    <tr>\n",
       "      <th>50%</th>\n",
       "      <td>0.219655</td>\n",
       "      <td>0.000000</td>\n",
       "      <td>8.350000</td>\n",
       "      <td>0.000000</td>\n",
       "      <td>0.524000</td>\n",
       "      <td>6.209000</td>\n",
       "      <td>74.850000</td>\n",
       "      <td>3.361800</td>\n",
       "      <td>5.000000</td>\n",
       "      <td>329.500000</td>\n",
       "      <td>18.850000</td>\n",
       "      <td>10.925000</td>\n",
       "    </tr>\n",
       "    <tr>\n",
       "      <th>75%</th>\n",
       "      <td>2.588280</td>\n",
       "      <td>20.000000</td>\n",
       "      <td>18.100000</td>\n",
       "      <td>0.000000</td>\n",
       "      <td>0.614000</td>\n",
       "      <td>6.618750</td>\n",
       "      <td>93.875000</td>\n",
       "      <td>5.226975</td>\n",
       "      <td>8.000000</td>\n",
       "      <td>437.000000</td>\n",
       "      <td>20.200000</td>\n",
       "      <td>15.820000</td>\n",
       "    </tr>\n",
       "    <tr>\n",
       "      <th>max</th>\n",
       "      <td>88.976200</td>\n",
       "      <td>100.000000</td>\n",
       "      <td>27.740000</td>\n",
       "      <td>1.000000</td>\n",
       "      <td>0.871000</td>\n",
       "      <td>8.725000</td>\n",
       "      <td>100.000000</td>\n",
       "      <td>10.710300</td>\n",
       "      <td>24.000000</td>\n",
       "      <td>711.000000</td>\n",
       "      <td>22.000000</td>\n",
       "      <td>37.970000</td>\n",
       "    </tr>\n",
       "  </tbody>\n",
       "</table>\n",
       "</div>"
      ],
      "text/plain": [
       "             crim          zn       indus        chas         nox          rm  \\\n",
       "count  354.000000  354.000000  354.000000  354.000000  354.000000  354.000000   \n",
       "mean     3.204705   11.478814   10.756073    0.070621    0.548530    6.309133   \n",
       "std      8.554879   22.969625    6.894126    0.256554    0.115102    0.689033   \n",
       "min      0.006320    0.000000    0.460000    0.000000    0.389000    3.863000   \n",
       "25%      0.071848    0.000000    4.935000    0.000000    0.448000    5.889500   \n",
       "50%      0.219655    0.000000    8.350000    0.000000    0.524000    6.209000   \n",
       "75%      2.588280   20.000000   18.100000    0.000000    0.614000    6.618750   \n",
       "max     88.976200  100.000000   27.740000    1.000000    0.871000    8.725000   \n",
       "\n",
       "              age         dis         rad         tax     ptratio       lstat  \n",
       "count  354.000000  354.000000  354.000000  354.000000  354.000000  354.000000  \n",
       "mean    67.485311    3.900144    9.039548  397.790960   18.373164   12.129209  \n",
       "std     27.894307    2.113877    8.413440  163.905474    2.191546    6.739158  \n",
       "min      6.000000    1.129600    1.000000  188.000000   12.600000    1.730000  \n",
       "25%     42.950000    2.168250    4.000000  277.000000   17.000000    6.735000  \n",
       "50%     74.850000    3.361800    5.000000  329.500000   18.850000   10.925000  \n",
       "75%     93.875000    5.226975    8.000000  437.000000   20.200000   15.820000  \n",
       "max    100.000000   10.710300   24.000000  711.000000   22.000000   37.970000  "
      ]
     },
     "execution_count": 12,
     "metadata": {},
     "output_type": "execute_result"
    }
   ],
   "source": [
    "x_train.describe()"
   ]
  },
  {
   "cell_type": "code",
   "execution_count": 13,
   "metadata": {
    "id": "6aO4aujBQYAH"
   },
   "outputs": [
    {
     "data": {
      "text/html": [
       "<div>\n",
       "<style scoped>\n",
       "    .dataframe tbody tr th:only-of-type {\n",
       "        vertical-align: middle;\n",
       "    }\n",
       "\n",
       "    .dataframe tbody tr th {\n",
       "        vertical-align: top;\n",
       "    }\n",
       "\n",
       "    .dataframe thead th {\n",
       "        text-align: right;\n",
       "    }\n",
       "</style>\n",
       "<table border=\"1\" class=\"dataframe\">\n",
       "  <thead>\n",
       "    <tr style=\"text-align: right;\">\n",
       "      <th></th>\n",
       "      <th>crim</th>\n",
       "      <th>zn</th>\n",
       "      <th>indus</th>\n",
       "      <th>chas</th>\n",
       "      <th>nox</th>\n",
       "      <th>rm</th>\n",
       "      <th>age</th>\n",
       "      <th>dis</th>\n",
       "      <th>rad</th>\n",
       "      <th>tax</th>\n",
       "      <th>ptratio</th>\n",
       "      <th>lstat</th>\n",
       "    </tr>\n",
       "  </thead>\n",
       "  <tbody>\n",
       "    <tr>\n",
       "      <th>count</th>\n",
       "      <td>354.000000</td>\n",
       "      <td>354.000000</td>\n",
       "      <td>354.000000</td>\n",
       "      <td>354.000000</td>\n",
       "      <td>354.000000</td>\n",
       "      <td>354.000000</td>\n",
       "      <td>354.000000</td>\n",
       "      <td>354.000000</td>\n",
       "      <td>354.000000</td>\n",
       "      <td>354.000000</td>\n",
       "      <td>354.000000</td>\n",
       "      <td>354.000000</td>\n",
       "    </tr>\n",
       "    <tr>\n",
       "      <th>mean</th>\n",
       "      <td>0.035949</td>\n",
       "      <td>0.114788</td>\n",
       "      <td>0.377422</td>\n",
       "      <td>0.070621</td>\n",
       "      <td>0.330976</td>\n",
       "      <td>0.503112</td>\n",
       "      <td>0.654099</td>\n",
       "      <td>0.289180</td>\n",
       "      <td>0.349546</td>\n",
       "      <td>0.401130</td>\n",
       "      <td>0.614166</td>\n",
       "      <td>0.286954</td>\n",
       "    </tr>\n",
       "    <tr>\n",
       "      <th>std</th>\n",
       "      <td>0.096155</td>\n",
       "      <td>0.229696</td>\n",
       "      <td>0.252717</td>\n",
       "      <td>0.256554</td>\n",
       "      <td>0.238801</td>\n",
       "      <td>0.141718</td>\n",
       "      <td>0.296748</td>\n",
       "      <td>0.220639</td>\n",
       "      <td>0.365802</td>\n",
       "      <td>0.313395</td>\n",
       "      <td>0.233143</td>\n",
       "      <td>0.185959</td>\n",
       "    </tr>\n",
       "    <tr>\n",
       "      <th>min</th>\n",
       "      <td>0.000000</td>\n",
       "      <td>0.000000</td>\n",
       "      <td>0.000000</td>\n",
       "      <td>0.000000</td>\n",
       "      <td>0.000000</td>\n",
       "      <td>0.000000</td>\n",
       "      <td>0.000000</td>\n",
       "      <td>0.000000</td>\n",
       "      <td>0.000000</td>\n",
       "      <td>0.000000</td>\n",
       "      <td>0.000000</td>\n",
       "      <td>0.000000</td>\n",
       "    </tr>\n",
       "    <tr>\n",
       "      <th>25%</th>\n",
       "      <td>0.000737</td>\n",
       "      <td>0.000000</td>\n",
       "      <td>0.164040</td>\n",
       "      <td>0.000000</td>\n",
       "      <td>0.122407</td>\n",
       "      <td>0.416804</td>\n",
       "      <td>0.393085</td>\n",
       "      <td>0.108411</td>\n",
       "      <td>0.130435</td>\n",
       "      <td>0.170172</td>\n",
       "      <td>0.468085</td>\n",
       "      <td>0.138107</td>\n",
       "    </tr>\n",
       "    <tr>\n",
       "      <th>50%</th>\n",
       "      <td>0.002398</td>\n",
       "      <td>0.000000</td>\n",
       "      <td>0.289223</td>\n",
       "      <td>0.000000</td>\n",
       "      <td>0.280083</td>\n",
       "      <td>0.482517</td>\n",
       "      <td>0.732447</td>\n",
       "      <td>0.232989</td>\n",
       "      <td>0.173913</td>\n",
       "      <td>0.270554</td>\n",
       "      <td>0.664894</td>\n",
       "      <td>0.253725</td>\n",
       "    </tr>\n",
       "    <tr>\n",
       "      <th>75%</th>\n",
       "      <td>0.029021</td>\n",
       "      <td>0.200000</td>\n",
       "      <td>0.646628</td>\n",
       "      <td>0.000000</td>\n",
       "      <td>0.466805</td>\n",
       "      <td>0.566794</td>\n",
       "      <td>0.934840</td>\n",
       "      <td>0.427670</td>\n",
       "      <td>0.304348</td>\n",
       "      <td>0.476099</td>\n",
       "      <td>0.808511</td>\n",
       "      <td>0.388797</td>\n",
       "    </tr>\n",
       "    <tr>\n",
       "      <th>max</th>\n",
       "      <td>1.000000</td>\n",
       "      <td>1.000000</td>\n",
       "      <td>1.000000</td>\n",
       "      <td>1.000000</td>\n",
       "      <td>1.000000</td>\n",
       "      <td>1.000000</td>\n",
       "      <td>1.000000</td>\n",
       "      <td>1.000000</td>\n",
       "      <td>1.000000</td>\n",
       "      <td>1.000000</td>\n",
       "      <td>1.000000</td>\n",
       "      <td>1.000000</td>\n",
       "    </tr>\n",
       "  </tbody>\n",
       "</table>\n",
       "</div>"
      ],
      "text/plain": [
       "             crim          zn       indus        chas         nox          rm  \\\n",
       "count  354.000000  354.000000  354.000000  354.000000  354.000000  354.000000   \n",
       "mean     0.035949    0.114788    0.377422    0.070621    0.330976    0.503112   \n",
       "std      0.096155    0.229696    0.252717    0.256554    0.238801    0.141718   \n",
       "min      0.000000    0.000000    0.000000    0.000000    0.000000    0.000000   \n",
       "25%      0.000737    0.000000    0.164040    0.000000    0.122407    0.416804   \n",
       "50%      0.002398    0.000000    0.289223    0.000000    0.280083    0.482517   \n",
       "75%      0.029021    0.200000    0.646628    0.000000    0.466805    0.566794   \n",
       "max      1.000000    1.000000    1.000000    1.000000    1.000000    1.000000   \n",
       "\n",
       "              age         dis         rad         tax     ptratio       lstat  \n",
       "count  354.000000  354.000000  354.000000  354.000000  354.000000  354.000000  \n",
       "mean     0.654099    0.289180    0.349546    0.401130    0.614166    0.286954  \n",
       "std      0.296748    0.220639    0.365802    0.313395    0.233143    0.185959  \n",
       "min      0.000000    0.000000    0.000000    0.000000    0.000000    0.000000  \n",
       "25%      0.393085    0.108411    0.130435    0.170172    0.468085    0.138107  \n",
       "50%      0.732447    0.232989    0.173913    0.270554    0.664894    0.253725  \n",
       "75%      0.934840    0.427670    0.304348    0.476099    0.808511    0.388797  \n",
       "max      1.000000    1.000000    1.000000    1.000000    1.000000    1.000000  "
      ]
     },
     "execution_count": 13,
     "metadata": {},
     "output_type": "execute_result"
    }
   ],
   "source": [
    "x_train_s1.describe()"
   ]
  },
  {
   "cell_type": "code",
   "execution_count": 14,
   "metadata": {
    "id": "MkTeVbCxQahI"
   },
   "outputs": [
    {
     "data": {
      "text/html": [
       "<div>\n",
       "<style scoped>\n",
       "    .dataframe tbody tr th:only-of-type {\n",
       "        vertical-align: middle;\n",
       "    }\n",
       "\n",
       "    .dataframe tbody tr th {\n",
       "        vertical-align: top;\n",
       "    }\n",
       "\n",
       "    .dataframe thead th {\n",
       "        text-align: right;\n",
       "    }\n",
       "</style>\n",
       "<table border=\"1\" class=\"dataframe\">\n",
       "  <thead>\n",
       "    <tr style=\"text-align: right;\">\n",
       "      <th></th>\n",
       "      <th>crim</th>\n",
       "      <th>zn</th>\n",
       "      <th>indus</th>\n",
       "      <th>chas</th>\n",
       "      <th>nox</th>\n",
       "      <th>rm</th>\n",
       "      <th>age</th>\n",
       "      <th>dis</th>\n",
       "      <th>rad</th>\n",
       "      <th>tax</th>\n",
       "      <th>ptratio</th>\n",
       "      <th>lstat</th>\n",
       "    </tr>\n",
       "  </thead>\n",
       "  <tbody>\n",
       "    <tr>\n",
       "      <th>count</th>\n",
       "      <td>3.540000e+02</td>\n",
       "      <td>3.540000e+02</td>\n",
       "      <td>3.540000e+02</td>\n",
       "      <td>3.540000e+02</td>\n",
       "      <td>3.540000e+02</td>\n",
       "      <td>3.540000e+02</td>\n",
       "      <td>3.540000e+02</td>\n",
       "      <td>3.540000e+02</td>\n",
       "      <td>3.540000e+02</td>\n",
       "      <td>3.540000e+02</td>\n",
       "      <td>3.540000e+02</td>\n",
       "      <td>3.540000e+02</td>\n",
       "    </tr>\n",
       "    <tr>\n",
       "      <th>mean</th>\n",
       "      <td>-1.379938e-17</td>\n",
       "      <td>7.025140e-17</td>\n",
       "      <td>8.969598e-17</td>\n",
       "      <td>-1.332895e-17</td>\n",
       "      <td>-3.048409e-16</td>\n",
       "      <td>-6.443371e-16</td>\n",
       "      <td>-1.793920e-16</td>\n",
       "      <td>6.711518e-17</td>\n",
       "      <td>-1.129040e-17</td>\n",
       "      <td>-5.017957e-17</td>\n",
       "      <td>3.070363e-16</td>\n",
       "      <td>2.195356e-16</td>\n",
       "    </tr>\n",
       "    <tr>\n",
       "      <th>std</th>\n",
       "      <td>1.001415e+00</td>\n",
       "      <td>1.001415e+00</td>\n",
       "      <td>1.001415e+00</td>\n",
       "      <td>1.001415e+00</td>\n",
       "      <td>1.001415e+00</td>\n",
       "      <td>1.001415e+00</td>\n",
       "      <td>1.001415e+00</td>\n",
       "      <td>1.001415e+00</td>\n",
       "      <td>1.001415e+00</td>\n",
       "      <td>1.001415e+00</td>\n",
       "      <td>1.001415e+00</td>\n",
       "      <td>1.001415e+00</td>\n",
       "    </tr>\n",
       "    <tr>\n",
       "      <th>min</th>\n",
       "      <td>-3.743960e-01</td>\n",
       "      <td>-5.004462e-01</td>\n",
       "      <td>-1.495570e+00</td>\n",
       "      <td>-2.756589e-01</td>\n",
       "      <td>-1.387952e+00</td>\n",
       "      <td>-3.555120e+00</td>\n",
       "      <td>-2.207344e+00</td>\n",
       "      <td>-1.312501e+00</td>\n",
       "      <td>-9.569127e-01</td>\n",
       "      <td>-1.281763e+00</td>\n",
       "      <td>-2.638016e+00</td>\n",
       "      <td>-1.545286e+00</td>\n",
       "    </tr>\n",
       "    <tr>\n",
       "      <th>25%</th>\n",
       "      <td>-3.667255e-01</td>\n",
       "      <td>-5.004462e-01</td>\n",
       "      <td>-8.455478e-01</td>\n",
       "      <td>-2.756589e-01</td>\n",
       "      <td>-8.746373e-01</td>\n",
       "      <td>-6.098789e-01</td>\n",
       "      <td>-8.808263e-01</td>\n",
       "      <td>-8.204568e-01</td>\n",
       "      <td>-5.998357e-01</td>\n",
       "      <td>-7.379981e-01</td>\n",
       "      <td>-6.274599e-01</td>\n",
       "      <td>-8.015607e-01</td>\n",
       "    </tr>\n",
       "    <tr>\n",
       "      <th>50%</th>\n",
       "      <td>-3.494235e-01</td>\n",
       "      <td>-5.004462e-01</td>\n",
       "      <td>-3.494974e-01</td>\n",
       "      <td>-2.756589e-01</td>\n",
       "      <td>-2.134189e-01</td>\n",
       "      <td>-1.455293e-01</td>\n",
       "      <td>2.643949e-01</td>\n",
       "      <td>-2.550316e-01</td>\n",
       "      <td>-4.808100e-01</td>\n",
       "      <td>-4.172382e-01</td>\n",
       "      <td>2.178877e-01</td>\n",
       "      <td>-1.789413e-01</td>\n",
       "    </tr>\n",
       "    <tr>\n",
       "      <th>75%</th>\n",
       "      <td>-7.215742e-02</td>\n",
       "      <td>3.715014e-01</td>\n",
       "      <td>1.066752e+00</td>\n",
       "      <td>-2.756589e-01</td>\n",
       "      <td>5.696029e-01</td>\n",
       "      <td>4.499863e-01</td>\n",
       "      <td>9.473991e-01</td>\n",
       "      <td>6.285651e-01</td>\n",
       "      <td>-1.237329e-01</td>\n",
       "      <td>2.395560e-01</td>\n",
       "      <td>8.347630e-01</td>\n",
       "      <td>5.484387e-01</td>\n",
       "    </tr>\n",
       "    <tr>\n",
       "      <th>max</th>\n",
       "      <td>1.004022e+01</td>\n",
       "      <td>3.859292e+00</td>\n",
       "      <td>2.467023e+00</td>\n",
       "      <td>3.627671e+00</td>\n",
       "      <td>2.805565e+00</td>\n",
       "      <td>3.511133e+00</td>\n",
       "      <td>1.167289e+00</td>\n",
       "      <td>3.226202e+00</td>\n",
       "      <td>1.780678e+00</td>\n",
       "      <td>1.913617e+00</td>\n",
       "      <td>1.657263e+00</td>\n",
       "      <td>3.839852e+00</td>\n",
       "    </tr>\n",
       "  </tbody>\n",
       "</table>\n",
       "</div>"
      ],
      "text/plain": [
       "               crim            zn         indus          chas           nox  \\\n",
       "count  3.540000e+02  3.540000e+02  3.540000e+02  3.540000e+02  3.540000e+02   \n",
       "mean  -1.379938e-17  7.025140e-17  8.969598e-17 -1.332895e-17 -3.048409e-16   \n",
       "std    1.001415e+00  1.001415e+00  1.001415e+00  1.001415e+00  1.001415e+00   \n",
       "min   -3.743960e-01 -5.004462e-01 -1.495570e+00 -2.756589e-01 -1.387952e+00   \n",
       "25%   -3.667255e-01 -5.004462e-01 -8.455478e-01 -2.756589e-01 -8.746373e-01   \n",
       "50%   -3.494235e-01 -5.004462e-01 -3.494974e-01 -2.756589e-01 -2.134189e-01   \n",
       "75%   -7.215742e-02  3.715014e-01  1.066752e+00 -2.756589e-01  5.696029e-01   \n",
       "max    1.004022e+01  3.859292e+00  2.467023e+00  3.627671e+00  2.805565e+00   \n",
       "\n",
       "                 rm           age           dis           rad           tax  \\\n",
       "count  3.540000e+02  3.540000e+02  3.540000e+02  3.540000e+02  3.540000e+02   \n",
       "mean  -6.443371e-16 -1.793920e-16  6.711518e-17 -1.129040e-17 -5.017957e-17   \n",
       "std    1.001415e+00  1.001415e+00  1.001415e+00  1.001415e+00  1.001415e+00   \n",
       "min   -3.555120e+00 -2.207344e+00 -1.312501e+00 -9.569127e-01 -1.281763e+00   \n",
       "25%   -6.098789e-01 -8.808263e-01 -8.204568e-01 -5.998357e-01 -7.379981e-01   \n",
       "50%   -1.455293e-01  2.643949e-01 -2.550316e-01 -4.808100e-01 -4.172382e-01   \n",
       "75%    4.499863e-01  9.473991e-01  6.285651e-01 -1.237329e-01  2.395560e-01   \n",
       "max    3.511133e+00  1.167289e+00  3.226202e+00  1.780678e+00  1.913617e+00   \n",
       "\n",
       "            ptratio         lstat  \n",
       "count  3.540000e+02  3.540000e+02  \n",
       "mean   3.070363e-16  2.195356e-16  \n",
       "std    1.001415e+00  1.001415e+00  \n",
       "min   -2.638016e+00 -1.545286e+00  \n",
       "25%   -6.274599e-01 -8.015607e-01  \n",
       "50%    2.178877e-01 -1.789413e-01  \n",
       "75%    8.347630e-01  5.484387e-01  \n",
       "max    1.657263e+00  3.839852e+00  "
      ]
     },
     "execution_count": 14,
     "metadata": {},
     "output_type": "execute_result"
    }
   ],
   "source": [
    "x_train_s2.describe()"
   ]
  },
  {
   "cell_type": "markdown",
   "metadata": {
    "id": "BYr1vtpd8uw4"
   },
   "source": [
    "## 4.모델링 : KNN"
   ]
  },
  {
   "cell_type": "markdown",
   "metadata": {
    "id": "dLQUfllkSSI6"
   },
   "source": [
    "### (1) import"
   ]
  },
  {
   "cell_type": "code",
   "execution_count": 15,
   "metadata": {
    "id": "OQ0kkBXTSSI6"
   },
   "outputs": [],
   "source": [
    "# 모델링용\n",
    "from sklearn.neighbors import KNeighborsRegressor    \n",
    "\n",
    "# 회귀모델 평가용\n",
    "from sklearn.metrics import * "
   ]
  },
  {
   "cell_type": "markdown",
   "metadata": {
    "id": "G9oGL7HRSSI6"
   },
   "source": [
    "### (2) 모델선언"
   ]
  },
  {
   "cell_type": "code",
   "execution_count": 16,
   "metadata": {
    "id": "ihDs2KKFSSI7"
   },
   "outputs": [],
   "source": [
    "model = KNeighborsRegressor() # k : 기본값 5"
   ]
  },
  {
   "cell_type": "markdown",
   "metadata": {
    "id": "G4W7T4RASSI7"
   },
   "source": [
    "### (3) 모델링(학습)"
   ]
  },
  {
   "cell_type": "code",
   "execution_count": 17,
   "metadata": {
    "id": "DULJ5DQVSSI7"
   },
   "outputs": [
    {
     "data": {
      "text/plain": [
       "KNeighborsRegressor()"
      ]
     },
     "execution_count": 17,
     "metadata": {},
     "output_type": "execute_result"
    }
   ],
   "source": [
    "model.fit(x_train_s1 , y_train)"
   ]
  },
  {
   "cell_type": "markdown",
   "metadata": {
    "id": "nPYNqyI3SSI7"
   },
   "source": [
    "### (4) 검증 : 예측"
   ]
  },
  {
   "cell_type": "code",
   "execution_count": 23,
   "metadata": {
    "id": "9zS5iDSpSSI7"
   },
   "outputs": [
    {
     "name": "stderr",
     "output_type": "stream",
     "text": [
      "C:\\ProgramData\\Anaconda3\\lib\\site-packages\\sklearn\\base.py:450: UserWarning: X does not have valid feature names, but KNeighborsRegressor was fitted with feature names\n",
      "  warnings.warn(\n"
     ]
    }
   ],
   "source": [
    "pred = model.predict(x_val_s1)"
   ]
  },
  {
   "cell_type": "markdown",
   "metadata": {
    "id": "abZaORvtSSI7"
   },
   "source": [
    "### (5) 검증 : 평가"
   ]
  },
  {
   "cell_type": "code",
   "execution_count": 19,
   "metadata": {
    "id": "YD-jnB0dh35w"
   },
   "outputs": [
    {
     "data": {
      "text/plain": [
       "4.227564933050456"
      ]
     },
     "execution_count": 19,
     "metadata": {},
     "output_type": "execute_result"
    }
   ],
   "source": [
    "# RMSE\n",
    "mean_squared_error(y_val, pred, squared = False)"
   ]
  },
  {
   "cell_type": "code",
   "execution_count": 20,
   "metadata": {
    "id": "QzpuyCw-h35w"
   },
   "outputs": [
    {
     "data": {
      "text/plain": [
       "3.035"
      ]
     },
     "execution_count": 20,
     "metadata": {},
     "output_type": "execute_result"
    }
   ],
   "source": [
    "# MAE\n",
    "mean_absolute_error(y_val, pred)"
   ]
  },
  {
   "cell_type": "code",
   "execution_count": 21,
   "metadata": {
    "id": "TnTzrICJSJsA"
   },
   "outputs": [
    {
     "data": {
      "text/plain": [
       "0.16339021011462934"
      ]
     },
     "execution_count": 21,
     "metadata": {},
     "output_type": "execute_result"
    }
   ],
   "source": [
    "# MAPE : 평균 오차율\n",
    "mean_absolute_percentage_error(y_val, pred)"
   ]
  },
  {
   "cell_type": "code",
   "execution_count": 22,
   "metadata": {
    "id": "u10zTUo2TE9T"
   },
   "outputs": [
    {
     "data": {
      "text/plain": [
       "0.8366097898853706"
      ]
     },
     "execution_count": 22,
     "metadata": {},
     "output_type": "execute_result"
    }
   ],
   "source": [
    "# 1 - MAPE : 정확도\n",
    "1-mean_absolute_percentage_error(y_val, pred)"
   ]
  },
  {
   "cell_type": "markdown",
   "metadata": {
    "id": "dPODQ7HBgpU8"
   },
   "source": [
    "## 5.Hyper Parameter\n",
    "\n",
    "https://scikit-learn.org/stable/modules/generated/sklearn.neighbors.KNeighborsClassifier.html"
   ]
  },
  {
   "cell_type": "markdown",
   "metadata": {
    "id": "QuXpKpZug8av"
   },
   "source": [
    "* n_neighbors : k 의 갯수. k가 달라지면 예측결과도 달라지고, 성능도 달라집니다!\n",
    "* metric : 거리계산 방식.\n",
    "    * euclidean : 유클리디안 거리 :  sqrt(a^2 + b^2)\n",
    "    * manhattan : 맨하탄거리 : a + b"
   ]
  },
  {
   "cell_type": "code",
   "execution_count": 24,
   "metadata": {
    "id": "uBb1JWqTXdiP"
   },
   "outputs": [
    {
     "name": "stderr",
     "output_type": "stream",
     "text": [
      "C:\\ProgramData\\Anaconda3\\lib\\site-packages\\sklearn\\base.py:450: UserWarning: X does not have valid feature names, but KNeighborsRegressor was fitted with feature names\n",
      "  warnings.warn(\n"
     ]
    }
   ],
   "source": [
    "# model1 : n_neighbors = 10, metric = 'euclidean'\n",
    "model1 = KNeighborsRegressor(n_neighbors = 10, metric = 'euclidean')\n",
    "model1.fit(x_train_s1, y_train)\n",
    "pred1 = model1.predict(x_val_s1)"
   ]
  },
  {
   "cell_type": "code",
   "execution_count": 25,
   "metadata": {
    "id": "M265ZFijYZle"
   },
   "outputs": [
    {
     "name": "stderr",
     "output_type": "stream",
     "text": [
      "C:\\ProgramData\\Anaconda3\\lib\\site-packages\\sklearn\\base.py:450: UserWarning: X does not have valid feature names, but KNeighborsRegressor was fitted with feature names\n",
      "  warnings.warn(\n"
     ]
    }
   ],
   "source": [
    "# model2 : n_neighbors = 10, metric = 'manhattan'\n",
    "model2 = KNeighborsRegressor(n_neighbors = 10, metric = 'manhattan')\n",
    "model2.fit(x_train_s1, y_train)\n",
    "pred2 = model2.predict(x_val_s1)"
   ]
  },
  {
   "cell_type": "code",
   "execution_count": 26,
   "metadata": {
    "id": "thsY0_1IYnK7"
   },
   "outputs": [
    {
     "name": "stdout",
     "output_type": "stream",
     "text": [
      "metric = euclidean : rmse 4.841955074901916\n",
      "metric = manhattan : rmse 4.420933680260671\n"
     ]
    }
   ],
   "source": [
    "print(f'metric = euclidean : rmse {mean_squared_error(y_val, pred1, squared = False)}')\n",
    "print(f'metric = manhattan : rmse {mean_squared_error(y_val, pred2, squared = False)}')"
   ]
  },
  {
   "cell_type": "code",
   "execution_count": 27,
   "metadata": {
    "id": "UYdVJvCxYsff"
   },
   "outputs": [
    {
     "name": "stdout",
     "output_type": "stream",
     "text": [
      "metric = euclidean : mae 3.462763157894737\n",
      "metric = manhattan : mae 3.2408552631578953\n"
     ]
    }
   ],
   "source": [
    "print(f'metric = euclidean : mae {mean_absolute_error(y_val, pred1)}')\n",
    "print(f'metric = manhattan : mae {mean_absolute_error(y_val, pred2)}')"
   ]
  },
  {
   "cell_type": "code",
   "execution_count": 28,
   "metadata": {
    "id": "tt5AEmKNYs57"
   },
   "outputs": [
    {
     "name": "stdout",
     "output_type": "stream",
     "text": [
      "metric = euclidean : mape 0.18505949742155064\n",
      "metric = manhattan : mape 0.17819962243785456\n"
     ]
    }
   ],
   "source": [
    "print(f'metric = euclidean : mape {mean_absolute_percentage_error(y_val, pred1)}')\n",
    "print(f'metric = manhattan : mape {mean_absolute_percentage_error(y_val, pred2)}')"
   ]
  },
  {
   "cell_type": "markdown",
   "metadata": {
    "id": "z7r3eKmJSCvv"
   },
   "source": [
    "## 6.연습문제\n",
    "* 다음의 조건을 조정하며 모델을 생성하고 성능을 비교해 봅시다.\n",
    "* 조건\n",
    "    * 스케일링 데이터 : 하이퍼파라미터는 default로 두고, 스케일링 데이터만 달리하며 비교해 봅시다.\n",
    "        * 정규화 : x_train_s1, x_val_s1\n",
    "        * 표준화 : x_train_s2, x_val_s2\n",
    "    * k : \n",
    "        * k 값을 1에서 50까지 1씩 증가시켜가며 \n",
    "        * 성능 rmse, mae, mape를 구하고 최적의 k 값을 찾아 봅시다."
   ]
  },
  {
   "cell_type": "markdown",
   "metadata": {
    "id": "U2b_7nwZSm0a"
   },
   "source": [
    "### (1) 스케일링 데이터 비교."
   ]
  },
  {
   "cell_type": "code",
   "execution_count": null,
   "metadata": {
    "id": "i1x1botSkJP5"
   },
   "outputs": [],
   "source": [
    "# 정규화\n",
    "m1 = KNeighborsRegressor()\n",
    "m1.fit(x_train_s1, y_train)\n",
    "pred1 = m1.predict(x_val_s1)"
   ]
  },
  {
   "cell_type": "code",
   "execution_count": null,
   "metadata": {
    "id": "BPPo_KuskJP6"
   },
   "outputs": [],
   "source": [
    "# 표준화\n",
    "m2 = KNeighborsRegressor()\n",
    "m2.fit(x_train_s2, y_train)\n",
    "pred2 = m1.predict(x_val_s2)"
   ]
  },
  {
   "cell_type": "code",
   "execution_count": null,
   "metadata": {
    "id": "QGIAxbro4IW5"
   },
   "outputs": [],
   "source": [
    "print(f'정규화 : rmse {mean_squared_error(y_val, pred1, squared = False)}')\n",
    "print(f'표준화 : rmse {mean_squared_error(y_val, pred2, squared = False)}')"
   ]
  },
  {
   "cell_type": "code",
   "execution_count": null,
   "metadata": {
    "id": "aWz-94gA4IUC"
   },
   "outputs": [],
   "source": [
    "print(f'정규화 : mae {mean_absolute_error(y_val, pred1)}')\n",
    "print(f'표준화 : mae {mean_absolute_error(y_val, pred2)}')"
   ]
  },
  {
   "cell_type": "code",
   "execution_count": null,
   "metadata": {
    "id": "YOq1iknh4IQ1"
   },
   "outputs": [],
   "source": [
    "print(f'정규화 : mape {mean_absolute_percentage_error(y_val, pred1)}')\n",
    "print(f'표준화 : mape {mean_absolute_percentage_error(y_val, pred2)}')"
   ]
  },
  {
   "cell_type": "markdown",
   "metadata": {
    "id": "pEyC2NYcSu7E"
   },
   "source": [
    "### (2) k 값"
   ]
  },
  {
   "cell_type": "code",
   "execution_count": null,
   "metadata": {
    "id": "s8kih7ydlS0b"
   },
   "outputs": [],
   "source": [
    "k_values = range(1,51)\n",
    "rmse, mae, mape = [],[],[]\n",
    "\n",
    "for k in k_values :\n",
    "    m = KNeighborsRegressor(n_neighbors = k)\n",
    "    m.fit(x_train_s1, y_train)\n",
    "    p = m.predict(x_val_s1)\n",
    "    rmse.append(mean_squared_error(y_val, p, squared = False))\n",
    "    mae.append(mean_absolute_error(y_val, p))\n",
    "    mape.append(mean_absolute_percentage_error(y_val, p))"
   ]
  },
  {
   "cell_type": "code",
   "execution_count": null,
   "metadata": {
    "id": "ng_h5H6rmXev"
   },
   "outputs": [],
   "source": [
    "plt.figure(figsize = (20,5))\n",
    "\n",
    "plt.subplot(1,3,1)\n",
    "plt.plot(k_values, rmse, marker = 'o')\n",
    "plt.xlabel('k')\n",
    "plt.ylabel('RMSE')\n",
    "plt.grid()\n",
    "\n",
    "plt.subplot(1,3,2)\n",
    "plt.plot(k_values, mae, marker = 'o')\n",
    "plt.ylabel('MAE')\n",
    "plt.xlabel('k')\n",
    "plt.grid()\n",
    "\n",
    "plt.subplot(1,3,3)\n",
    "plt.plot(k_values, mape, marker = 'o')\n",
    "plt.ylabel('MAPE')\n",
    "plt.xlabel('k')\n",
    "plt.grid()\n",
    "\n",
    "plt.show()"
   ]
  },
  {
   "cell_type": "code",
   "execution_count": null,
   "metadata": {
    "id": "AjSkZCl74LU_"
   },
   "outputs": [],
   "source": []
  }
 ],
 "metadata": {
  "colab": {
   "collapsed_sections": [],
   "name": "03과 KNN_참조.ipynb",
   "provenance": [],
   "toc_visible": true
  },
  "kernelspec": {
   "display_name": "Python 3",
   "language": "python",
   "name": "python3"
  },
  "language_info": {
   "codemirror_mode": {
    "name": "ipython",
    "version": 3
   },
   "file_extension": ".py",
   "mimetype": "text/x-python",
   "name": "python",
   "nbconvert_exporter": "python",
   "pygments_lexer": "ipython3",
   "version": "3.8.8"
  }
 },
 "nbformat": 4,
 "nbformat_minor": 4
}
